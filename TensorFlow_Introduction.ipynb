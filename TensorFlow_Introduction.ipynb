{
  "cells": [
    {
      "cell_type": "markdown",
      "metadata": {},
      "source": [
        "# TensorFlow"
      ]
    },
    {
      "cell_type": "markdown",
      "metadata": {},
      "source": [
        "<table border=\"1\" cellpadding=\"10\" cellspacing=\"0\", >\n",
        "\n",
        "  <thead>\n",
        "          <colgroup>\n",
        "            <col span=\"1\" style=\"width: 1x;\">\n",
        "            <col span=\"1\" style=\"width: 2x;\">\n",
        "            <col span=\"1\" style=\"width: 2x;\">\n",
        "            <tr>\n",
        "            <th style=\"background-color: green\">Feature</th>\n",
        "            <th style=\"background-color: green\">TensorFlow 1.x</th>\n",
        "            <th style=\"background-color: green\">TensorFlow 2.x</th>\n",
        "    </tr>\n",
        "        </colgroup> \n",
        "\n",
        "  </thead>\n",
        "  <tbody>\n",
        "    <tr>\n",
        "      <td>Ease of Use</td>\n",
        "      <td>Complex and requires more boilerplate code.</td>\n",
        "      <td>Simplified and more user-friendly, with less boilerplate.</td>\n",
        "    </tr>\n",
        "    <tr>\n",
        "      <td>Eager Execution</td>\n",
        "      <td>Not enabled by default.</td>\n",
        "      <td>Enabled by default, allowing immediate execution of operations.</td>\n",
        "    </tr>\n",
        "    <tr>\n",
        "      <td>API Structure</td>\n",
        "      <td>Multiple APIs (tf.*, tf.layers.*, tf.contrib.*) can be confusing.</td>\n",
        "      <td>Unified API, most functionality is under the <code>tf.keras</code> namespace.</td>\n",
        "    </tr>\n",
        "    <tr>\n",
        "      <td><code>tf.Session</code></td>\n",
        "      <td>Required to execute operations (graphs) in the session.</td>\n",
        "      <td>Removed; operations run immediately without needing a session.</td>\n",
        "    </tr>\n",
        "    <tr>\n",
        "      <td>Control Flow (if, while)</td>\n",
        "      <td>Implemented using TensorFlow-specific operations (e.g., <code>tf.cond</code>, <code>tf.while_loop</code>).</td>\n",
        "      <td>Uses standard Python control flow (e.g., <code>if</code>, <code>while</code>).</td>\n",
        "    </tr>\n",
        "    <tr>\n",
        "      <td>Keras Integration</td>\n",
        "      <td>Partial, Keras is a separate library.</td>\n",
        "      <td>Fully integrated, <code>tf.keras</code> is the default high-level API.</td>\n",
        "    </tr>\n",
        "    <tr>\n",
        "      <td>Model Subclassing</td>\n",
        "      <td>Supported but less intuitive.</td>\n",
        "      <td>Simplified with <code>tf.keras.Model</code> subclassing.</td>\n",
        "    </tr>\n",
        "    <tr>\n",
        "      <td>Debugging</td>\n",
        "      <td>Harder to debug due to static graphs.</td>\n",
        "      <td>Easier to debug with eager execution and integration with tools like <code>pdb</code>.</td>\n",
        "    </tr>\n",
        "    <tr>\n",
        "      <td>Performance</td>\n",
        "      <td>Optimized for static graph execution.</td>\n",
        "      <td>Optimized for both eager and graph execution, with better support for custom operations.</td>\n",
        "    </tr>\n",
        "    <tr>\n",
        "      <td>Adoption</td>\n",
        "      <td>Older, more established, but harder to learn for new users.</td>\n",
        "      <td>Recommended for new projects, widely adopted in the community.</td>\n",
        "    </tr>\n",
        "  </tbody>\n",
        "</table>\n"
      ]
    },
    {
      "cell_type": "markdown",
      "metadata": {
        "id": "-5u3a4csUPyn"
      },
      "source": [
        "## TensorFlow 2.0 Introduction\n",
        "In this notebook you will be given an interactive introduction to TensorFlow 2.0. We will walk through the following topics within the TensorFlow module:\n",
        "\n",
        "- TensorFlow Install and Setup\n",
        "- Representing Tensors\n",
        "- Tensor Shape and Rank\n",
        "- Types of Tensors <br>\n",
        "and some other operations\n",
        "\n",
        "If you'd like to follow along without installing TensorFlow on your machine you can use **Google Collaboratory**. Collaboratory is a free Jupyter notebook environment that requires no setup and runs entirely in the cloud."
      ]
    },
    {
      "cell_type": "markdown",
      "metadata": {
        "id": "F7ThfbiQl96l"
      },
      "source": [
        "## Installing TensorFlow\n",
        "To install TensorFlow on your local machine you can use pip.\n",
        "```console\n",
        "pip install tensorflow\n",
        "```\n",
        "If you have a CUDA enabled GPU you can install the GPU version of TensorFlow. You will also need to install some other software which can be found here: https://www.tensorflow.org/install/gpu\n",
        "```console\n",
        "pip install tensorflow-gpu\n",
        "```"
      ]
    },
    {
      "cell_type": "markdown",
      "metadata": {
        "id": "JJjNMaSClWhg"
      },
      "source": [
        "## Importing TensorFlow\n",
        "The first step here is going to be to select the correct version of TensorFlow from within collabratory!\n"
      ]
    },
    {
      "cell_type": "code",
      "execution_count": 1,
      "metadata": {
        "id": "4N7XbNDVY8P3"
      },
      "outputs": [
        {
          "name": "stderr",
          "output_type": "stream",
          "text": [
            "2024-08-30 21:52:12.409219: I tensorflow/core/util/port.cc:110] oneDNN custom operations are on. You may see slightly different numerical results due to floating-point round-off errors from different computation orders. To turn them off, set the environment variable `TF_ENABLE_ONEDNN_OPTS=0`.\n",
            "2024-08-30 21:52:12.452788: I tensorflow/core/platform/cpu_feature_guard.cc:182] This TensorFlow binary is optimized to use available CPU instructions in performance-critical operations.\n",
            "To enable the following instructions: SSE4.1 SSE4.2 AVX AVX2 AVX512F AVX512_VNNI FMA, in other operations, rebuild TensorFlow with the appropriate compiler flags.\n"
          ]
        },
        {
          "name": "stdout",
          "output_type": "stream",
          "text": [
            "2.13.1\n"
          ]
        }
      ],
      "source": [
        "import tensorflow as tf  # now import the tensorflow module\n",
        "print(tf.__version__)  # make sure the version is 2.x"
      ]
    },
    {
      "cell_type": "code",
      "execution_count": 2,
      "metadata": {},
      "outputs": [
        {
          "name": "stdout",
          "output_type": "stream",
          "text": [
            "WARNING:tensorflow:From /tmp/ipykernel_25843/337460670.py:1: is_gpu_available (from tensorflow.python.framework.test_util) is deprecated and will be removed in a future version.\n",
            "Instructions for updating:\n",
            "Use `tf.config.list_physical_devices('GPU')` instead.\n"
          ]
        },
        {
          "name": "stderr",
          "output_type": "stream",
          "text": [
            "2024-08-30 21:52:51.895985: I tensorflow/core/common_runtime/gpu/gpu_device.cc:1639] Created device /device:GPU:0 with 1743 MB memory:  -> device: 0, name: NVIDIA GeForce MX230, pci bus id: 0000:01:00.0, compute capability: 6.1\n"
          ]
        },
        {
          "data": {
            "text/plain": [
              "True"
            ]
          },
          "execution_count": 2,
          "metadata": {},
          "output_type": "execute_result"
        }
      ],
      "source": [
        "tf.test.is_gpu_available()"
      ]
    },
    {
      "cell_type": "markdown",
      "metadata": {
        "id": "duDj86TfWFof"
      },
      "source": [
        "## Tensors\n",
        "\"A tensor is a generalization of vectors and matrices to potentially higher dimensions. Internally, TensorFlow represents tensors as n-dimensional arrays of base datatypes.\" (https://www.tensorflow.org/guide/tensor)\n",
        "\n",
        "It should't surprise you that tensors are a fundemental apsect of TensorFlow. They are the main objects that are passed around and manipluated throughout the program. Each tensor represents a partialy defined computation that will eventually produce a value. TensorFlow programs work by building a graph of Tensor objects that details how tensors are related. Running different parts of the graph allow results to be generated.\n",
        "\n",
        "Each tensor has a data type and a shape.\n",
        "\n",
        "**Data Types Include**: float32, int32, string and others.\n",
        "\n",
        "**Shape**: Represents the dimension of data.\n",
        "\n",
        "Just like vectors and matrices tensors can have operations applied to them like addition, subtraction, dot product, cross product etc.\n",
        "\n",
        "In the next sections we will discuss some different properties of tensors. This is to make you more familiar with how tensorflow represnts data and how you can manipulate this data.\n"
      ]
    },
    {
      "cell_type": "markdown",
      "metadata": {
        "id": "TAk6QhGUwQRt"
      },
      "source": [
        "### 1. Creating Tensors\n",
        "Below is an example of how to create some different tensors.\n",
        "\n",
        "You simply define the value of the tensor and the datatype and you are good to go! It's worth mentioning that usually we deal with tensors of numeric data, it is quite rare to see string tensors.\n",
        "\n",
        "For a full list of datatypes please refer to the following guide.\n",
        "\n",
        "https://www.tensorflow.org/api_docs/python/tf/dtypes/DType?version=stable"
      ]
    },
    {
      "cell_type": "markdown",
      "metadata": {},
      "source": [
        " #### 1.1 Creating Tensor with `tf.constant`"
      ]
    },
    {
      "cell_type": "code",
      "execution_count": 3,
      "metadata": {},
      "outputs": [
        {
          "name": "stderr",
          "output_type": "stream",
          "text": [
            "2024-08-30 21:52:52.175791: I tensorflow/core/common_runtime/gpu/gpu_device.cc:1639] Created device /job:localhost/replica:0/task:0/device:GPU:0 with 1743 MB memory:  -> device: 0, name: NVIDIA GeForce MX230, pci bus id: 0000:01:00.0, compute capability: 6.1\n"
          ]
        },
        {
          "data": {
            "text/plain": [
              "<tf.Tensor: shape=(), dtype=int32, numpy=4>"
            ]
          },
          "metadata": {},
          "output_type": "display_data"
        }
      ],
      "source": [
        "# tf.constant : Creates a constant tensor from a tensor-like object.\n",
        "## It is a scalar, i.e., 0 dimension\n",
        "scalar = tf.constant(4)\n",
        "display(scalar)"
      ]
    },
    {
      "cell_type": "code",
      "execution_count": 4,
      "metadata": {},
      "outputs": [
        {
          "data": {
            "text/plain": [
              "0"
            ]
          },
          "execution_count": 4,
          "metadata": {},
          "output_type": "execute_result"
        }
      ],
      "source": [
        "# Check the dimensions of scalar\n",
        "scalar.ndim"
      ]
    },
    {
      "cell_type": "code",
      "execution_count": 5,
      "metadata": {},
      "outputs": [
        {
          "data": {
            "text/plain": [
              "<tf.Tensor: shape=(3,), dtype=int32, numpy=array([1, 2, 3], dtype=int32)>"
            ]
          },
          "metadata": {},
          "output_type": "display_data"
        },
        {
          "data": {
            "text/plain": [
              "'Dimension = 1'"
            ]
          },
          "metadata": {},
          "output_type": "display_data"
        }
      ],
      "source": [
        "# Constant 1-D Tensor from a python list.\n",
        "## It is a vector, i.e., it has 1 dimension\n",
        "vector = tf.constant([1, 2, 3])\n",
        "display(vector, f\"Dimension = {vector.ndim}\")"
      ]
    },
    {
      "cell_type": "code",
      "execution_count": 6,
      "metadata": {},
      "outputs": [
        {
          "data": {
            "text/plain": [
              "<tf.Tensor: shape=(3,), dtype=float16, numpy=array([2., 3., 4.], dtype=float16)>"
            ]
          },
          "metadata": {},
          "output_type": "display_data"
        },
        {
          "data": {
            "text/plain": [
              "'Dimension = 1'"
            ]
          },
          "metadata": {},
          "output_type": "display_data"
        }
      ],
      "source": [
        "# If dtype is specified, the resulting tensor values are cast to the requested dtype.\n",
        "vector2 = tf.constant([2, 3, 4], dtype=tf.float16)\n",
        "display(vector2, f\"Dimension = {vector2.ndim}\")"
      ]
    },
    {
      "cell_type": "code",
      "execution_count": 7,
      "metadata": {},
      "outputs": [
        {
          "data": {
            "text/plain": [
              "<tf.Tensor: shape=(2, 3), dtype=int32, numpy=\n",
              "array([[1, 2, 3],\n",
              "       [4, 5, 6]], dtype=int32)>"
            ]
          },
          "metadata": {},
          "output_type": "display_data"
        },
        {
          "data": {
            "text/plain": [
              "'Dimension = 2'"
            ]
          },
          "metadata": {},
          "output_type": "display_data"
        }
      ],
      "source": [
        "# Creating a matrix, i.e., more than 1 dimension\n",
        "matrix = tf.constant([[1, 2, 3], [4, 5, 6]])\n",
        "display(matrix, f\"Dimension = {matrix.ndim}\")"
      ]
    },
    {
      "cell_type": "code",
      "execution_count": 8,
      "metadata": {},
      "outputs": [
        {
          "data": {
            "text/plain": [
              "<tf.Tensor: shape=(3, 2), dtype=int32, numpy=\n",
              "array([[2, 2],\n",
              "       [2, 2],\n",
              "       [2, 2]], dtype=int32)>"
            ]
          },
          "metadata": {},
          "output_type": "display_data"
        },
        {
          "data": {
            "text/plain": [
              "'Dimension = 2'"
            ]
          },
          "metadata": {},
          "output_type": "display_data"
        }
      ],
      "source": [
        "# If shape is set, the value is reshaped to match. Scalars are expanded to fill the shape:\n",
        "matrix2 = tf.constant(2, shape=(3, 2))\n",
        "display(matrix2, f\"Dimension = {matrix2.ndim}\")"
      ]
    },
    {
      "cell_type": "code",
      "execution_count": 9,
      "metadata": {},
      "outputs": [
        {
          "data": {
            "text/plain": [
              "<tf.Tensor: shape=(3, 2, 3), dtype=int32, numpy=\n",
              "array([[[1, 2, 3],\n",
              "        [2, 3, 4]],\n",
              "\n",
              "       [[3, 4, 5],\n",
              "        [4, 5, 6]],\n",
              "\n",
              "       [[5, 6, 7],\n",
              "        [6, 7, 8]]], dtype=int32)>"
            ]
          },
          "metadata": {},
          "output_type": "display_data"
        },
        {
          "data": {
            "text/plain": [
              "'Dimension = 3'"
            ]
          },
          "metadata": {},
          "output_type": "display_data"
        }
      ],
      "source": [
        "tensor = tf.constant(\n",
        "    [[[1, 2, 3], [2, 3, 4]], [[3, 4, 5], [4, 5, 6]], [[5, 6, 7], [6, 7, 8]]]\n",
        ")\n",
        "display(tensor, f\"Dimension = {tensor.ndim}\")"
      ]
    },
    {
      "cell_type": "code",
      "execution_count": 10,
      "metadata": {},
      "outputs": [
        {
          "name": "stdout",
          "output_type": "stream",
          "text": [
            "2 : This is 0 dimensional tensor\n",
            "[2] : This is 1 dimensional tensor\n",
            "[[2]] : This is 2 dimensional tensor\n",
            "[[[2]]] : This is 3 dimensional tensor\n",
            "[[[[2]]]] : This is 4 dimensional tensor\n"
          ]
        }
      ],
      "source": [
        "print(f\"2 : This is {tf.constant(2).ndim} dimensional tensor\")\n",
        "print(f\"[2] : This is {tf.constant([2]).ndim} dimensional tensor\")\n",
        "print(f\"[[2]] : This is {tf.constant([[2]]).ndim} dimensional tensor\")\n",
        "print(f\"[[[2]]] : This is {tf.constant([[[2]]]).ndim} dimensional tensor\")\n",
        "print(f\"[[[[2]]]] : This is {tf.constant([[[[2]]]]).ndim} dimensional tensor\")"
      ]
    },
    {
      "attachments": {
        "image-2.png": {
          "image/png": "[encoded data removed]"
        },
        "image-3.png": {
          "image/png": "[encoded data removed]"
        },
        "image.png": {
          "image/png": "[encoded data removed]"
        }
      },
      "cell_type": "markdown",
      "metadata": {},
      "source": [
        "![image.png](attachment:image.png) <br>\n",
        "![image-2.png](attachment:image-2.png) <br>\n",
        "![image-3.png](attachment:image-3.png)"
      ]
    },
    {
      "cell_type": "markdown",
      "metadata": {},
      "source": [
        "<div style=\"background-color: lightblue; padding: 10px; border-radius: 5px;\">\n",
        "    <h5 style=\"color: darkblue;\">What we've created is:</h5>\n",
        "    <ul style=\"color: black;\">\n",
        "    <li> <b>Scalar</b> : a single number. e.g., The temperature outside right now, e.g., <code>23°C</code>.\n",
        "<li> <b>Vector</b> : a number with direction. e.g., Temperatures recorded over a week: <code>[23, 25, 21, 22, 24, 26, 23]</code>.\n",
        "<li> <b>Matrix</b> : a 2-dimensional array of numbers. e.g., sales data for different products across months\n",
        "<pre><code>[[Jan, Feb, Mar],\n",
        " [100, 150, 200],\n",
        " [80, 120, 160]]</code></pre>\n",
        "<li> <b>Tensor</b> : a n-dimensional array of numbers (n can be any no., a 0-dimensional tensor (scalar) or 1-dimensional tensor (vector) etc.)<br>\n",
        "e.g., <i>3d Tensor</i> : A 28x28 image with 3 color channels (RGB) \n",
        "<pre><code>[[[R, G, B], [R, G, B], ...],\n",
        " [[R, G, B], [R, G, B], ...],\n",
        " ...]</code></pre>\n",
        " <i> 4D Tensor </i> : A 4-D tensor adds another dimension, often used to represent a batch of 3-D data.<br> e.g., a video with dimensions <pre><code>[frames, height, width, color channels]</code></pre>, where each element in the tensor represents a pixel in a frame of the video.<p>\n",
        "<i>5D Tensor</i> : A batch of video clips, where each clip is made up of multiple colored frames. <code>(n, m, p, q, r)</code>, where \n",
        "\n",
        "`n` is the number of video clips, \n",
        "`m` is the number of frames per clip, \n",
        "`p` is the height, \n",
        "`q` is the width, \n",
        "and `r` is the number of channels.\n",
        "</ul>\n",
        "</div>"
      ]
    },
    {
      "cell_type": "markdown",
      "metadata": {},
      "source": [
        "#### 1.2 Creating Tensor with `tf.Variable`"
      ]
    },
    {
      "cell_type": "code",
      "execution_count": 11,
      "metadata": {},
      "outputs": [
        {
          "data": {
            "text/plain": [
              "<tf.Variable 'Variable:0' shape=(2,) dtype=int32, numpy=array([10,  7], dtype=int32)>"
            ]
          },
          "metadata": {},
          "output_type": "display_data"
        },
        {
          "data": {
            "text/plain": [
              "<tf.Tensor: shape=(2,), dtype=int32, numpy=array([10,  7], dtype=int32)>"
            ]
          },
          "metadata": {},
          "output_type": "display_data"
        }
      ],
      "source": [
        "changable_tensor = tf.Variable([10,7])\n",
        "unchangable_tensor = tf.constant([10,7])\n",
        "display(changable_tensor, unchangable_tensor)"
      ]
    },
    {
      "cell_type": "code",
      "execution_count": 12,
      "metadata": {},
      "outputs": [
        {
          "name": "stdout",
          "output_type": "stream",
          "text": [
            "<tf.Variable 'Variable:0' shape=(2,) dtype=int32, numpy=array([20,  7], dtype=int32)>\n"
          ]
        }
      ],
      "source": [
        "# trying to change the changable_tensor\n",
        "changable_tensor[0].assign(20)\n",
        "print(changable_tensor)"
      ]
    },
    {
      "cell_type": "code",
      "execution_count": 13,
      "metadata": {},
      "outputs": [
        {
          "ename": "TypeError",
          "evalue": "'tensorflow.python.framework.ops.EagerTensor' object does not support item assignment",
          "output_type": "error",
          "traceback": [
            "\u001b[0;31m---------------------------------------------------------------------------\u001b[0m",
            "\u001b[0;31mTypeError\u001b[0m                                 Traceback (most recent call last)",
            "Cell \u001b[0;32mIn[13], line 1\u001b[0m\n\u001b[0;32m----> 1\u001b[0m \u001b[43munchangable_tensor\u001b[49m\u001b[43m[\u001b[49m\u001b[38;5;241;43m0\u001b[39;49m\u001b[43m]\u001b[49m \u001b[38;5;241m=\u001b[39m \u001b[38;5;241m20\u001b[39m\n",
            "\u001b[0;31mTypeError\u001b[0m: 'tensorflow.python.framework.ops.EagerTensor' object does not support item assignment"
          ]
        }
      ],
      "source": [
        "unchangable_tensor[0] = 20"
      ]
    },
    {
      "cell_type": "code",
      "execution_count": 14,
      "metadata": {},
      "outputs": [
        {
          "ename": "AttributeError",
          "evalue": "'tensorflow.python.framework.ops.EagerTensor' object has no attribute 'assign'",
          "output_type": "error",
          "traceback": [
            "\u001b[0;31m---------------------------------------------------------------------------\u001b[0m",
            "\u001b[0;31mAttributeError\u001b[0m                            Traceback (most recent call last)",
            "Cell \u001b[0;32mIn[14], line 1\u001b[0m\n\u001b[0;32m----> 1\u001b[0m \u001b[43munchangable_tensor\u001b[49m\u001b[43m[\u001b[49m\u001b[38;5;241;43m0\u001b[39;49m\u001b[43m]\u001b[49m\u001b[38;5;241;43m.\u001b[39;49m\u001b[43massign\u001b[49m(\u001b[38;5;241m20\u001b[39m)\n",
            "File \u001b[0;32m~/miniforge3/envs/mytf/lib/python3.11/site-packages/tensorflow/python/framework/ops.py:430\u001b[0m, in \u001b[0;36mTensor.__getattr__\u001b[0;34m(self, name)\u001b[0m\n\u001b[1;32m    421\u001b[0m \u001b[38;5;28;01mif\u001b[39;00m name \u001b[38;5;129;01min\u001b[39;00m {\u001b[38;5;124m\"\u001b[39m\u001b[38;5;124mT\u001b[39m\u001b[38;5;124m\"\u001b[39m, \u001b[38;5;124m\"\u001b[39m\u001b[38;5;124mastype\u001b[39m\u001b[38;5;124m\"\u001b[39m, \u001b[38;5;124m\"\u001b[39m\u001b[38;5;124mravel\u001b[39m\u001b[38;5;124m\"\u001b[39m, \u001b[38;5;124m\"\u001b[39m\u001b[38;5;124mtranspose\u001b[39m\u001b[38;5;124m\"\u001b[39m, \u001b[38;5;124m\"\u001b[39m\u001b[38;5;124mreshape\u001b[39m\u001b[38;5;124m\"\u001b[39m, \u001b[38;5;124m\"\u001b[39m\u001b[38;5;124mclip\u001b[39m\u001b[38;5;124m\"\u001b[39m, \u001b[38;5;124m\"\u001b[39m\u001b[38;5;124msize\u001b[39m\u001b[38;5;124m\"\u001b[39m,\n\u001b[1;32m    422\u001b[0m             \u001b[38;5;124m\"\u001b[39m\u001b[38;5;124mtolist\u001b[39m\u001b[38;5;124m\"\u001b[39m, \u001b[38;5;124m\"\u001b[39m\u001b[38;5;124mdata\u001b[39m\u001b[38;5;124m\"\u001b[39m}:\n\u001b[1;32m    423\u001b[0m   \u001b[38;5;66;03m# TODO(wangpeng): Export the enable_numpy_behavior knob\u001b[39;00m\n\u001b[1;32m    424\u001b[0m   \u001b[38;5;28;01mraise\u001b[39;00m \u001b[38;5;167;01mAttributeError\u001b[39;00m(\n\u001b[1;32m    425\u001b[0m       \u001b[38;5;124mf\u001b[39m\u001b[38;5;124m\"\u001b[39m\u001b[38;5;132;01m{\u001b[39;00m\u001b[38;5;28mtype\u001b[39m(\u001b[38;5;28mself\u001b[39m)\u001b[38;5;241m.\u001b[39m\u001b[38;5;18m__name__\u001b[39m\u001b[38;5;132;01m}\u001b[39;00m\u001b[38;5;124m object has no attribute \u001b[39m\u001b[38;5;124m'\u001b[39m\u001b[38;5;132;01m{\u001b[39;00mname\u001b[38;5;132;01m}\u001b[39;00m\u001b[38;5;124m'\u001b[39m\u001b[38;5;124m. \u001b[39m\u001b[38;5;124m\"\u001b[39m \u001b[38;5;241m+\u001b[39m \u001b[38;5;124m\"\"\"\u001b[39m\n\u001b[1;32m    426\u001b[0m \u001b[38;5;124m    If you are looking for numpy-related methods, please run the following:\u001b[39m\n\u001b[1;32m    427\u001b[0m \u001b[38;5;124m    from tensorflow.python.ops.numpy_ops import np_config\u001b[39m\n\u001b[1;32m    428\u001b[0m \u001b[38;5;124m    np_config.enable_numpy_behavior()\u001b[39m\n\u001b[1;32m    429\u001b[0m \u001b[38;5;124m  \u001b[39m\u001b[38;5;124m\"\"\"\u001b[39m)\n\u001b[0;32m--> 430\u001b[0m \u001b[38;5;28;43mself\u001b[39;49m\u001b[38;5;241;43m.\u001b[39;49m\u001b[38;5;21;43m__getattribute__\u001b[39;49m\u001b[43m(\u001b[49m\u001b[43mname\u001b[49m\u001b[43m)\u001b[49m\n",
            "\u001b[0;31mAttributeError\u001b[0m: 'tensorflow.python.framework.ops.EagerTensor' object has no attribute 'assign'"
          ]
        }
      ],
      "source": [
        "unchangable_tensor[0].assign(20)"
      ]
    },
    {
      "cell_type": "markdown",
      "metadata": {},
      "source": [
        "In Neural network, there is sometime when we want to change the values of Tensors and sometime doesn't want to change, for this reason, we have `tf.constant` and `tf.Variable`."
      ]
    },
    {
      "cell_type": "markdown",
      "metadata": {},
      "source": [
        "> \n",
        "\n",
        "<div style=\"background-color: #dab0b0; padding: 10px; border-radius: 5px;\">\n",
        "       <p style=\"color:black\"> <b>Note:</b>  Rarely in practice will you need to decide whether to use <code>tf.constant</code> or <code>tf.Variable</code> to create tensors, as TensorFlow does this for you. However, if in doubt, use <code>tf.constant</code> and change it later if needed.\n",
        "</p>\n",
        "</div>"
      ]
    },
    {
      "cell_type": "code",
      "execution_count": 15,
      "metadata": {
        "id": "epGskXdjZHzu"
      },
      "outputs": [
        {
          "data": {
            "text/plain": [
              "(<tf.Variable 'Variable:0' shape=() dtype=string, numpy=b'this is a string'>,\n",
              " <tf.Variable 'Variable:0' shape=() dtype=int16, numpy=324>,\n",
              " <tf.Variable 'Variable:0' shape=() dtype=float16, numpy=3.0>)"
            ]
          },
          "execution_count": 15,
          "metadata": {},
          "output_type": "execute_result"
        }
      ],
      "source": [
        "string = tf.Variable(\"this is a string\", tf.string)\n",
        "number = tf.Variable(324, dtype = tf.int16)\n",
        "floating = tf.Variable(3, dtype = tf.float16)\n",
        "string, number, floating"
      ]
    },
    {
      "cell_type": "markdown",
      "metadata": {},
      "source": [
        "#### 1.3 Creating random tensors\n",
        "During the data processing in Neural Networks, we need to initialize random weights in beginning which get updated later as per the output. <br>\n",
        "Random tensors are tensors of some arbitrary sizes of random numbers."
      ]
    },
    {
      "cell_type": "code",
      "execution_count": 16,
      "metadata": {},
      "outputs": [
        {
          "data": {
            "text/plain": [
              "<tf.Tensor: shape=(3, 2), dtype=float32, numpy=\n",
              "array([[-0.7565803 , -0.06854702],\n",
              "       [ 0.07595026, -1.2573844 ],\n",
              "       [-0.23193765, -1.8107855 ]], dtype=float32)>"
            ]
          },
          "execution_count": 16,
          "metadata": {},
          "output_type": "execute_result"
        }
      ],
      "source": [
        "# Creating two random (but the same) tensors\n",
        "random_1 = tf.random.Generator.from_seed(42) # set seed for reproducibility\n",
        "random_1 = random_1.normal(shape=(3,2)) # generate random numbers from normal distribution\n",
        "random_1"
      ]
    },
    {
      "cell_type": "markdown",
      "metadata": {},
      "source": [
        "The `tf.random.Generator` class is used in cases where you want each RNG call to produce different results."
      ]
    },
    {
      "cell_type": "code",
      "execution_count": 17,
      "metadata": {},
      "outputs": [
        {
          "data": {
            "text/plain": [
              "<tf.Tensor: shape=(3, 2), dtype=float32, numpy=\n",
              "array([[-0.7565803 , -0.06854702],\n",
              "       [ 0.07595026, -1.2573844 ],\n",
              "       [-0.23193765, -1.8107855 ]], dtype=float32)>"
            ]
          },
          "execution_count": 17,
          "metadata": {},
          "output_type": "execute_result"
        }
      ],
      "source": [
        "random_2 = tf.random.Generator.from_seed(42)\n",
        "random_2 = random_2.normal(shape=(3,2))\n",
        "random_2"
      ]
    },
    {
      "cell_type": "code",
      "execution_count": 18,
      "metadata": {},
      "outputs": [
        {
          "data": {
            "text/plain": [
              "<tf.Tensor: shape=(3, 2), dtype=bool, numpy=\n",
              "array([[ True,  True],\n",
              "       [ True,  True],\n",
              "       [ True,  True]])>"
            ]
          },
          "execution_count": 18,
          "metadata": {},
          "output_type": "execute_result"
        }
      ],
      "source": [
        "# Are they equal??\n",
        "random_1 == random_2"
      ]
    },
    {
      "cell_type": "markdown",
      "metadata": {},
      "source": [
        "You can get a `tf.random.Generator` by manually creating an object of the class or call `tf.random.get_global_generator()` to get the default global generator. Yet, the easiest is `Generator.from_seed`, as shown above,"
      ]
    },
    {
      "cell_type": "code",
      "execution_count": 19,
      "metadata": {},
      "outputs": [
        {
          "data": {
            "text/plain": [
              "<tf.Tensor: shape=(2, 3), dtype=float32, numpy=\n",
              "array([[0.59856045, 0.45262623, 0.84917605],\n",
              "       [0.42981946, 0.68826663, 0.46551085]], dtype=float32)>"
            ]
          },
          "metadata": {},
          "output_type": "display_data"
        }
      ],
      "source": [
        "# we can also generate from uniform distribution\n",
        "random_3 = tf.random.get_global_generator()\n",
        "display(random_3.uniform(shape=(2,3)))"
      ]
    },
    {
      "cell_type": "markdown",
      "metadata": {},
      "source": [
        "#### 1.4 Shuffle the order of elemets in tensor\n",
        "Especially with imbalanced datasets, shuffling helps to ensure that each batch has a more balanced representation of different classes. This helps the model to learn equally from all classes and not become biased towards any particular class and also prevent overfitting.<p>\n",
        "If we're trying to animal image classification neural network and we had 10000 images of dogs and 5000 imgs of cat, and our NN saw dogs images first and pattern that it learns maybe too aligned with what's in the dog's image rather than cat image, that's why we want to shuffle the order of images and tensors so that pattern our NN learns tunes to both kind of images unbiased."
      ]
    },
    {
      "cell_type": "code",
      "execution_count": 20,
      "metadata": {},
      "outputs": [
        {
          "data": {
            "text/plain": [
              "<tf.Tensor: shape=(3, 2), dtype=int32, numpy=\n",
              "array([[10,  7],\n",
              "       [ 3,  4],\n",
              "       [ 2,  5]], dtype=int32)>"
            ]
          },
          "execution_count": 20,
          "metadata": {},
          "output_type": "execute_result"
        }
      ],
      "source": [
        "# Shuffle a tensor (valuable when you want to shuffle your data so the inherent order of the data doesn't effect learning)\n",
        "not_shuffled = tf.constant([[10, 7], [3, 4], [2, 5]])\n",
        "not_shuffled"
      ]
    },
    {
      "cell_type": "code",
      "execution_count": 21,
      "metadata": {},
      "outputs": [
        {
          "data": {
            "text/plain": [
              "<tf.Tensor: shape=(3, 2), dtype=int32, numpy=\n",
              "array([[ 3,  4],\n",
              "       [ 2,  5],\n",
              "       [10,  7]], dtype=int32)>"
            ]
          },
          "execution_count": 21,
          "metadata": {},
          "output_type": "execute_result"
        }
      ],
      "source": [
        "tf.random.shuffle(not_shuffled) # randomly shuffle the tensor along its first dimension."
      ]
    },
    {
      "cell_type": "markdown",
      "metadata": {},
      "source": [
        "> for reproducibility, set seed value for both global and operation level"
      ]
    },
    {
      "cell_type": "code",
      "execution_count": 22,
      "metadata": {},
      "outputs": [
        {
          "data": {
            "text/plain": [
              "<tf.Tensor: shape=(3, 2), dtype=int32, numpy=\n",
              "array([[ 3,  4],\n",
              "       [ 2,  5],\n",
              "       [10,  7]], dtype=int32)>"
            ]
          },
          "execution_count": 22,
          "metadata": {},
          "output_type": "execute_result"
        }
      ],
      "source": [
        "tf.random.set_seed(43) # global level random seed\n",
        "tf.random.shuffle(not_shuffled, seed=42) # operation level random seed"
      ]
    },
    {
      "cell_type": "markdown",
      "metadata": {},
      "source": [
        "#### 1.5 Other ways to make tensor"
      ]
    },
    {
      "cell_type": "code",
      "execution_count": 23,
      "metadata": {},
      "outputs": [
        {
          "data": {
            "text/plain": [
              "<tf.Tensor: shape=(3, 2), dtype=float32, numpy=\n",
              "array([[1., 1.],\n",
              "       [1., 1.],\n",
              "       [1., 1.]], dtype=float32)>"
            ]
          },
          "execution_count": 23,
          "metadata": {},
          "output_type": "execute_result"
        }
      ],
      "source": [
        "# Create a tensor of all ones\n",
        "tf.ones(shape=(3, 2))"
      ]
    },
    {
      "cell_type": "code",
      "execution_count": 24,
      "metadata": {},
      "outputs": [
        {
          "data": {
            "text/plain": [
              "<tf.Tensor: shape=(2, 3), dtype=float32, numpy=\n",
              "array([[0., 0., 0.],\n",
              "       [0., 0., 0.]], dtype=float32)>"
            ]
          },
          "execution_count": 24,
          "metadata": {},
          "output_type": "execute_result"
        }
      ],
      "source": [
        "# Craete a tensor of all zeros\n",
        "tf.zeros(shape=[2, 3])"
      ]
    },
    {
      "cell_type": "markdown",
      "metadata": {},
      "source": [
        "The difference between a NumPy array and a tensor is that the tensors are backed by the accelerator memory like GPU (for faster computing) and they are immutable, unlike NumPy arrays. Otherwise they are very similar."
      ]
    },
    {
      "cell_type": "code",
      "execution_count": 25,
      "metadata": {},
      "outputs": [
        {
          "data": {
            "text/plain": [
              "array([ 1,  2,  3,  4,  5,  6,  7,  8,  9, 10, 11, 12, 13, 14, 15, 16, 17,\n",
              "       18, 19, 20, 21, 22, 23, 24], dtype=int32)"
            ]
          },
          "execution_count": 25,
          "metadata": {},
          "output_type": "execute_result"
        }
      ],
      "source": [
        "# we can convert numpy arrays to tensors\n",
        "import numpy as np\n",
        "numpy_A = np.arange(1, 25, dtype=np.int32) # create a NumPy array between 1 and 25\n",
        "numpy_A"
      ]
    },
    {
      "cell_type": "code",
      "execution_count": 26,
      "metadata": {},
      "outputs": [
        {
          "data": {
            "text/plain": [
              "<tf.Tensor: shape=(2, 2, 3, 2), dtype=int32, numpy=\n",
              "array([[[[ 1,  2],\n",
              "         [ 3,  4],\n",
              "         [ 5,  6]],\n",
              "\n",
              "        [[ 7,  8],\n",
              "         [ 9, 10],\n",
              "         [11, 12]]],\n",
              "\n",
              "\n",
              "       [[[13, 14],\n",
              "         [15, 16],\n",
              "         [17, 18]],\n",
              "\n",
              "        [[19, 20],\n",
              "         [21, 22],\n",
              "         [23, 24]]]], dtype=int32)>"
            ]
          },
          "execution_count": 26,
          "metadata": {},
          "output_type": "execute_result"
        }
      ],
      "source": [
        "tf.constant(numpy_A, shape = (2,2,3,2))"
      ]
    },
    {
      "cell_type": "markdown",
      "metadata": {},
      "source": [
        "#### 1.6 Sparse Tensors `tf.sparse.SparseTensor`\n",
        "In TensorFlow, a SparseTensor is a way to efficiently represent and manipulate tensors that contain a lot of zero values, or more generally, elements that can be considered \"missing\" or \"sparse.\". It helps to store the tensors that contain a lot of zero values in a space- and time-efficient manner.\n",
        "\n",
        "\n",
        "**What is a SparseTensor?**<br>\n",
        "A SparseTensor is made up of three components:\n",
        "\n",
        "- Indices: A 2D tensor of type int64 containing the indices of non-zero elements in the sparse tensor.\n",
        "- Values: A 1D tensor containing the non-zero values corresponding to the indices.\n",
        "- Dense Shape: A 1D tensor of type int64 that defines the shape of the dense tensor that the sparse tensor represents."
      ]
    },
    {
      "cell_type": "code",
      "execution_count": 27,
      "metadata": {},
      "outputs": [],
      "source": [
        "st1 = tf.sparse.SparseTensor(indices=[[0, 3], [2, 4]],\n",
        "                      values=[10, 20],\n",
        "                      dense_shape=[3, 10])"
      ]
    },
    {
      "attachments": {
        "image.png": {
          "image/png": "[encoded data removed]"
        }
      },
      "cell_type": "markdown",
      "metadata": {},
      "source": [
        "![image.png](attachment:image.png)"
      ]
    },
    {
      "cell_type": "code",
      "execution_count": 28,
      "metadata": {},
      "outputs": [
        {
          "data": {
            "text/plain": [
              "<tf.Tensor: shape=(3, 10), dtype=int32, numpy=\n",
              "array([[ 0,  0,  0, 10,  0,  0,  0,  0,  0,  0],\n",
              "       [ 0,  0,  0,  0,  0,  0,  0,  0,  0,  0],\n",
              "       [ 0,  0,  0,  0, 20,  0,  0,  0,  0,  0]], dtype=int32)>"
            ]
          },
          "execution_count": 28,
          "metadata": {},
          "output_type": "execute_result"
        }
      ],
      "source": [
        "# creating dense tensors from sparse ones\n",
        "st2 = tf.sparse.to_dense(st1)\n",
        "st2"
      ]
    },
    {
      "cell_type": "code",
      "execution_count": null,
      "metadata": {},
      "outputs": [
        {
          "name": "stdout",
          "output_type": "stream",
          "text": [
            "SparseTensor(indices=tf.Tensor(\n",
            "[[0 0]\n",
            " [0 3]\n",
            " [2 2]], shape=(3, 2), dtype=int64), values=tf.Tensor([1 8 3], shape=(3,), dtype=int32), dense_shape=tf.Tensor([3 4], shape=(2,), dtype=int64))\n"
          ]
        }
      ],
      "source": [
        "# creating sparse tensors from dense ones\n",
        "st3 = tf.sparse.from_dense([[1, 0, 0, 8], \n",
        "                            [0, 0, 0, 0], \n",
        "                            [0, 0, 3, 0]])\n",
        "print(st3)"
      ]
    },
    {
      "cell_type": "markdown",
      "metadata": {},
      "source": [
        "### 2. Tensor Attributes"
      ]
    },
    {
      "cell_type": "markdown",
      "metadata": {},
      "source": [
        "When we are dealing with tensors, we need to be aware of the following attributes.\n",
        "<table style = \"width: 70%\">  \n",
        "    <tr> \n",
        "        <colgroup>\n",
        "            <col span=\"1\" style=\"width: 20%;\">\n",
        "            <col span=\"1\" style=\"width: 50%;\">\n",
        "            <col span=\"1\" style=\"width: 50%;\">\n",
        "        </colgroup> \n",
        "        <th style=\"background-color: green\"><b><center>Attribute</th>  \n",
        "        <th style=\"background-color: green\">Meaning</th>  \n",
        "        <th style=\"background-color: green\">Code</b></center></th>  \n",
        "    </tr>  \n",
        "   <tr>\n",
        "    <td>Shape</td>\n",
        "    <td>The length (number of elements) of each of the dimensions of a tensor.</td>\n",
        "    <td><code>tensor.shape</code></td>\n",
        "  </tr>\n",
        "  <tr>\n",
        "    <td>Rank</td>\n",
        "    <td>The number of tensor dimensions. A <var>scalar</var> has rank <kbd>0</kbd>, a <i>vector</i> has rank <kbd>1</kbd>, a <i>matrix</i> is rank <kbd>2</kbd>, a <i>tensor</i> has rank <kbd>n</kbd>.</td>\n",
        "    <td><code>tensor.ndim</code></td>\n",
        "  </tr>\n",
        "  <tr>\n",
        "    <td>Axis or dimension</td>\n",
        "    <td>A particular dimension of a tensor.</td>\n",
        "    <td><code>tensor[0], tensor[:, 1], ...</code></td>\n",
        "  </tr>\n",
        "  <tr>\n",
        "    <td>Size</td>\n",
        "    <td>The total number of items in the tensor.</td>\n",
        "    <td><code>tf.size(tensor)</code></td>\n",
        "  </tr>\n",
        "    \n",
        "     \n",
        "</table>  \n"
      ]
    },
    {
      "cell_type": "markdown",
      "metadata": {
        "id": "D0_H71HMaE-5"
      },
      "source": [
        "#### 2.1 Rank/Degree of Tensors\n",
        "Another word for rank is degree, these terms simply mean the number of dimensions involved in the tensor. What we created above is a *tensor of rank 0*, also known as a scalar.\n",
        "\n",
        "Now we'll create some tensors of higher degrees/ranks."
      ]
    },
    {
      "cell_type": "code",
      "execution_count": 29,
      "metadata": {
        "id": "hX_Cc5IfjQ6-"
      },
      "outputs": [],
      "source": [
        "rank1_tensor = tf.Variable([\"Test\", \"ok\"], tf.string)\n",
        "rank2_tensor = tf.Variable([[\"test\", \"ok\"], [\"test\", \"yes\"]], tf.string)\n",
        "rank3_tensor = tf.Variable([[[\"test\", \"ok\"], [\"test\", \"yes\"]], [[\"test\", \"ok\"], [\"test\", \"yes\"]]], tf.string)\n",
        "rank4_tensor = tf.ones(shape = (2,2,3,4))"
      ]
    },
    {
      "cell_type": "markdown",
      "metadata": {
        "id": "55zuGMc7nHjC"
      },
      "source": [
        "**To determine the rank** of a tensor we can call the following method."
      ]
    },
    {
      "cell_type": "code",
      "execution_count": 30,
      "metadata": {
        "colab": {
          "base_uri": "https://localhost:8080/",
          "height": 34
        },
        "id": "Zrj0rAWLnMNv",
        "outputId": "b8b34a8c-fc6e-40c6-9fd6-294d1253631e"
      },
      "outputs": [
        {
          "name": "stdout",
          "output_type": "stream",
          "text": [
            "tf.Tensor(1, shape=(), dtype=int32)\n",
            "tf.Tensor(2, shape=(), dtype=int32)\n",
            "tf.Tensor(3, shape=(), dtype=int32)\n",
            "tf.Tensor(4, shape=(), dtype=int32)\n"
          ]
        }
      ],
      "source": [
        "print(tf.rank(rank1_tensor))\n",
        "print(tf.rank(rank2_tensor))\n",
        "print(tf.rank(rank3_tensor))\n",
        "print(tf.rank(rank4_tensor))"
      ]
    },
    {
      "cell_type": "code",
      "execution_count": 31,
      "metadata": {},
      "outputs": [
        {
          "data": {
            "text/plain": [
              "<tf.Tensor: shape=(2, 2, 3, 4), dtype=float32, numpy=\n",
              "array([[[[1., 1., 1., 1.],\n",
              "         [1., 1., 1., 1.],\n",
              "         [1., 1., 1., 1.]],\n",
              "\n",
              "        [[1., 1., 1., 1.],\n",
              "         [1., 1., 1., 1.],\n",
              "         [1., 1., 1., 1.]]],\n",
              "\n",
              "\n",
              "       [[[1., 1., 1., 1.],\n",
              "         [1., 1., 1., 1.],\n",
              "         [1., 1., 1., 1.]],\n",
              "\n",
              "        [[1., 1., 1., 1.],\n",
              "         [1., 1., 1., 1.],\n",
              "         [1., 1., 1., 1.]]]], dtype=float32)>"
            ]
          },
          "execution_count": 31,
          "metadata": {},
          "output_type": "execute_result"
        }
      ],
      "source": [
        "rank4_tensor"
      ]
    },
    {
      "cell_type": "markdown",
      "metadata": {},
      "source": [
        "#### 2.2 Size of tensor\n",
        "Returns the size of a tensor i.e., number of items in it."
      ]
    },
    {
      "cell_type": "code",
      "execution_count": 32,
      "metadata": {},
      "outputs": [
        {
          "name": "stdout",
          "output_type": "stream",
          "text": [
            "tf.Tensor(2, shape=(), dtype=int32)\n",
            "tf.Tensor(4, shape=(), dtype=int32)\n",
            "tf.Tensor(8, shape=(), dtype=int32)\n",
            "tf.Tensor(48, shape=(), dtype=int32)\n"
          ]
        }
      ],
      "source": [
        "print(tf.size(rank1_tensor)) \n",
        "print(tf.size(rank2_tensor)) # i.e., 2 x 2\n",
        "print(tf.size(rank3_tensor)) # i.e., 2 x 2 x 2\n",
        "print(tf.size(rank4_tensor)) # i.e., 2 x 2 x 3 x 4"
      ]
    },
    {
      "cell_type": "markdown",
      "metadata": {
        "id": "RaVrANK8q21q"
      },
      "source": [
        "#### 2.3 Shape of Tensors\n",
        "The shape of a tensor is simply the number of elements that exist in each dimension. TensorFlow will try to determine the shape of a tensor but sometimes it may be unknown. Before feeding the data into a Neural network, we need to set the shape of tensors before.\n",
        "\n",
        "To **get the shape** of a tensor we use the shape attribute.\n"
      ]
    },
    {
      "cell_type": "code",
      "execution_count": 34,
      "metadata": {
        "id": "L_NRXsFOraYa"
      },
      "outputs": [
        {
          "name": "stdout",
          "output_type": "stream",
          "text": [
            "(2,) (2, 2) (2, 2, 2) (2, 2, 3, 4)\n"
          ]
        }
      ],
      "source": [
        "print(rank1_tensor.shape, rank2_tensor.shape, rank3_tensor.shape, rank4_tensor.shape)"
      ]
    },
    {
      "cell_type": "markdown",
      "metadata": {
        "id": "wVDmLJeFs086"
      },
      "source": [
        "##### Changing Shape\n",
        "The number of elements of a tensor is the product of the sizes of all its shapes. There are often many shapes that have the same number of elements, making it convient to be able to change the shape of a tensor.\n",
        "\n",
        "The example below shows how to change the shape of a tensor."
      ]
    },
    {
      "cell_type": "code",
      "execution_count": 35,
      "metadata": {
        "id": "dZ8Rbs2xtNqj"
      },
      "outputs": [],
      "source": [
        "tensor1 = tf.ones([1,2,3])  # tf.ones() creates a shape [1,2,3] tensor full of ones\n",
        "tensor2 = tf.reshape(tensor1, [2,3,1])  # reshape existing data to shape [2,3,1]\n",
        "tensor3 = tf.reshape(tensor2, [3, -1])  # -1 tells the tensor to calculate the size of the dimension in that place\n",
        "                                        # this will reshape the tensor to [3,2]\n",
        "\n",
        "# The numer of elements in the reshaped tensor MUST match the number in the original"
      ]
    },
    {
      "cell_type": "markdown",
      "metadata": {
        "id": "M631k7UDv1Wh"
      },
      "source": [
        "Now let's have a look at our different tensors."
      ]
    },
    {
      "cell_type": "code",
      "execution_count": 36,
      "metadata": {
        "id": "IFNmUxaEv6s3"
      },
      "outputs": [
        {
          "name": "stdout",
          "output_type": "stream",
          "text": [
            "tf.Tensor(\n",
            "[[[1. 1. 1.]\n",
            "  [1. 1. 1.]]], shape=(1, 2, 3), dtype=float32)\n",
            "tf.Tensor(\n",
            "[[[1.]\n",
            "  [1.]\n",
            "  [1.]]\n",
            "\n",
            " [[1.]\n",
            "  [1.]\n",
            "  [1.]]], shape=(2, 3, 1), dtype=float32)\n",
            "tf.Tensor(\n",
            "[[1. 1.]\n",
            " [1. 1.]\n",
            " [1. 1.]], shape=(3, 2), dtype=float32)\n"
          ]
        }
      ],
      "source": [
        "print(tensor1)\n",
        "print(tensor2)\n",
        "print(tensor3)\n",
        "# Notice the changes in shape"
      ]
    },
    {
      "cell_type": "markdown",
      "metadata": {},
      "source": [
        "##### Adding new dimension"
      ]
    },
    {
      "cell_type": "markdown",
      "metadata": {},
      "source": [
        "In TensorFlow, `tf.newaxis` is used to increase the dimensions of a tensor by one. It is particularly useful when you want to add a new axis to a tensor, which effectively allows you to change its shape without changing the data."
      ]
    },
    {
      "cell_type": "code",
      "execution_count": 37,
      "metadata": {},
      "outputs": [
        {
          "data": {
            "text/plain": [
              "<tf.Tensor: shape=(2, 2), dtype=int32, numpy=\n",
              "array([[10,  7],\n",
              "       [ 3,  4]], dtype=int32)>"
            ]
          },
          "execution_count": 37,
          "metadata": {},
          "output_type": "execute_result"
        }
      ],
      "source": [
        "rank_2_tensor = tf.constant([[10, 7],[3, 4]])\n",
        "rank_2_tensor"
      ]
    },
    {
      "cell_type": "code",
      "execution_count": 38,
      "metadata": {},
      "outputs": [
        {
          "name": "stdout",
          "output_type": "stream",
          "text": [
            "tf.Tensor(\n",
            "[[[10  7]\n",
            "  [ 3  4]]], shape=(1, 2, 2), dtype=int32) \n",
            "\n",
            "tf.Tensor(\n",
            "[[[10  7]\n",
            "  [ 3  4]]], shape=(1, 2, 2), dtype=int32)\n"
          ]
        }
      ],
      "source": [
        "# adding in extra dimension to our 2 rank tensor\n",
        "rank_3_tensor = rank_2_tensor[tf.newaxis]\n",
        "print(rank_3_tensor,\"\\n\")\n",
        "\n",
        "# or\n",
        "\n",
        "rank_3_tensor = tf.expand_dims(rank_2_tensor, axis=0)\n",
        "print(rank_3_tensor)"
      ]
    },
    {
      "cell_type": "code",
      "execution_count": 39,
      "metadata": {},
      "outputs": [
        {
          "name": "stdout",
          "output_type": "stream",
          "text": [
            "tf.Tensor(\n",
            "[[[10]\n",
            "  [ 7]]\n",
            "\n",
            " [[ 3]\n",
            "  [ 4]]], shape=(2, 2, 1), dtype=int32) \n",
            "\n",
            "tf.Tensor(\n",
            "[[[10]\n",
            "  [ 7]]\n",
            "\n",
            " [[ 3]\n",
            "  [ 4]]], shape=(2, 2, 1), dtype=int32)\n"
          ]
        }
      ],
      "source": [
        "rank_3_tensor = rank_2_tensor[:,:,tf.newaxis]\n",
        "print(rank_3_tensor,\"\\n\")\n",
        "\n",
        "# or\n",
        "\n",
        "rank_3_tensor = tf.expand_dims(rank_2_tensor, axis=-1)\n",
        "print(rank_3_tensor)"
      ]
    },
    {
      "cell_type": "code",
      "execution_count": 40,
      "metadata": {},
      "outputs": [
        {
          "name": "stdout",
          "output_type": "stream",
          "text": [
            "tf.Tensor(\n",
            "[[[10  7]]\n",
            "\n",
            " [[ 3  4]]], shape=(2, 1, 2), dtype=int32) \n",
            "\n",
            "tf.Tensor(\n",
            "[[[10  7]]\n",
            "\n",
            " [[ 3  4]]], shape=(2, 1, 2), dtype=int32)\n"
          ]
        }
      ],
      "source": [
        "rank_3_tensor = rank_2_tensor[:,tf.newaxis,:]\n",
        "print(rank_3_tensor,\"\\n\")\n",
        "\n",
        "# or\n",
        "\n",
        "rank_3_tensor = tf.expand_dims(rank_2_tensor, axis=1)\n",
        "print(rank_3_tensor)"
      ]
    },
    {
      "cell_type": "code",
      "execution_count": 41,
      "metadata": {},
      "outputs": [
        {
          "data": {
            "text/plain": [
              "<tf.Tensor: shape=(2, 1, 1, 2), dtype=int32, numpy=\n",
              "array([[[[10,  7]]],\n",
              "\n",
              "\n",
              "       [[[ 3,  4]]]], dtype=int32)>"
            ]
          },
          "execution_count": 41,
          "metadata": {},
          "output_type": "execute_result"
        }
      ],
      "source": [
        "rank_3_tensor[:,:, tf.newaxis]"
      ]
    },
    {
      "attachments": {
        "image-2.png": {
          "image/png": "[encoded data removed]"
        },
        "image.png": {
          "image/png": "[encoded data removed]"
        }
      },
      "cell_type": "markdown",
      "metadata": {},
      "source": [
        "#### 2.4 Axis or Dimension\n",
        "A particular dimension of tensor.  <p> ![image.png](attachment:image.png) <br>\n",
        "![image-2.png](attachment:image-2.png)"
      ]
    },
    {
      "cell_type": "code",
      "execution_count": 42,
      "metadata": {},
      "outputs": [
        {
          "data": {
            "text/plain": [
              "<tf.Tensor: shape=(3, 2, 4, 5), dtype=float32, numpy=\n",
              "array([[[[0., 0., 0., 0., 0.],\n",
              "         [0., 0., 0., 0., 0.],\n",
              "         [0., 0., 0., 0., 0.],\n",
              "         [0., 0., 0., 0., 0.]],\n",
              "\n",
              "        [[0., 0., 0., 0., 0.],\n",
              "         [0., 0., 0., 0., 0.],\n",
              "         [0., 0., 0., 0., 0.],\n",
              "         [0., 0., 0., 0., 0.]]],\n",
              "\n",
              "\n",
              "       [[[0., 0., 0., 0., 0.],\n",
              "         [0., 0., 0., 0., 0.],\n",
              "         [0., 0., 0., 0., 0.],\n",
              "         [0., 0., 0., 0., 0.]],\n",
              "\n",
              "        [[0., 0., 0., 0., 0.],\n",
              "         [0., 0., 0., 0., 0.],\n",
              "         [0., 0., 0., 0., 0.],\n",
              "         [0., 0., 0., 0., 0.]]],\n",
              "\n",
              "\n",
              "       [[[0., 0., 0., 0., 0.],\n",
              "         [0., 0., 0., 0., 0.],\n",
              "         [0., 0., 0., 0., 0.],\n",
              "         [0., 0., 0., 0., 0.]],\n",
              "\n",
              "        [[0., 0., 0., 0., 0.],\n",
              "         [0., 0., 0., 0., 0.],\n",
              "         [0., 0., 0., 0., 0.],\n",
              "         [0., 0., 0., 0., 0.]]]], dtype=float32)>"
            ]
          },
          "execution_count": 42,
          "metadata": {},
          "output_type": "execute_result"
        }
      ],
      "source": [
        "rank4 = tf.zeros(shape=(3,2,4,5))\n",
        "rank4"
      ]
    },
    {
      "cell_type": "code",
      "execution_count": 43,
      "metadata": {},
      "outputs": [
        {
          "name": "stdout",
          "output_type": "stream",
          "text": [
            "Elements along axis 0 of tensor: 3\n",
            "Elements along axis 2 of tensor: 4\n",
            "Elements along the last axis of tensor: 5 which is the same as:  5\n"
          ]
        }
      ],
      "source": [
        "print(\"Elements along axis 0 of tensor:\", rank4.shape[0])\n",
        "print(\"Elements along axis 2 of tensor:\", rank4.shape[2])\n",
        "print(\"Elements along the last axis of tensor:\", rank4.shape[-1], \"which is the same as: \", rank4.shape[3])"
      ]
    },
    {
      "cell_type": "code",
      "execution_count": 44,
      "metadata": {},
      "outputs": [
        {
          "name": "stdout",
          "output_type": "stream",
          "text": [
            "Type of every element: <dtype: 'float32'>\n",
            "Shape of tensor: (3, 2, 4, 5)\n",
            "Total number of elements (3*2*4*5):  120\n"
          ]
        }
      ],
      "source": [
        "# some other attrubutes of tensors\n",
        "print(\"Type of every element:\", rank4.dtype)\n",
        "print(\"Shape of tensor:\", rank4.shape)\n",
        "print(\"Total number of elements (3*2*4*5): \", tf.size(rank4).numpy())"
      ]
    },
    {
      "cell_type": "markdown",
      "metadata": {
        "id": "q88pJucBolsp"
      },
      "source": [
        "### 3. Indexing and Slicing Tensors\n",
        "You may be familiar with the term \"slice\" in python and its use on lists, tuples etc. Well the slice operator can be used on tensors to select specific axes or elements.\n",
        "\n",
        "When we slice or select elements from a tensor, we can use comma seperated values inside the set of square brackets. Each subsequent value refrences a different dimension of the tensor.\n",
        "\n",
        "Ex: ```tensor[dim1, dim2, dim3, ...]```\n",
        "\n",
        "I've included a few examples that will hopefully help illustrate how we can manipulate tensors with the slice operator."
      ]
    },
    {
      "cell_type": "code",
      "execution_count": 45,
      "metadata": {},
      "outputs": [
        {
          "data": {
            "text/plain": [
              "<tf.Tensor: shape=(3, 2, 3, 4), dtype=int64, numpy=\n",
              "array([[[[ 1,  2,  3,  4],\n",
              "         [ 5,  6,  7,  8],\n",
              "         [ 9, 10, 11, 12]],\n",
              "\n",
              "        [[13, 14, 15, 16],\n",
              "         [17, 18, 19, 20],\n",
              "         [21, 22, 23, 24]]],\n",
              "\n",
              "\n",
              "       [[[25, 26, 27, 28],\n",
              "         [29, 30, 31, 32],\n",
              "         [33, 34, 35, 36]],\n",
              "\n",
              "        [[37, 38, 39, 40],\n",
              "         [41, 42, 43, 44],\n",
              "         [45, 46, 47, 48]]],\n",
              "\n",
              "\n",
              "       [[[49, 50, 51, 52],\n",
              "         [53, 54, 55, 56],\n",
              "         [57, 58, 59, 60]],\n",
              "\n",
              "        [[61, 62, 63, 64],\n",
              "         [65, 66, 67, 68],\n",
              "         [69, 70, 71, 72]]]])>"
            ]
          },
          "execution_count": 45,
          "metadata": {},
          "output_type": "execute_result"
        }
      ],
      "source": [
        "rank_4_tensor = tf.constant(np.arange(1,73), shape=(3,2,3,4))\n",
        "rank_4_tensor"
      ]
    },
    {
      "cell_type": "code",
      "execution_count": 46,
      "metadata": {},
      "outputs": [
        {
          "data": {
            "text/plain": [
              "<tf.Tensor: shape=(1, 2, 3, 4), dtype=int64, numpy=\n",
              "array([[[[ 1,  2,  3,  4],\n",
              "         [ 5,  6,  7,  8],\n",
              "         [ 9, 10, 11, 12]],\n",
              "\n",
              "        [[13, 14, 15, 16],\n",
              "         [17, 18, 19, 20],\n",
              "         [21, 22, 23, 24]]]])>"
            ]
          },
          "execution_count": 46,
          "metadata": {},
          "output_type": "execute_result"
        }
      ],
      "source": [
        "# Get the first 2 elements of each dimension\n",
        "rank_4_tensor[:1]"
      ]
    },
    {
      "cell_type": "code",
      "execution_count": 47,
      "metadata": {},
      "outputs": [
        {
          "data": {
            "text/plain": [
              "<tf.Tensor: shape=(1, 1, 3, 4), dtype=int64, numpy=\n",
              "array([[[[ 1,  2,  3,  4],\n",
              "         [ 5,  6,  7,  8],\n",
              "         [ 9, 10, 11, 12]]]])>"
            ]
          },
          "execution_count": 47,
          "metadata": {},
          "output_type": "execute_result"
        }
      ],
      "source": [
        "rank_4_tensor[:1, :1]"
      ]
    },
    {
      "cell_type": "code",
      "execution_count": 48,
      "metadata": {},
      "outputs": [
        {
          "data": {
            "text/plain": [
              "<tf.Tensor: shape=(1, 1, 1, 4), dtype=int64, numpy=array([[[[1, 2, 3, 4]]]])>"
            ]
          },
          "execution_count": 48,
          "metadata": {},
          "output_type": "execute_result"
        }
      ],
      "source": [
        "rank_4_tensor[:1, :1, :1]"
      ]
    },
    {
      "cell_type": "code",
      "execution_count": 49,
      "metadata": {},
      "outputs": [
        {
          "data": {
            "text/plain": [
              "<tf.Tensor: shape=(1, 1, 1, 1), dtype=int64, numpy=array([[[[1]]]])>"
            ]
          },
          "execution_count": 49,
          "metadata": {},
          "output_type": "execute_result"
        }
      ],
      "source": [
        "rank_4_tensor[:1, :1, :1, :1]"
      ]
    },
    {
      "cell_type": "code",
      "execution_count": 50,
      "metadata": {},
      "outputs": [
        {
          "data": {
            "text/plain": [
              "<tf.Tensor: shape=(2, 2, 2, 2), dtype=int64, numpy=\n",
              "array([[[[ 1,  2],\n",
              "         [ 5,  6]],\n",
              "\n",
              "        [[13, 14],\n",
              "         [17, 18]]],\n",
              "\n",
              "\n",
              "       [[[25, 26],\n",
              "         [29, 30]],\n",
              "\n",
              "        [[37, 38],\n",
              "         [41, 42]]]])>"
            ]
          },
          "execution_count": 50,
          "metadata": {},
          "output_type": "execute_result"
        }
      ],
      "source": [
        "rank_4_tensor[:2, :2, :2, :2]"
      ]
    },
    {
      "cell_type": "code",
      "execution_count": 51,
      "metadata": {
        "id": "b0YrD-hRqD-W"
      },
      "outputs": [
        {
          "name": "stdout",
          "output_type": "stream",
          "text": [
            "[[ 1  2  3  4  5]\n",
            " [ 6  7  8  9 10]\n",
            " [11 12 13 14 15]\n",
            " [16 17 18 19 20]] \n",
            "\n",
            "rank =  2 \n",
            "\n",
            "shape =  (4, 5)\n"
          ]
        }
      ],
      "source": [
        "# Creating a 2D tensor\n",
        "matrix = [[1,2,3,4,5],\n",
        "          [6,7,8,9,10],\n",
        "          [11,12,13,14,15],\n",
        "          [16,17,18,19,20]]\n",
        "\n",
        "tensor = tf.Variable(matrix, dtype=tf.int32)\n",
        "print(tensor.numpy(),\"\\n\")\n",
        "print(\"rank = \",tf.rank(tensor).numpy(),\"\\n\")\n",
        "print(\"shape = \",tensor.shape)"
      ]
    },
    {
      "cell_type": "code",
      "execution_count": 52,
      "metadata": {},
      "outputs": [
        {
          "name": "stdout",
          "output_type": "stream",
          "text": [
            "tf.Tensor([16 17 18 19 20], shape=(5,), dtype=int32)\n"
          ]
        }
      ],
      "source": [
        "print(tensor[-1])"
      ]
    },
    {
      "cell_type": "code",
      "execution_count": 53,
      "metadata": {},
      "outputs": [
        {
          "name": "stdout",
          "output_type": "stream",
          "text": [
            "tf.Tensor([ 4  9 14 19], shape=(4,), dtype=int32)\n"
          ]
        }
      ],
      "source": [
        "print(tensor[:, -2])"
      ]
    },
    {
      "cell_type": "code",
      "execution_count": 54,
      "metadata": {
        "id": "Wd85uGI7qyfC"
      },
      "outputs": [
        {
          "name": "stdout",
          "output_type": "stream",
          "text": [
            "Row 1: [1 2 3 4 5]\n",
            "\n",
            "Third element [0,2]: 3 \n",
            "\n",
            "Column 1: [ 1  6 11 16]\n",
            "\n",
            "2nd and 4th row: \n",
            "[[ 6  7  8  9 10]\n",
            " [16 17 18 19 20]] \n",
            "\n",
            "2nd and 3rd and 4th row: \n",
            "[[ 6  7  8  9 10]\n",
            " [11 12 13 14 15]\n",
            " [16 17 18 19 20]] \n",
            "\n",
            "Column 2 and 3: \n",
            "[[ 2  3]\n",
            " [ 7  8]\n",
            " [12 13]\n",
            " [17 18]] \n",
            "\n",
            "Column 2 and 3 in 2nd and 3rd row : \n",
            "[[ 7  8]\n",
            " [12 13]]\n"
          ]
        }
      ],
      "source": [
        "# Now lets select some different rows and columns from our tensor\n",
        "row1 = tensor[0]  # selects the first row\n",
        "print(f\"Row 1: {row1}\\n\")\n",
        "\n",
        "three = tensor[0,2]  # selects the 3rd element from the 1st row\n",
        "print(f\"Third element [0,2]: {three.numpy()} \\n\")  # -> 3\n",
        "\n",
        "column1 = tensor[:, 0]  # selects the first column\n",
        "print(f\"Column 1: {column1}\\n\")\n",
        "\n",
        "row_2_and_4 = tensor[1::2]  # selects second and fourth row [start : stop : step]\n",
        "print(f\"2nd and 4th row: \\n{row_2_and_4} \\n\")\n",
        "\n",
        "row_2_and_3_and_4 = tensor[1:4:1]  # selects second, third and fourth row\n",
        "print(f\"2nd and 3rd and 4th row: \\n{row_2_and_3_and_4 } \\n\")\n",
        "\n",
        "column_2_and_3 = tensor[:, 1:3]\n",
        "print(f\"Column 2 and 3: \\n{column_2_and_3} \\n\")\n",
        "\n",
        "column_2_and_3_in_row_2_and_3 = tensor[1:3, 1:3]  \n",
        "print(f\"Column 2 and 3 in 2nd and 3rd row : \\n{column_2_and_3_in_row_2_and_3}\")\n"
      ]
    },
    {
      "cell_type": "markdown",
      "metadata": {},
      "source": [
        "### 4. Manipulating tensors (Tensor operation)\n",
        "#### 4.1 **Basic Operation** <br>\n",
        "`+` &ensp; `-` &ensp; `*` &ensp; `/` &ensp; `abs`"
      ]
    },
    {
      "cell_type": "code",
      "execution_count": 55,
      "metadata": {},
      "outputs": [
        {
          "data": {
            "text/plain": [
              "<tf.Tensor: shape=(2, 2), dtype=int32, numpy=\n",
              "array([[1, 2],\n",
              "       [4, 5]], dtype=int32)>"
            ]
          },
          "execution_count": 55,
          "metadata": {},
          "output_type": "execute_result"
        }
      ],
      "source": [
        "tensor = tf.constant([[1, 2], [4, 5]])\n",
        "tensor"
      ]
    },
    {
      "cell_type": "code",
      "execution_count": 56,
      "metadata": {},
      "outputs": [
        {
          "data": {
            "text/plain": [
              "<tf.Tensor: shape=(2, 2), dtype=int32, numpy=\n",
              "array([[11, 12],\n",
              "       [14, 15]], dtype=int32)>"
            ]
          },
          "execution_count": 56,
          "metadata": {},
          "output_type": "execute_result"
        }
      ],
      "source": [
        "tensor + 10"
      ]
    },
    {
      "cell_type": "code",
      "execution_count": 57,
      "metadata": {},
      "outputs": [
        {
          "data": {
            "text/plain": [
              "<tf.Tensor: shape=(2, 2), dtype=int32, numpy=\n",
              "array([[-9, -8],\n",
              "       [-6, -5]], dtype=int32)>"
            ]
          },
          "execution_count": 57,
          "metadata": {},
          "output_type": "execute_result"
        }
      ],
      "source": [
        "tensor - 10"
      ]
    },
    {
      "cell_type": "code",
      "execution_count": 58,
      "metadata": {},
      "outputs": [
        {
          "data": {
            "text/plain": [
              "<tf.Tensor: shape=(2, 2), dtype=int32, numpy=\n",
              "array([[10, 20],\n",
              "       [40, 50]], dtype=int32)>"
            ]
          },
          "execution_count": 58,
          "metadata": {},
          "output_type": "execute_result"
        }
      ],
      "source": [
        "tensor * 10"
      ]
    },
    {
      "cell_type": "code",
      "execution_count": 59,
      "metadata": {},
      "outputs": [
        {
          "data": {
            "text/plain": [
              "<tf.Tensor: shape=(2, 2), dtype=float64, numpy=\n",
              "array([[0.1, 0.2],\n",
              "       [0.4, 0.5]])>"
            ]
          },
          "execution_count": 59,
          "metadata": {},
          "output_type": "execute_result"
        }
      ],
      "source": [
        "tensor / 10"
      ]
    },
    {
      "cell_type": "code",
      "execution_count": 60,
      "metadata": {},
      "outputs": [
        {
          "data": {
            "text/plain": [
              "<tf.Tensor: shape=(2, 2), dtype=int32, numpy=\n",
              "array([[9, 8],\n",
              "       [6, 5]], dtype=int32)>"
            ]
          },
          "execution_count": 60,
          "metadata": {},
          "output_type": "execute_result"
        }
      ],
      "source": [
        "tf.abs(tensor - 10)"
      ]
    },
    {
      "cell_type": "markdown",
      "metadata": {},
      "source": [
        "#### 4.2 Matrix Multiplication\n",
        "In ML, matrix multiplication is one of the most common tensor operation. It can be done using `tf.matmul(a, b`)"
      ]
    },
    {
      "cell_type": "code",
      "execution_count": 61,
      "metadata": {},
      "outputs": [
        {
          "name": "stdout",
          "output_type": "stream",
          "text": [
            "tf.Tensor(\n",
            "[[1 2]\n",
            " [4 5]], shape=(2, 2), dtype=int32)\n"
          ]
        }
      ],
      "source": [
        "print(tensor)"
      ]
    },
    {
      "cell_type": "code",
      "execution_count": 62,
      "metadata": {},
      "outputs": [
        {
          "data": {
            "text/plain": [
              "<tf.Tensor: shape=(2, 2), dtype=int32, numpy=\n",
              "array([[ 9, 12],\n",
              "       [24, 33]], dtype=int32)>"
            ]
          },
          "execution_count": 62,
          "metadata": {},
          "output_type": "execute_result"
        }
      ],
      "source": [
        "tf.matmul(tensor, tensor)"
      ]
    },
    {
      "cell_type": "code",
      "execution_count": 63,
      "metadata": {},
      "outputs": [
        {
          "data": {
            "text/plain": [
              "<tf.Tensor: shape=(2, 2), dtype=int32, numpy=\n",
              "array([[ 9, 12],\n",
              "       [24, 33]], dtype=int32)>"
            ]
          },
          "execution_count": 63,
          "metadata": {},
          "output_type": "execute_result"
        }
      ],
      "source": [
        "# or @ operator also do the matrix multiplication\n",
        "tensor @ tensor"
      ]
    },
    {
      "cell_type": "code",
      "execution_count": 64,
      "metadata": {},
      "outputs": [
        {
          "data": {
            "text/plain": [
              "<tf.Tensor: shape=(2, 2), dtype=int32, numpy=\n",
              "array([[ 1,  4],\n",
              "       [16, 25]], dtype=int32)>"
            ]
          },
          "execution_count": 64,
          "metadata": {},
          "output_type": "execute_result"
        }
      ],
      "source": [
        "# element wise operation\n",
        "tensor * tensor "
      ]
    },
    {
      "cell_type": "markdown",
      "metadata": {},
      "source": [
        "#### 4.3 Transpose vs reshape"
      ]
    },
    {
      "cell_type": "code",
      "execution_count": 65,
      "metadata": {},
      "outputs": [
        {
          "name": "stdout",
          "output_type": "stream",
          "text": [
            "tf.Tensor(\n",
            "[[10  7]\n",
            " [ 3  4]\n",
            " [ 2  5]], shape=(3, 2), dtype=int32) \n",
            "\n",
            " tf.Tensor(\n",
            "[[10  3  2]\n",
            " [ 7  4  5]], shape=(2, 3), dtype=int32) \n",
            "\n",
            " tf.Tensor(\n",
            "[[10  7  3]\n",
            " [ 4  2  5]], shape=(2, 3), dtype=int32)\n"
          ]
        }
      ],
      "source": [
        "x = tf.constant([[10,7],[3,4],[2,5]])\n",
        "print(x,\"\\n\\n\", tf.transpose(x), \"\\n\\n\", tf.reshape(x, shape = (2,3)))"
      ]
    },
    {
      "cell_type": "markdown",
      "metadata": {},
      "source": [
        "#### 4.4 Aggregrating functions\n",
        "- Maximum\n",
        "- Minimum\n",
        "- Mean\n",
        "- Sum\n",
        "- Standard Deviation\n",
        "- Variance\n",
        "- Square\n",
        "- Sqrt\n",
        "- Log etc.\n",
        "  "
      ]
    },
    {
      "cell_type": "code",
      "execution_count": 66,
      "metadata": {},
      "outputs": [
        {
          "data": {
            "text/plain": [
              "<tf.Tensor: shape=(2, 16), dtype=int64, numpy=\n",
              "array([[14, 26, 79, 89, 70, 69, 68,  8, 84,  3, 18, 50, 49, 55, 20, 29],\n",
              "       [23,  8,  9, 44, 66, 86, 34, 95, 16, 74, 32,  8, 62,  9, 61, 46]])>"
            ]
          },
          "execution_count": 66,
          "metadata": {},
          "output_type": "execute_result"
        }
      ],
      "source": [
        "e = tf.constant(np.random.randint(0,100, size = 32), shape = (2,16))\n",
        "e"
      ]
    },
    {
      "cell_type": "code",
      "execution_count": 67,
      "metadata": {},
      "outputs": [
        {
          "name": "stdout",
          "output_type": "stream",
          "text": [
            "3\n",
            "[3 8]\n",
            "[14  8  9 44 66 69 34  8 16  3 18  8 49  9 20 29]\n"
          ]
        }
      ],
      "source": [
        "# minimum\n",
        "print(tf.reduce_min(e).numpy())\n",
        "print(tf.reduce_min(e, axis = 1).numpy())\n",
        "print(tf.reduce_min(e, axis = 0).numpy())"
      ]
    },
    {
      "cell_type": "code",
      "execution_count": 68,
      "metadata": {},
      "outputs": [
        {
          "name": "stdout",
          "output_type": "stream",
          "text": [
            "[9 1]\n"
          ]
        }
      ],
      "source": [
        "# we can also get the position of the minimum\n",
        "print(tf.argmin(e, axis = 1).numpy())"
      ]
    },
    {
      "cell_type": "markdown",
      "metadata": {},
      "source": [
        "The term \"reduce\" refers to reducing the number of dimensions by aggregating along a specific axis or across all axes. <br>\n",
        "Reduces `input_tensor` along the dimensions given in axis. Unless `keepdims` is true, the rank of the tensor is reduced by $1$ for each of the entries in axis, which must be unique. <br>If keepdims is true, the reduced dimensions are retained with length $1$."
      ]
    },
    {
      "cell_type": "code",
      "execution_count": 69,
      "metadata": {},
      "outputs": [
        {
          "name": "stdout",
          "output_type": "stream",
          "text": [
            "[[95]]\n",
            "[89 95]\n",
            "[23 26 79 89 70 86 68 95 84 74 32 50 62 55 61 46]\n"
          ]
        }
      ],
      "source": [
        "# maximum\n",
        "print(tf.reduce_max(e, keepdims=True).numpy()) # keepdims = True for keeping the dimension \n",
        "print(tf.reduce_max(e, axis = 1).numpy())\n",
        "print(tf.reduce_max(e, axis = 0).numpy())\n"
      ]
    },
    {
      "cell_type": "code",
      "execution_count": 70,
      "metadata": {},
      "outputs": [
        {
          "name": "stdout",
          "output_type": "stream",
          "text": [
            "[3 7]\n"
          ]
        }
      ],
      "source": [
        "# position of maximum\n",
        "print(tf.argmax(e, axis = 1).numpy())"
      ]
    },
    {
      "cell_type": "code",
      "execution_count": 71,
      "metadata": {},
      "outputs": [
        {
          "name": "stdout",
          "output_type": "stream",
          "text": [
            "43\n",
            "[45 42]\n",
            "[18 17 44 66 68 77 51 51 50 38 25 29 55 32 40 37]\n"
          ]
        }
      ],
      "source": [
        "# mean\n",
        "print(tf.reduce_mean(e).numpy())\n",
        "print(tf.reduce_mean(e, axis = 1).numpy())\n",
        "print(tf.reduce_mean(e, axis = 0).numpy())"
      ]
    },
    {
      "cell_type": "code",
      "execution_count": 72,
      "metadata": {},
      "outputs": [
        {
          "name": "stdout",
          "output_type": "stream",
          "text": [
            "1404\n",
            "[731 673]\n"
          ]
        }
      ],
      "source": [
        "# sum\n",
        "print(tf.reduce_sum(e).numpy())\n",
        "print(tf.reduce_sum(e, axis = 1).numpy())"
      ]
    },
    {
      "cell_type": "code",
      "execution_count": 73,
      "metadata": {},
      "outputs": [
        {
          "name": "stdout",
          "output_type": "stream",
          "text": [
            "28.208763\n",
            "[27.997139 28.302979]\n"
          ]
        }
      ],
      "source": [
        "# standard deviation\n",
        "## need to changing dtype to float or complex before calculating std. int won't work\n",
        "print(tf.math.reduce_std(tf.cast(e, dtype = tf.float32)).numpy())\n",
        "print(tf.math.reduce_std(tf.cast(e, dtype = tf.float32), axis = 1).numpy())"
      ]
    },
    {
      "cell_type": "code",
      "execution_count": 74,
      "metadata": {},
      "outputs": [
        {
          "name": "stdout",
          "output_type": "stream",
          "text": [
            "795.7344\n",
            "[783.83984 801.0586 ]\n"
          ]
        }
      ],
      "source": [
        "# variance\n",
        "print(tf.math.reduce_variance(tf.cast(e, dtype = tf.float32)).numpy())\n",
        "print(tf.math.reduce_variance(tf.cast(e, dtype = tf.float32), axis = 1).numpy())"
      ]
    },
    {
      "cell_type": "code",
      "execution_count": 75,
      "metadata": {},
      "outputs": [
        {
          "data": {
            "text/plain": [
              "<tf.Tensor: shape=(10,), dtype=int32, numpy=array([ 1,  3,  5,  7,  9, 11, 13, 15, 17, 19], dtype=int32)>"
            ]
          },
          "execution_count": 75,
          "metadata": {},
          "output_type": "execute_result"
        }
      ],
      "source": [
        "# squaring, log and other functions\n",
        "g = tf.range(1,20,2)\n",
        "g"
      ]
    },
    {
      "cell_type": "code",
      "execution_count": 76,
      "metadata": {},
      "outputs": [
        {
          "data": {
            "text/plain": [
              "<tf.Tensor: shape=(10,), dtype=int32, numpy=array([  1,   9,  25,  49,  81, 121, 169, 225, 289, 361], dtype=int32)>"
            ]
          },
          "execution_count": 76,
          "metadata": {},
          "output_type": "execute_result"
        }
      ],
      "source": [
        "tf.square(g)"
      ]
    },
    {
      "cell_type": "code",
      "execution_count": 77,
      "metadata": {},
      "outputs": [
        {
          "data": {
            "text/plain": [
              "<tf.Tensor: shape=(10,), dtype=float32, numpy=\n",
              "array([1.       , 1.7320508, 2.2360678, 2.6457512, 3.       , 3.3166246,\n",
              "       3.6055512, 3.8729832, 4.1231055, 4.3588986], dtype=float32)>"
            ]
          },
          "execution_count": 77,
          "metadata": {},
          "output_type": "execute_result"
        }
      ],
      "source": [
        "# need to change dtype to float or complex before calculating sqrt. int won't work\n",
        "tf.math.sqrt(tf.cast(g, dtype = tf.float32))"
      ]
    },
    {
      "cell_type": "code",
      "execution_count": 78,
      "metadata": {},
      "outputs": [
        {
          "data": {
            "text/plain": [
              "<tf.Tensor: shape=(10,), dtype=float32, numpy=\n",
              "array([0.       , 1.0986123, 1.609438 , 1.9459102, 2.1972246, 2.3978953,\n",
              "       2.5649493, 2.7080503, 2.8332133, 2.944439 ], dtype=float32)>"
            ]
          },
          "execution_count": 78,
          "metadata": {},
          "output_type": "execute_result"
        }
      ],
      "source": [
        "tf.math.log(tf.cast(g, dtype = tf.float32))"
      ]
    },
    {
      "cell_type": "markdown",
      "metadata": {},
      "source": [
        "### 5. Squeezing the tensor\n",
        "Removes the dimensions of size one from the shape of the tensor"
      ]
    },
    {
      "cell_type": "code",
      "execution_count": 79,
      "metadata": {},
      "outputs": [
        {
          "data": {
            "text/plain": [
              "<tf.Tensor: shape=(1, 1, 1, 2), dtype=int32, numpy=array([[[[2, 2]]]], dtype=int32)>"
            ]
          },
          "execution_count": 79,
          "metadata": {},
          "output_type": "execute_result"
        }
      ],
      "source": [
        "f = tf.constant(2, shape = (1,1,1,2))\n",
        "f"
      ]
    },
    {
      "cell_type": "code",
      "execution_count": 80,
      "metadata": {},
      "outputs": [
        {
          "data": {
            "text/plain": [
              "<tf.Tensor: shape=(2,), dtype=int32, numpy=array([2, 2], dtype=int32)>"
            ]
          },
          "execution_count": 80,
          "metadata": {},
          "output_type": "execute_result"
        }
      ],
      "source": [
        "f_squeezed = tf.squeeze(f)\n",
        "f_squeezed"
      ]
    }
  ],
  "metadata": {
    "colab": {
      "provenance": []
    },
    "kernelspec": {
      "display_name": "Python 3",
      "name": "python3"
    },
    "language_info": {
      "codemirror_mode": {
        "name": "ipython",
        "version": 3
      },
      "file_extension": ".py",
      "mimetype": "text/x-python",
      "name": "python",
      "nbconvert_exporter": "python",
      "pygments_lexer": "ipython3",
      "version": "3.11.9"
    }
  },
  "nbformat": 4,
  "nbformat_minor": 0
}
