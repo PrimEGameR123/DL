{
 "cells": [
  {
   "cell_type": "code",
   "execution_count": 1,
   "metadata": {},
   "outputs": [],
   "source": [
    "import pandas as pd\n",
    "import numpy as np"
   ]
  },
  {
   "cell_type": "code",
   "execution_count": 4,
   "metadata": {},
   "outputs": [
    {
     "data": {
      "text/html": [
       "<div>\n",
       "<style scoped>\n",
       "    .dataframe tbody tr th:only-of-type {\n",
       "        vertical-align: middle;\n",
       "    }\n",
       "\n",
       "    .dataframe tbody tr th {\n",
       "        vertical-align: top;\n",
       "    }\n",
       "\n",
       "    .dataframe thead th {\n",
       "        text-align: right;\n",
       "    }\n",
       "</style>\n",
       "<table border=\"1\" class=\"dataframe\">\n",
       "  <thead>\n",
       "    <tr style=\"text-align: right;\">\n",
       "      <th></th>\n",
       "      <th>RowNumber</th>\n",
       "      <th>CustomerId</th>\n",
       "      <th>Surname</th>\n",
       "      <th>CreditScore</th>\n",
       "      <th>Geography</th>\n",
       "      <th>Gender</th>\n",
       "      <th>Age</th>\n",
       "      <th>Tenure</th>\n",
       "      <th>Balance</th>\n",
       "      <th>NumOfProducts</th>\n",
       "      <th>HasCrCard</th>\n",
       "      <th>IsActiveMember</th>\n",
       "      <th>EstimatedSalary</th>\n",
       "      <th>Exited</th>\n",
       "    </tr>\n",
       "  </thead>\n",
       "  <tbody>\n",
       "    <tr>\n",
       "      <th>5431</th>\n",
       "      <td>5432</td>\n",
       "      <td>15582951</td>\n",
       "      <td>Crawford</td>\n",
       "      <td>696</td>\n",
       "      <td>France</td>\n",
       "      <td>Female</td>\n",
       "      <td>25</td>\n",
       "      <td>8</td>\n",
       "      <td>126442.59</td>\n",
       "      <td>1</td>\n",
       "      <td>1</td>\n",
       "      <td>0</td>\n",
       "      <td>121904.44</td>\n",
       "      <td>0</td>\n",
       "    </tr>\n",
       "    <tr>\n",
       "      <th>5823</th>\n",
       "      <td>5824</td>\n",
       "      <td>15573628</td>\n",
       "      <td>Greene</td>\n",
       "      <td>751</td>\n",
       "      <td>Germany</td>\n",
       "      <td>Female</td>\n",
       "      <td>51</td>\n",
       "      <td>7</td>\n",
       "      <td>148074.79</td>\n",
       "      <td>1</td>\n",
       "      <td>1</td>\n",
       "      <td>0</td>\n",
       "      <td>146411.41</td>\n",
       "      <td>1</td>\n",
       "    </tr>\n",
       "    <tr>\n",
       "      <th>4425</th>\n",
       "      <td>4426</td>\n",
       "      <td>15805523</td>\n",
       "      <td>Nnaife</td>\n",
       "      <td>717</td>\n",
       "      <td>France</td>\n",
       "      <td>Female</td>\n",
       "      <td>28</td>\n",
       "      <td>1</td>\n",
       "      <td>90537.16</td>\n",
       "      <td>1</td>\n",
       "      <td>0</td>\n",
       "      <td>1</td>\n",
       "      <td>74800.99</td>\n",
       "      <td>0</td>\n",
       "    </tr>\n",
       "    <tr>\n",
       "      <th>8619</th>\n",
       "      <td>8620</td>\n",
       "      <td>15661830</td>\n",
       "      <td>Lucciano</td>\n",
       "      <td>750</td>\n",
       "      <td>Spain</td>\n",
       "      <td>Female</td>\n",
       "      <td>36</td>\n",
       "      <td>6</td>\n",
       "      <td>0.00</td>\n",
       "      <td>2</td>\n",
       "      <td>1</td>\n",
       "      <td>1</td>\n",
       "      <td>59816.41</td>\n",
       "      <td>0</td>\n",
       "    </tr>\n",
       "    <tr>\n",
       "      <th>6532</th>\n",
       "      <td>6533</td>\n",
       "      <td>15732299</td>\n",
       "      <td>Boniwell</td>\n",
       "      <td>756</td>\n",
       "      <td>France</td>\n",
       "      <td>Male</td>\n",
       "      <td>67</td>\n",
       "      <td>4</td>\n",
       "      <td>0.00</td>\n",
       "      <td>3</td>\n",
       "      <td>1</td>\n",
       "      <td>1</td>\n",
       "      <td>93081.87</td>\n",
       "      <td>0</td>\n",
       "    </tr>\n",
       "  </tbody>\n",
       "</table>\n",
       "</div>"
      ],
      "text/plain": [
       "      RowNumber  CustomerId   Surname  CreditScore Geography  Gender  Age  \\\n",
       "5431       5432    15582951  Crawford          696    France  Female   25   \n",
       "5823       5824    15573628    Greene          751   Germany  Female   51   \n",
       "4425       4426    15805523    Nnaife          717    France  Female   28   \n",
       "8619       8620    15661830  Lucciano          750     Spain  Female   36   \n",
       "6532       6533    15732299  Boniwell          756    France    Male   67   \n",
       "\n",
       "      Tenure    Balance  NumOfProducts  HasCrCard  IsActiveMember  \\\n",
       "5431       8  126442.59              1          1               0   \n",
       "5823       7  148074.79              1          1               0   \n",
       "4425       1   90537.16              1          0               1   \n",
       "8619       6       0.00              2          1               1   \n",
       "6532       4       0.00              3          1               1   \n",
       "\n",
       "      EstimatedSalary  Exited  \n",
       "5431        121904.44       0  \n",
       "5823        146411.41       1  \n",
       "4425         74800.99       0  \n",
       "8619         59816.41       0  \n",
       "6532         93081.87       0  "
      ]
     },
     "execution_count": 4,
     "metadata": {},
     "output_type": "execute_result"
    }
   ],
   "source": [
    "df = pd.read_csv(\"https://raw.githubusercontent.com/sharmaroshan/Churn-Modelling-Dataset/refs/heads/master/Churn_Modelling.csv\")\n",
    "# or\n",
    "df = pd.read_csv(\"Churn_Modelling.csv\")\n",
    "df.sample(5)"
   ]
  },
  {
   "cell_type": "code",
   "execution_count": 5,
   "metadata": {},
   "outputs": [
    {
     "data": {
      "text/plain": [
       "(10000, 14)"
      ]
     },
     "execution_count": 5,
     "metadata": {},
     "output_type": "execute_result"
    }
   ],
   "source": [
    "df.shape"
   ]
  },
  {
   "cell_type": "code",
   "execution_count": 4,
   "metadata": {},
   "outputs": [
    {
     "data": {
      "text/plain": [
       "RowNumber          0\n",
       "CustomerId         0\n",
       "Surname            0\n",
       "CreditScore        0\n",
       "Geography          0\n",
       "Gender             0\n",
       "Age                0\n",
       "Tenure             0\n",
       "Balance            0\n",
       "NumOfProducts      0\n",
       "HasCrCard          0\n",
       "IsActiveMember     0\n",
       "EstimatedSalary    0\n",
       "Exited             0\n",
       "dtype: int64"
      ]
     },
     "execution_count": 4,
     "metadata": {},
     "output_type": "execute_result"
    }
   ],
   "source": [
    "df.isna().sum()"
   ]
  },
  {
   "cell_type": "code",
   "execution_count": 5,
   "metadata": {},
   "outputs": [
    {
     "name": "stdout",
     "output_type": "stream",
     "text": [
      "<class 'pandas.core.frame.DataFrame'>\n",
      "RangeIndex: 10000 entries, 0 to 9999\n",
      "Data columns (total 14 columns):\n",
      " #   Column           Non-Null Count  Dtype  \n",
      "---  ------           --------------  -----  \n",
      " 0   RowNumber        10000 non-null  int64  \n",
      " 1   CustomerId       10000 non-null  int64  \n",
      " 2   Surname          10000 non-null  object \n",
      " 3   CreditScore      10000 non-null  int64  \n",
      " 4   Geography        10000 non-null  object \n",
      " 5   Gender           10000 non-null  object \n",
      " 6   Age              10000 non-null  int64  \n",
      " 7   Tenure           10000 non-null  int64  \n",
      " 8   Balance          10000 non-null  float64\n",
      " 9   NumOfProducts    10000 non-null  int64  \n",
      " 10  HasCrCard        10000 non-null  int64  \n",
      " 11  IsActiveMember   10000 non-null  int64  \n",
      " 12  EstimatedSalary  10000 non-null  float64\n",
      " 13  Exited           10000 non-null  int64  \n",
      "dtypes: float64(2), int64(9), object(3)\n",
      "memory usage: 1.1+ MB\n"
     ]
    }
   ],
   "source": [
    "df.info()"
   ]
  },
  {
   "cell_type": "code",
   "execution_count": 6,
   "metadata": {},
   "outputs": [
    {
     "data": {
      "text/plain": [
       "0"
      ]
     },
     "execution_count": 6,
     "metadata": {},
     "output_type": "execute_result"
    }
   ],
   "source": [
    "df.duplicated().sum()"
   ]
  },
  {
   "cell_type": "code",
   "execution_count": 7,
   "metadata": {},
   "outputs": [
    {
     "data": {
      "text/plain": [
       "Exited\n",
       "0    7963\n",
       "1    2037\n",
       "Name: count, dtype: int64"
      ]
     },
     "execution_count": 7,
     "metadata": {},
     "output_type": "execute_result"
    }
   ],
   "source": [
    "df.Exited.value_counts()"
   ]
  },
  {
   "cell_type": "markdown",
   "metadata": {},
   "source": [
    "data is imbalanced. we could have dealt with this problem, but we we decided to keep it as it is for now."
   ]
  },
  {
   "cell_type": "code",
   "execution_count": 8,
   "metadata": {},
   "outputs": [
    {
     "data": {
      "text/plain": [
       "Geography\n",
       "France     5014\n",
       "Germany    2509\n",
       "Spain      2477\n",
       "Name: count, dtype: int64"
      ]
     },
     "execution_count": 8,
     "metadata": {},
     "output_type": "execute_result"
    }
   ],
   "source": [
    "df.Geography.value_counts()"
   ]
  },
  {
   "cell_type": "markdown",
   "metadata": {},
   "source": [
    "Some imbalance here too."
   ]
  },
  {
   "cell_type": "code",
   "execution_count": 9,
   "metadata": {},
   "outputs": [
    {
     "data": {
      "text/plain": [
       "Gender\n",
       "Male      5457\n",
       "Female    4543\n",
       "Name: count, dtype: int64"
      ]
     },
     "execution_count": 9,
     "metadata": {},
     "output_type": "execute_result"
    }
   ],
   "source": [
    "df.Gender.value_counts()"
   ]
  },
  {
   "cell_type": "markdown",
   "metadata": {},
   "source": [
    "here is somewhat balanced"
   ]
  },
  {
   "cell_type": "code",
   "execution_count": 10,
   "metadata": {},
   "outputs": [],
   "source": [
    "# removing rownumber, surname and customerid\n",
    "df.drop(columns=[\"RowNumber\", \"Surname\", \"CustomerId\"], axis=1, inplace=True)"
   ]
  },
  {
   "cell_type": "code",
   "execution_count": 11,
   "metadata": {},
   "outputs": [
    {
     "data": {
      "text/html": [
       "<div>\n",
       "<style scoped>\n",
       "    .dataframe tbody tr th:only-of-type {\n",
       "        vertical-align: middle;\n",
       "    }\n",
       "\n",
       "    .dataframe tbody tr th {\n",
       "        vertical-align: top;\n",
       "    }\n",
       "\n",
       "    .dataframe thead th {\n",
       "        text-align: right;\n",
       "    }\n",
       "</style>\n",
       "<table border=\"1\" class=\"dataframe\">\n",
       "  <thead>\n",
       "    <tr style=\"text-align: right;\">\n",
       "      <th></th>\n",
       "      <th>CreditScore</th>\n",
       "      <th>Geography</th>\n",
       "      <th>Gender</th>\n",
       "      <th>Age</th>\n",
       "      <th>Tenure</th>\n",
       "      <th>Balance</th>\n",
       "      <th>NumOfProducts</th>\n",
       "      <th>HasCrCard</th>\n",
       "      <th>IsActiveMember</th>\n",
       "      <th>EstimatedSalary</th>\n",
       "      <th>Exited</th>\n",
       "    </tr>\n",
       "  </thead>\n",
       "  <tbody>\n",
       "    <tr>\n",
       "      <th>0</th>\n",
       "      <td>619</td>\n",
       "      <td>France</td>\n",
       "      <td>Female</td>\n",
       "      <td>42</td>\n",
       "      <td>2</td>\n",
       "      <td>0.00</td>\n",
       "      <td>1</td>\n",
       "      <td>1</td>\n",
       "      <td>1</td>\n",
       "      <td>101348.88</td>\n",
       "      <td>1</td>\n",
       "    </tr>\n",
       "    <tr>\n",
       "      <th>1</th>\n",
       "      <td>608</td>\n",
       "      <td>Spain</td>\n",
       "      <td>Female</td>\n",
       "      <td>41</td>\n",
       "      <td>1</td>\n",
       "      <td>83807.86</td>\n",
       "      <td>1</td>\n",
       "      <td>0</td>\n",
       "      <td>1</td>\n",
       "      <td>112542.58</td>\n",
       "      <td>0</td>\n",
       "    </tr>\n",
       "    <tr>\n",
       "      <th>2</th>\n",
       "      <td>502</td>\n",
       "      <td>France</td>\n",
       "      <td>Female</td>\n",
       "      <td>42</td>\n",
       "      <td>8</td>\n",
       "      <td>159660.80</td>\n",
       "      <td>3</td>\n",
       "      <td>1</td>\n",
       "      <td>0</td>\n",
       "      <td>113931.57</td>\n",
       "      <td>1</td>\n",
       "    </tr>\n",
       "    <tr>\n",
       "      <th>3</th>\n",
       "      <td>699</td>\n",
       "      <td>France</td>\n",
       "      <td>Female</td>\n",
       "      <td>39</td>\n",
       "      <td>1</td>\n",
       "      <td>0.00</td>\n",
       "      <td>2</td>\n",
       "      <td>0</td>\n",
       "      <td>0</td>\n",
       "      <td>93826.63</td>\n",
       "      <td>0</td>\n",
       "    </tr>\n",
       "    <tr>\n",
       "      <th>4</th>\n",
       "      <td>850</td>\n",
       "      <td>Spain</td>\n",
       "      <td>Female</td>\n",
       "      <td>43</td>\n",
       "      <td>2</td>\n",
       "      <td>125510.82</td>\n",
       "      <td>1</td>\n",
       "      <td>1</td>\n",
       "      <td>1</td>\n",
       "      <td>79084.10</td>\n",
       "      <td>0</td>\n",
       "    </tr>\n",
       "  </tbody>\n",
       "</table>\n",
       "</div>"
      ],
      "text/plain": [
       "   CreditScore Geography  Gender  Age  Tenure    Balance  NumOfProducts  \\\n",
       "0          619    France  Female   42       2       0.00              1   \n",
       "1          608     Spain  Female   41       1   83807.86              1   \n",
       "2          502    France  Female   42       8  159660.80              3   \n",
       "3          699    France  Female   39       1       0.00              2   \n",
       "4          850     Spain  Female   43       2  125510.82              1   \n",
       "\n",
       "   HasCrCard  IsActiveMember  EstimatedSalary  Exited  \n",
       "0          1               1        101348.88       1  \n",
       "1          0               1        112542.58       0  \n",
       "2          1               0        113931.57       1  \n",
       "3          0               0         93826.63       0  \n",
       "4          1               1         79084.10       0  "
      ]
     },
     "execution_count": 11,
     "metadata": {},
     "output_type": "execute_result"
    }
   ],
   "source": [
    "df.head()"
   ]
  },
  {
   "cell_type": "code",
   "execution_count": 12,
   "metadata": {},
   "outputs": [],
   "source": [
    "# creating dummies for the categorical columns i.e., Geography and Gender\n",
    "df = pd.get_dummies(df, columns=[\"Geography\", \"Gender\"], drop_first=True, dtype=int)"
   ]
  },
  {
   "cell_type": "code",
   "execution_count": 13,
   "metadata": {},
   "outputs": [
    {
     "data": {
      "text/html": [
       "<div>\n",
       "<style scoped>\n",
       "    .dataframe tbody tr th:only-of-type {\n",
       "        vertical-align: middle;\n",
       "    }\n",
       "\n",
       "    .dataframe tbody tr th {\n",
       "        vertical-align: top;\n",
       "    }\n",
       "\n",
       "    .dataframe thead th {\n",
       "        text-align: right;\n",
       "    }\n",
       "</style>\n",
       "<table border=\"1\" class=\"dataframe\">\n",
       "  <thead>\n",
       "    <tr style=\"text-align: right;\">\n",
       "      <th></th>\n",
       "      <th>CreditScore</th>\n",
       "      <th>Age</th>\n",
       "      <th>Tenure</th>\n",
       "      <th>Balance</th>\n",
       "      <th>NumOfProducts</th>\n",
       "      <th>HasCrCard</th>\n",
       "      <th>IsActiveMember</th>\n",
       "      <th>EstimatedSalary</th>\n",
       "      <th>Exited</th>\n",
       "      <th>Geography_Germany</th>\n",
       "      <th>Geography_Spain</th>\n",
       "      <th>Gender_Male</th>\n",
       "    </tr>\n",
       "  </thead>\n",
       "  <tbody>\n",
       "    <tr>\n",
       "      <th>0</th>\n",
       "      <td>619</td>\n",
       "      <td>42</td>\n",
       "      <td>2</td>\n",
       "      <td>0.00</td>\n",
       "      <td>1</td>\n",
       "      <td>1</td>\n",
       "      <td>1</td>\n",
       "      <td>101348.88</td>\n",
       "      <td>1</td>\n",
       "      <td>0</td>\n",
       "      <td>0</td>\n",
       "      <td>0</td>\n",
       "    </tr>\n",
       "    <tr>\n",
       "      <th>1</th>\n",
       "      <td>608</td>\n",
       "      <td>41</td>\n",
       "      <td>1</td>\n",
       "      <td>83807.86</td>\n",
       "      <td>1</td>\n",
       "      <td>0</td>\n",
       "      <td>1</td>\n",
       "      <td>112542.58</td>\n",
       "      <td>0</td>\n",
       "      <td>0</td>\n",
       "      <td>1</td>\n",
       "      <td>0</td>\n",
       "    </tr>\n",
       "    <tr>\n",
       "      <th>2</th>\n",
       "      <td>502</td>\n",
       "      <td>42</td>\n",
       "      <td>8</td>\n",
       "      <td>159660.80</td>\n",
       "      <td>3</td>\n",
       "      <td>1</td>\n",
       "      <td>0</td>\n",
       "      <td>113931.57</td>\n",
       "      <td>1</td>\n",
       "      <td>0</td>\n",
       "      <td>0</td>\n",
       "      <td>0</td>\n",
       "    </tr>\n",
       "    <tr>\n",
       "      <th>3</th>\n",
       "      <td>699</td>\n",
       "      <td>39</td>\n",
       "      <td>1</td>\n",
       "      <td>0.00</td>\n",
       "      <td>2</td>\n",
       "      <td>0</td>\n",
       "      <td>0</td>\n",
       "      <td>93826.63</td>\n",
       "      <td>0</td>\n",
       "      <td>0</td>\n",
       "      <td>0</td>\n",
       "      <td>0</td>\n",
       "    </tr>\n",
       "    <tr>\n",
       "      <th>4</th>\n",
       "      <td>850</td>\n",
       "      <td>43</td>\n",
       "      <td>2</td>\n",
       "      <td>125510.82</td>\n",
       "      <td>1</td>\n",
       "      <td>1</td>\n",
       "      <td>1</td>\n",
       "      <td>79084.10</td>\n",
       "      <td>0</td>\n",
       "      <td>0</td>\n",
       "      <td>1</td>\n",
       "      <td>0</td>\n",
       "    </tr>\n",
       "  </tbody>\n",
       "</table>\n",
       "</div>"
      ],
      "text/plain": [
       "   CreditScore  Age  Tenure    Balance  NumOfProducts  HasCrCard  \\\n",
       "0          619   42       2       0.00              1          1   \n",
       "1          608   41       1   83807.86              1          0   \n",
       "2          502   42       8  159660.80              3          1   \n",
       "3          699   39       1       0.00              2          0   \n",
       "4          850   43       2  125510.82              1          1   \n",
       "\n",
       "   IsActiveMember  EstimatedSalary  Exited  Geography_Germany  \\\n",
       "0               1        101348.88       1                  0   \n",
       "1               1        112542.58       0                  0   \n",
       "2               0        113931.57       1                  0   \n",
       "3               0         93826.63       0                  0   \n",
       "4               1         79084.10       0                  0   \n",
       "\n",
       "   Geography_Spain  Gender_Male  \n",
       "0                0            0  \n",
       "1                1            0  \n",
       "2                0            0  \n",
       "3                0            0  \n",
       "4                1            0  "
      ]
     },
     "execution_count": 13,
     "metadata": {},
     "output_type": "execute_result"
    }
   ],
   "source": [
    "df.head()"
   ]
  },
  {
   "cell_type": "markdown",
   "metadata": {},
   "source": [
    "**We will do feature scaling before preparing model for the following reasons:**\n",
    "1. Scaling leads to faster and more stable convergence during training.\n",
    "2. Avoiding the Dominance of Larger Features.\n",
    "3. Improved Performance for Some Activation Functions. If inputs are not scaled properly,<br> large inputs may push the activations into saturation (extremely close to 0 or 1), making the gradients very small (vanishing gradient problem).\n",
    "4. Neural networks often initialize weights randomly. If the input data is not scaled, the weight updates during training can vary widely, <br> potentially leading to exploding or vanishing gradients, especially in deep networks. Scaling helps keep the weights in a more reasonable range."
   ]
  },
  {
   "cell_type": "code",
   "execution_count": 14,
   "metadata": {},
   "outputs": [],
   "source": [
    "x = df.drop(columns=['Exited'], axis = 1)\n",
    "y = df['Exited']"
   ]
  },
  {
   "cell_type": "code",
   "execution_count": 15,
   "metadata": {},
   "outputs": [],
   "source": [
    "# performing train_test_split before scaling\n",
    "from sklearn.model_selection import train_test_split\n",
    "x_train, x_test, y_train, y_test = train_test_split(x, y, test_size=0.2, random_state=1)"
   ]
  },
  {
   "cell_type": "code",
   "execution_count": 16,
   "metadata": {},
   "outputs": [],
   "source": [
    "# Scaling\n",
    "from sklearn.preprocessing import StandardScaler\n",
    "scaler = StandardScaler()\n",
    "x_train_scaled = scaler.fit_transform(x_train)\n",
    "x_test_scaled = scaler.transform(x_test)"
   ]
  },
  {
   "cell_type": "code",
   "execution_count": 17,
   "metadata": {},
   "outputs": [
    {
     "data": {
      "text/plain": [
       "(8000, 11)"
      ]
     },
     "execution_count": 17,
     "metadata": {},
     "output_type": "execute_result"
    }
   ],
   "source": [
    "x_train_scaled.shape"
   ]
  },
  {
   "cell_type": "code",
   "execution_count": 18,
   "metadata": {},
   "outputs": [
    {
     "name": "stderr",
     "output_type": "stream",
     "text": [
      "2024-09-30 23:52:31.541353: I tensorflow/core/util/port.cc:110] oneDNN custom operations are on. You may see slightly different numerical results due to floating-point round-off errors from different computation orders. To turn them off, set the environment variable `TF_ENABLE_ONEDNN_OPTS=0`.\n",
      "2024-09-30 23:52:31.585117: I tensorflow/core/platform/cpu_feature_guard.cc:182] This TensorFlow binary is optimized to use available CPU instructions in performance-critical operations.\n",
      "To enable the following instructions: SSE4.1 SSE4.2 AVX AVX2 AVX512F AVX512_VNNI FMA, in other operations, rebuild TensorFlow with the appropriate compiler flags.\n"
     ]
    }
   ],
   "source": [
    "# using Keras api to build a simple neural network\n",
    "import tensorflow as tf\n",
    "from tensorflow import keras\n",
    "from tensorflow.keras import Sequential\n",
    "from tensorflow.keras.layers import Dense"
   ]
  },
  {
   "cell_type": "code",
   "execution_count": 19,
   "metadata": {},
   "outputs": [
    {
     "name": "stdout",
     "output_type": "stream",
     "text": [
      "WARNING:tensorflow:From /tmp/ipykernel_12088/337460670.py:1: is_gpu_available (from tensorflow.python.framework.test_util) is deprecated and will be removed in a future version.\n",
      "Instructions for updating:\n",
      "Use `tf.config.list_physical_devices('GPU')` instead.\n"
     ]
    },
    {
     "name": "stderr",
     "output_type": "stream",
     "text": [
      "2024-09-30 23:52:33.330723: I tensorflow/core/common_runtime/gpu/gpu_device.cc:1639] Created device /device:GPU:0 with 1736 MB memory:  -> device: 0, name: NVIDIA GeForce MX230, pci bus id: 0000:01:00.0, compute capability: 6.1\n"
     ]
    },
    {
     "data": {
      "text/plain": [
       "True"
      ]
     },
     "execution_count": 19,
     "metadata": {},
     "output_type": "execute_result"
    }
   ],
   "source": [
    "tf.test.is_gpu_available()"
   ]
  },
  {
   "cell_type": "code",
   "execution_count": 20,
   "metadata": {},
   "outputs": [
    {
     "name": "stderr",
     "output_type": "stream",
     "text": [
      "2024-09-30 23:52:33.356652: I tensorflow/core/common_runtime/gpu/gpu_device.cc:1639] Created device /job:localhost/replica:0/task:0/device:GPU:0 with 1736 MB memory:  -> device: 0, name: NVIDIA GeForce MX230, pci bus id: 0000:01:00.0, compute capability: 6.1\n"
     ]
    }
   ],
   "source": [
    "# creating a Neural network with 11 input, 3 hidden layers and then output\n",
    "model = Sequential()\n",
    "model.add(Dense(3, input_dim=11, activation=\"sigmoid\"))\n",
    "model.add(Dense(1, activation=\"sigmoid\"))"
   ]
  },
  {
   "cell_type": "code",
   "execution_count": 21,
   "metadata": {},
   "outputs": [
    {
     "name": "stdout",
     "output_type": "stream",
     "text": [
      "Model: \"sequential\"\n",
      "_________________________________________________________________\n",
      " Layer (type)                Output Shape              Param #   \n",
      "=================================================================\n",
      " dense (Dense)               (None, 3)                 36        \n",
      "                                                                 \n",
      " dense_1 (Dense)             (None, 1)                 4         \n",
      "                                                                 \n",
      "=================================================================\n",
      "Total params: 40 (160.00 Byte)\n",
      "Trainable params: 40 (160.00 Byte)\n",
      "Non-trainable params: 0 (0.00 Byte)\n",
      "_________________________________________________________________\n"
     ]
    }
   ],
   "source": [
    "model.summary()"
   ]
  },
  {
   "cell_type": "code",
   "execution_count": 22,
   "metadata": {},
   "outputs": [],
   "source": [
    "model.compile(loss=\"binary_crossentropy\", optimizer=\"adam\", metrics=[\"accuracy\"])"
   ]
  },
  {
   "cell_type": "code",
   "execution_count": 23,
   "metadata": {},
   "outputs": [
    {
     "name": "stdout",
     "output_type": "stream",
     "text": [
      "Epoch 1/12\n"
     ]
    },
    {
     "name": "stderr",
     "output_type": "stream",
     "text": [
      "2024-09-30 23:52:34.307460: I tensorflow/compiler/xla/service/service.cc:168] XLA service 0x7b7684ed5c10 initialized for platform CUDA (this does not guarantee that XLA will be used). Devices:\n",
      "2024-09-30 23:52:34.307494: I tensorflow/compiler/xla/service/service.cc:176]   StreamExecutor device (0): NVIDIA GeForce MX230, Compute Capability 6.1\n",
      "2024-09-30 23:52:34.311106: I tensorflow/compiler/mlir/tensorflow/utils/dump_mlir_util.cc:255] disabling MLIR crash reproducer, set env var `MLIR_CRASH_REPRODUCER_DIRECTORY` to enable.\n",
      "2024-09-30 23:52:34.324921: I tensorflow/compiler/xla/stream_executor/cuda/cuda_dnn.cc:432] Loaded cuDNN version 8907\n",
      "2024-09-30 23:52:34.437295: I ./tensorflow/compiler/jit/device_compiler.h:186] Compiled cluster using XLA!  This line is logged at most once for the lifetime of the process.\n"
     ]
    },
    {
     "name": "stdout",
     "output_type": "stream",
     "text": [
      "250/250 [==============================] - 1s 2ms/step - loss: 0.5953 - accuracy: 0.7063\n",
      "Epoch 2/12\n",
      "250/250 [==============================] - 0s 2ms/step - loss: 0.4979 - accuracy: 0.7979\n",
      "Epoch 3/12\n",
      "250/250 [==============================] - 0s 2ms/step - loss: 0.4623 - accuracy: 0.7984\n",
      "Epoch 4/12\n",
      "250/250 [==============================] - 0s 2ms/step - loss: 0.4470 - accuracy: 0.7997\n",
      "Epoch 5/12\n",
      "250/250 [==============================] - 0s 2ms/step - loss: 0.4383 - accuracy: 0.8034\n",
      "Epoch 6/12\n",
      "250/250 [==============================] - 1s 2ms/step - loss: 0.4326 - accuracy: 0.8070\n",
      "Epoch 7/12\n",
      "250/250 [==============================] - 0s 2ms/step - loss: 0.4284 - accuracy: 0.8085\n",
      "Epoch 8/12\n",
      "250/250 [==============================] - 0s 2ms/step - loss: 0.4251 - accuracy: 0.8119\n",
      "Epoch 9/12\n",
      "250/250 [==============================] - 0s 2ms/step - loss: 0.4223 - accuracy: 0.8123\n",
      "Epoch 10/12\n",
      "250/250 [==============================] - 0s 2ms/step - loss: 0.4194 - accuracy: 0.8139\n",
      "Epoch 11/12\n",
      "250/250 [==============================] - 0s 2ms/step - loss: 0.4168 - accuracy: 0.8136\n",
      "Epoch 12/12\n",
      "250/250 [==============================] - 0s 2ms/step - loss: 0.4141 - accuracy: 0.8151\n"
     ]
    },
    {
     "data": {
      "text/plain": [
       "<keras.src.callbacks.History at 0x7b7796448a50>"
      ]
     },
     "execution_count": 23,
     "metadata": {},
     "output_type": "execute_result"
    }
   ],
   "source": [
    "model.fit(x_train_scaled, y_train, epochs=12)"
   ]
  },
  {
   "cell_type": "markdown",
   "metadata": {},
   "source": [
    "So, Logloss = 0.42 and accuracy of model = 0.82"
   ]
  },
  {
   "cell_type": "code",
   "execution_count": 24,
   "metadata": {},
   "outputs": [],
   "source": [
    "# extracting weights and biases of layer 0\n",
    "wght, bs = model.layers[0].get_weights()"
   ]
  },
  {
   "cell_type": "code",
   "execution_count": 25,
   "metadata": {},
   "outputs": [
    {
     "data": {
      "text/plain": [
       "array([[-0.11593463,  0.3075081 , -0.07934557],\n",
       "       [-1.8194827 , -0.5846138 ,  0.53336734],\n",
       "       [ 0.07940457,  0.17886318,  0.13093288],\n",
       "       [-0.31190217, -0.4761795 , -0.32141903],\n",
       "       [-0.32182723, -0.40283394, -1.6516151 ],\n",
       "       [ 0.01262653,  0.18849619,  0.07044958],\n",
       "       [ 0.44739386,  0.66865313, -0.64344794],\n",
       "       [-0.04975207, -0.20348826, -0.15835471],\n",
       "       [-0.13590288, -0.82633895,  0.39155066],\n",
       "       [ 0.08140065, -0.11500602,  0.03490748],\n",
       "       [ 0.13174333,  0.6023763 , -0.2785242 ]], dtype=float32)"
      ]
     },
     "execution_count": 25,
     "metadata": {},
     "output_type": "execute_result"
    }
   ],
   "source": [
    "wght"
   ]
  },
  {
   "cell_type": "code",
   "execution_count": 26,
   "metadata": {},
   "outputs": [
    {
     "data": {
      "text/plain": [
       "array([ 0.49155137,  0.547191  , -0.81757003], dtype=float32)"
      ]
     },
     "execution_count": 26,
     "metadata": {},
     "output_type": "execute_result"
    }
   ],
   "source": [
    "bs"
   ]
  },
  {
   "cell_type": "code",
   "execution_count": 27,
   "metadata": {},
   "outputs": [
    {
     "data": {
      "text/plain": [
       "[array([[-1.6505576],\n",
       "        [-1.1979917],\n",
       "        [ 1.3016181]], dtype=float32),\n",
       " array([-0.41443703], dtype=float32)]"
      ]
     },
     "execution_count": 27,
     "metadata": {},
     "output_type": "execute_result"
    }
   ],
   "source": [
    "# similarly, for layer 1\n",
    "model.layers[1].get_weights()"
   ]
  },
  {
   "cell_type": "code",
   "execution_count": 28,
   "metadata": {},
   "outputs": [
    {
     "name": "stdout",
     "output_type": "stream",
     "text": [
      "63/63 [==============================] - 0s 1ms/step\n"
     ]
    },
    {
     "data": {
      "text/plain": [
       "array([[0.10989692],\n",
       "       [0.14125925],\n",
       "       [0.11869822],\n",
       "       ...,\n",
       "       [0.05039123],\n",
       "       [0.12245146],\n",
       "       [0.40661055]], dtype=float32)"
      ]
     },
     "execution_count": 28,
     "metadata": {},
     "output_type": "execute_result"
    }
   ],
   "source": [
    "# making predictions\n",
    "y_pred = model.predict(x_test_scaled)\n",
    "y_pred"
   ]
  },
  {
   "cell_type": "markdown",
   "metadata": {},
   "source": [
    "values are in decimals because we are using sigmoid which returns values between 0 and 1"
   ]
  },
  {
   "cell_type": "code",
   "execution_count": 29,
   "metadata": {},
   "outputs": [
    {
     "data": {
      "text/plain": [
       "array([[0],\n",
       "       [0],\n",
       "       [0],\n",
       "       ...,\n",
       "       [0],\n",
       "       [0],\n",
       "       [0]])"
      ]
     },
     "execution_count": 29,
     "metadata": {},
     "output_type": "execute_result"
    }
   ],
   "source": [
    "# using the threshold of 0.5\n",
    "y_pred = np.where(y_pred > 0.5, 1, 0)\n",
    "y_pred"
   ]
  },
  {
   "cell_type": "code",
   "execution_count": 30,
   "metadata": {},
   "outputs": [
    {
     "data": {
      "text/plain": [
       "0.8155"
      ]
     },
     "execution_count": 30,
     "metadata": {},
     "output_type": "execute_result"
    }
   ],
   "source": [
    "from sklearn.metrics import accuracy_score\n",
    "accuracy_score(y_test, y_pred)"
   ]
  },
  {
   "cell_type": "markdown",
   "metadata": {},
   "source": [
    "Making some changes in our Neural Network to improve accuracy. We can do this by different methods:\n",
    "1. increasing the no. of epochs to 100 or more.\n",
    "2. Using `ReLU` activation function generally improve the accuracy. ReLU generally leads to faster training compared to sigmoid and tanh because it mitigates the vanishing gradient problem and is computationally efficient.\n",
    "3. Increasing the number of nodes in hidden layers.\n",
    "4. Increase the number of hidden layer, but not too much as it creates overfitting."
   ]
  },
  {
   "cell_type": "code",
   "execution_count": 31,
   "metadata": {},
   "outputs": [],
   "source": [
    "# Increasing the number of epochs with ReLU, adding hidden layer and nodes in hidden layer\n",
    "\n",
    "model2 = Sequential()\n",
    "model2.add(Dense(11, input_dim=11, activation=\"relu\")) # increasing the number of nodes in the hidden layer\n",
    "model2.add(Dense(11, activation=\"relu\")) # adding another hidden layer\n",
    "model2.add(Dense(1, activation=\"sigmoid\")) # keeping the output layer as sigmoid"
   ]
  },
  {
   "cell_type": "code",
   "execution_count": 32,
   "metadata": {},
   "outputs": [
    {
     "name": "stdout",
     "output_type": "stream",
     "text": [
      "Model: \"sequential_1\"\n",
      "_________________________________________________________________\n",
      " Layer (type)                Output Shape              Param #   \n",
      "=================================================================\n",
      " dense_2 (Dense)             (None, 11)                132       \n",
      "                                                                 \n",
      " dense_3 (Dense)             (None, 11)                132       \n",
      "                                                                 \n",
      " dense_4 (Dense)             (None, 1)                 12        \n",
      "                                                                 \n",
      "=================================================================\n",
      "Total params: 276 (1.08 KB)\n",
      "Trainable params: 276 (1.08 KB)\n",
      "Non-trainable params: 0 (0.00 Byte)\n",
      "_________________________________________________________________\n"
     ]
    }
   ],
   "source": [
    "model2.summary()"
   ]
  },
  {
   "cell_type": "code",
   "execution_count": 33,
   "metadata": {},
   "outputs": [],
   "source": [
    "model2.compile(loss=\"binary_crossentropy\", optimizer=\"adam\", metrics=[\"accuracy\"])"
   ]
  },
  {
   "cell_type": "code",
   "execution_count": 34,
   "metadata": {},
   "outputs": [
    {
     "name": "stdout",
     "output_type": "stream",
     "text": [
      "Epoch 1/50\n",
      "200/200 [==============================] - 2s 3ms/step - loss: 0.5603 - accuracy: 0.7461 - val_loss: 0.4704 - val_accuracy: 0.7975\n",
      "Epoch 2/50\n",
      "200/200 [==============================] - 0s 2ms/step - loss: 0.4518 - accuracy: 0.8000 - val_loss: 0.4299 - val_accuracy: 0.8075\n",
      "Epoch 3/50\n",
      "200/200 [==============================] - 0s 2ms/step - loss: 0.4270 - accuracy: 0.8175 - val_loss: 0.4188 - val_accuracy: 0.8194\n",
      "Epoch 4/50\n",
      "200/200 [==============================] - 0s 2ms/step - loss: 0.4171 - accuracy: 0.8255 - val_loss: 0.4110 - val_accuracy: 0.8194\n",
      "Epoch 5/50\n",
      "200/200 [==============================] - 0s 2ms/step - loss: 0.4074 - accuracy: 0.8328 - val_loss: 0.3997 - val_accuracy: 0.8269\n",
      "Epoch 6/50\n",
      "200/200 [==============================] - 0s 2ms/step - loss: 0.3959 - accuracy: 0.8367 - val_loss: 0.3872 - val_accuracy: 0.8419\n",
      "Epoch 7/50\n",
      "200/200 [==============================] - 1s 3ms/step - loss: 0.3839 - accuracy: 0.8462 - val_loss: 0.3764 - val_accuracy: 0.8487\n",
      "Epoch 8/50\n",
      "200/200 [==============================] - 0s 2ms/step - loss: 0.3726 - accuracy: 0.8509 - val_loss: 0.3684 - val_accuracy: 0.8500\n",
      "Epoch 9/50\n",
      "200/200 [==============================] - 0s 2ms/step - loss: 0.3638 - accuracy: 0.8536 - val_loss: 0.3610 - val_accuracy: 0.8519\n",
      "Epoch 10/50\n",
      "200/200 [==============================] - 0s 2ms/step - loss: 0.3575 - accuracy: 0.8564 - val_loss: 0.3569 - val_accuracy: 0.8519\n",
      "Epoch 11/50\n",
      "200/200 [==============================] - 0s 2ms/step - loss: 0.3532 - accuracy: 0.8570 - val_loss: 0.3544 - val_accuracy: 0.8500\n",
      "Epoch 12/50\n",
      "200/200 [==============================] - 0s 2ms/step - loss: 0.3502 - accuracy: 0.8591 - val_loss: 0.3532 - val_accuracy: 0.8487\n",
      "Epoch 13/50\n",
      "200/200 [==============================] - 0s 2ms/step - loss: 0.3476 - accuracy: 0.8584 - val_loss: 0.3526 - val_accuracy: 0.8494\n",
      "Epoch 14/50\n",
      "200/200 [==============================] - 0s 2ms/step - loss: 0.3459 - accuracy: 0.8592 - val_loss: 0.3509 - val_accuracy: 0.8500\n",
      "Epoch 15/50\n",
      "200/200 [==============================] - 1s 3ms/step - loss: 0.3443 - accuracy: 0.8598 - val_loss: 0.3504 - val_accuracy: 0.8487\n",
      "Epoch 16/50\n",
      "200/200 [==============================] - 0s 2ms/step - loss: 0.3431 - accuracy: 0.8597 - val_loss: 0.3513 - val_accuracy: 0.8487\n",
      "Epoch 17/50\n",
      "200/200 [==============================] - 0s 2ms/step - loss: 0.3414 - accuracy: 0.8611 - val_loss: 0.3516 - val_accuracy: 0.8487\n",
      "Epoch 18/50\n",
      "200/200 [==============================] - 1s 3ms/step - loss: 0.3403 - accuracy: 0.8625 - val_loss: 0.3507 - val_accuracy: 0.8481\n",
      "Epoch 19/50\n",
      "200/200 [==============================] - 1s 3ms/step - loss: 0.3394 - accuracy: 0.8625 - val_loss: 0.3502 - val_accuracy: 0.8487\n",
      "Epoch 20/50\n",
      "200/200 [==============================] - 1s 3ms/step - loss: 0.3383 - accuracy: 0.8619 - val_loss: 0.3516 - val_accuracy: 0.8469\n",
      "Epoch 21/50\n",
      "200/200 [==============================] - 1s 4ms/step - loss: 0.3380 - accuracy: 0.8622 - val_loss: 0.3514 - val_accuracy: 0.8487\n",
      "Epoch 22/50\n",
      "200/200 [==============================] - 1s 4ms/step - loss: 0.3375 - accuracy: 0.8611 - val_loss: 0.3511 - val_accuracy: 0.8462\n",
      "Epoch 23/50\n",
      "200/200 [==============================] - 1s 3ms/step - loss: 0.3370 - accuracy: 0.8625 - val_loss: 0.3494 - val_accuracy: 0.8506\n",
      "Epoch 24/50\n",
      "200/200 [==============================] - 1s 3ms/step - loss: 0.3355 - accuracy: 0.8631 - val_loss: 0.3477 - val_accuracy: 0.8525\n",
      "Epoch 25/50\n",
      "200/200 [==============================] - 1s 4ms/step - loss: 0.3351 - accuracy: 0.8644 - val_loss: 0.3475 - val_accuracy: 0.8500\n",
      "Epoch 26/50\n",
      "200/200 [==============================] - 1s 4ms/step - loss: 0.3348 - accuracy: 0.8623 - val_loss: 0.3469 - val_accuracy: 0.8519\n",
      "Epoch 27/50\n",
      "200/200 [==============================] - 1s 3ms/step - loss: 0.3342 - accuracy: 0.8642 - val_loss: 0.3472 - val_accuracy: 0.8500\n",
      "Epoch 28/50\n",
      "200/200 [==============================] - 1s 3ms/step - loss: 0.3340 - accuracy: 0.8636 - val_loss: 0.3474 - val_accuracy: 0.8531\n",
      "Epoch 29/50\n",
      "200/200 [==============================] - 1s 3ms/step - loss: 0.3334 - accuracy: 0.8645 - val_loss: 0.3459 - val_accuracy: 0.8525\n",
      "Epoch 30/50\n",
      "200/200 [==============================] - 1s 3ms/step - loss: 0.3329 - accuracy: 0.8645 - val_loss: 0.3464 - val_accuracy: 0.8519\n",
      "Epoch 31/50\n",
      "200/200 [==============================] - 1s 4ms/step - loss: 0.3324 - accuracy: 0.8641 - val_loss: 0.3468 - val_accuracy: 0.8537\n",
      "Epoch 32/50\n",
      "200/200 [==============================] - 1s 4ms/step - loss: 0.3322 - accuracy: 0.8650 - val_loss: 0.3468 - val_accuracy: 0.8519\n",
      "Epoch 33/50\n",
      "200/200 [==============================] - 1s 3ms/step - loss: 0.3319 - accuracy: 0.8653 - val_loss: 0.3463 - val_accuracy: 0.8512\n",
      "Epoch 34/50\n",
      "200/200 [==============================] - 1s 3ms/step - loss: 0.3317 - accuracy: 0.8652 - val_loss: 0.3460 - val_accuracy: 0.8512\n",
      "Epoch 35/50\n",
      "200/200 [==============================] - 1s 3ms/step - loss: 0.3312 - accuracy: 0.8653 - val_loss: 0.3454 - val_accuracy: 0.8506\n",
      "Epoch 36/50\n",
      "200/200 [==============================] - 1s 3ms/step - loss: 0.3311 - accuracy: 0.8652 - val_loss: 0.3454 - val_accuracy: 0.8506\n",
      "Epoch 37/50\n",
      "200/200 [==============================] - 1s 3ms/step - loss: 0.3302 - accuracy: 0.8655 - val_loss: 0.3467 - val_accuracy: 0.8487\n",
      "Epoch 38/50\n",
      "200/200 [==============================] - 1s 3ms/step - loss: 0.3308 - accuracy: 0.8656 - val_loss: 0.3452 - val_accuracy: 0.8494\n",
      "Epoch 39/50\n",
      "200/200 [==============================] - 1s 3ms/step - loss: 0.3298 - accuracy: 0.8658 - val_loss: 0.3472 - val_accuracy: 0.8481\n",
      "Epoch 40/50\n",
      "200/200 [==============================] - 1s 3ms/step - loss: 0.3296 - accuracy: 0.8636 - val_loss: 0.3447 - val_accuracy: 0.8487\n",
      "Epoch 41/50\n",
      "200/200 [==============================] - 1s 3ms/step - loss: 0.3291 - accuracy: 0.8662 - val_loss: 0.3447 - val_accuracy: 0.8500\n",
      "Epoch 42/50\n",
      "200/200 [==============================] - 1s 3ms/step - loss: 0.3287 - accuracy: 0.8647 - val_loss: 0.3463 - val_accuracy: 0.8475\n",
      "Epoch 43/50\n",
      "200/200 [==============================] - 1s 3ms/step - loss: 0.3285 - accuracy: 0.8664 - val_loss: 0.3454 - val_accuracy: 0.8469\n",
      "Epoch 44/50\n",
      "200/200 [==============================] - 1s 3ms/step - loss: 0.3283 - accuracy: 0.8658 - val_loss: 0.3453 - val_accuracy: 0.8500\n",
      "Epoch 45/50\n",
      "200/200 [==============================] - 1s 3ms/step - loss: 0.3283 - accuracy: 0.8645 - val_loss: 0.3457 - val_accuracy: 0.8500\n",
      "Epoch 46/50\n",
      "200/200 [==============================] - 1s 3ms/step - loss: 0.3276 - accuracy: 0.8647 - val_loss: 0.3443 - val_accuracy: 0.8506\n",
      "Epoch 47/50\n",
      "200/200 [==============================] - 1s 3ms/step - loss: 0.3277 - accuracy: 0.8652 - val_loss: 0.3451 - val_accuracy: 0.8475\n",
      "Epoch 48/50\n",
      "200/200 [==============================] - 1s 4ms/step - loss: 0.3272 - accuracy: 0.8647 - val_loss: 0.3442 - val_accuracy: 0.8487\n",
      "Epoch 49/50\n",
      "200/200 [==============================] - 1s 3ms/step - loss: 0.3267 - accuracy: 0.8662 - val_loss: 0.3456 - val_accuracy: 0.8500\n",
      "Epoch 50/50\n",
      "200/200 [==============================] - 1s 3ms/step - loss: 0.3269 - accuracy: 0.8661 - val_loss: 0.3449 - val_accuracy: 0.8481\n"
     ]
    },
    {
     "data": {
      "text/plain": [
       "<keras.src.callbacks.History at 0x7b779592cd50>"
      ]
     },
     "execution_count": 34,
     "metadata": {},
     "output_type": "execute_result"
    }
   ],
   "source": [
    "# increasing the number of epochs\n",
    "# validation_split is used to split the data into train and validation so that we can validate our model at each epoch with validation data.\n",
    "model2.fit(x_train_scaled, y_train, epochs=50, validation_split=0.2)"
   ]
  },
  {
   "cell_type": "markdown",
   "metadata": {},
   "source": [
    "1. We are getting `Training_loss`, `Training_accuracy`, `Validation_loss`, `Validation_accuracy` for each epoch.\n",
    "2. It is important to note that both `training_accuracy` and `validation_accuracy` are increasing with each epoch. This means that our model is **not overfitting** the data.\n",
    "> If only training_accuracy is increasing and validation_accuracy not increasing, then our model is overfitting on the data.\n",
    "\n",
    "Still there is little overfitting if we see, training loss is less than validation loss & training accuracy is slightly more than validation accuracy."
   ]
  },
  {
   "cell_type": "code",
   "execution_count": 35,
   "metadata": {},
   "outputs": [
    {
     "name": "stdout",
     "output_type": "stream",
     "text": [
      "63/63 [==============================] - 0s 1ms/step\n"
     ]
    }
   ],
   "source": [
    "y_pred2 = model2.predict(x_test_scaled)"
   ]
  },
  {
   "cell_type": "code",
   "execution_count": 36,
   "metadata": {},
   "outputs": [],
   "source": [
    "# using the threshold of 0.5\n",
    "y_pred2 = np.where(y_pred2 > 0.5, 1, 0)"
   ]
  },
  {
   "cell_type": "code",
   "execution_count": 37,
   "metadata": {},
   "outputs": [
    {
     "data": {
      "text/plain": [
       "0.861"
      ]
     },
     "execution_count": 37,
     "metadata": {},
     "output_type": "execute_result"
    }
   ],
   "source": [
    "accuracy_score(y_test, y_pred2)"
   ]
  },
  {
   "cell_type": "markdown",
   "metadata": {},
   "source": [
    "So, accuracy increased from 81% to 86%"
   ]
  },
  {
   "cell_type": "code",
   "execution_count": 41,
   "metadata": {},
   "outputs": [
    {
     "name": "stdout",
     "output_type": "stream",
     "text": [
      "Epoch 1/40\n",
      "200/200 [==============================] - 1s 3ms/step - loss: 0.4112 - accuracy: 0.8172 - val_loss: 0.4129 - val_accuracy: 0.8144\n",
      "Epoch 2/40\n",
      "200/200 [==============================] - 1s 4ms/step - loss: 0.4092 - accuracy: 0.8178 - val_loss: 0.4112 - val_accuracy: 0.8175\n",
      "Epoch 3/40\n",
      "200/200 [==============================] - 0s 2ms/step - loss: 0.4074 - accuracy: 0.8191 - val_loss: 0.4094 - val_accuracy: 0.8175\n",
      "Epoch 4/40\n",
      "200/200 [==============================] - 0s 2ms/step - loss: 0.4057 - accuracy: 0.8202 - val_loss: 0.4076 - val_accuracy: 0.8163\n",
      "Epoch 5/40\n",
      "200/200 [==============================] - 0s 2ms/step - loss: 0.4040 - accuracy: 0.8208 - val_loss: 0.4059 - val_accuracy: 0.8169\n",
      "Epoch 6/40\n",
      "200/200 [==============================] - 0s 2ms/step - loss: 0.4024 - accuracy: 0.8227 - val_loss: 0.4041 - val_accuracy: 0.8194\n",
      "Epoch 7/40\n",
      "200/200 [==============================] - 0s 2ms/step - loss: 0.4009 - accuracy: 0.8228 - val_loss: 0.4024 - val_accuracy: 0.8213\n",
      "Epoch 8/40\n",
      "200/200 [==============================] - 0s 2ms/step - loss: 0.3995 - accuracy: 0.8236 - val_loss: 0.4008 - val_accuracy: 0.8231\n",
      "Epoch 9/40\n",
      "200/200 [==============================] - 1s 3ms/step - loss: 0.3981 - accuracy: 0.8252 - val_loss: 0.3993 - val_accuracy: 0.8225\n",
      "Epoch 10/40\n",
      "200/200 [==============================] - 0s 2ms/step - loss: 0.3968 - accuracy: 0.8250 - val_loss: 0.3978 - val_accuracy: 0.8238\n",
      "Epoch 11/40\n",
      "200/200 [==============================] - 0s 2ms/step - loss: 0.3956 - accuracy: 0.8256 - val_loss: 0.3964 - val_accuracy: 0.8238\n",
      "Epoch 12/40\n",
      "200/200 [==============================] - 0s 2ms/step - loss: 0.3944 - accuracy: 0.8261 - val_loss: 0.3950 - val_accuracy: 0.8250\n",
      "Epoch 13/40\n",
      "200/200 [==============================] - 0s 2ms/step - loss: 0.3933 - accuracy: 0.8281 - val_loss: 0.3938 - val_accuracy: 0.8250\n",
      "Epoch 14/40\n",
      "200/200 [==============================] - 0s 2ms/step - loss: 0.3923 - accuracy: 0.8291 - val_loss: 0.3927 - val_accuracy: 0.8263\n",
      "Epoch 15/40\n",
      "200/200 [==============================] - 0s 2ms/step - loss: 0.3913 - accuracy: 0.8298 - val_loss: 0.3915 - val_accuracy: 0.8263\n",
      "Epoch 16/40\n",
      "200/200 [==============================] - 1s 3ms/step - loss: 0.3903 - accuracy: 0.8289 - val_loss: 0.3905 - val_accuracy: 0.8269\n",
      "Epoch 17/40\n",
      "200/200 [==============================] - 0s 2ms/step - loss: 0.3895 - accuracy: 0.8305 - val_loss: 0.3895 - val_accuracy: 0.8281\n",
      "Epoch 18/40\n",
      "200/200 [==============================] - 1s 3ms/step - loss: 0.3886 - accuracy: 0.8309 - val_loss: 0.3886 - val_accuracy: 0.8288\n",
      "Epoch 19/40\n",
      "200/200 [==============================] - 0s 2ms/step - loss: 0.3878 - accuracy: 0.8305 - val_loss: 0.3878 - val_accuracy: 0.8275\n",
      "Epoch 20/40\n",
      "200/200 [==============================] - 0s 2ms/step - loss: 0.3870 - accuracy: 0.8289 - val_loss: 0.3869 - val_accuracy: 0.8269\n",
      "Epoch 21/40\n",
      "200/200 [==============================] - 0s 2ms/step - loss: 0.3863 - accuracy: 0.8309 - val_loss: 0.3861 - val_accuracy: 0.8269\n",
      "Epoch 22/40\n",
      "200/200 [==============================] - 0s 2ms/step - loss: 0.3856 - accuracy: 0.8306 - val_loss: 0.3852 - val_accuracy: 0.8275\n",
      "Epoch 23/40\n",
      "200/200 [==============================] - 1s 3ms/step - loss: 0.3850 - accuracy: 0.8308 - val_loss: 0.3844 - val_accuracy: 0.8269\n",
      "Epoch 24/40\n",
      "200/200 [==============================] - 0s 2ms/step - loss: 0.3843 - accuracy: 0.8313 - val_loss: 0.3837 - val_accuracy: 0.8275\n",
      "Epoch 25/40\n",
      "200/200 [==============================] - 0s 2ms/step - loss: 0.3838 - accuracy: 0.8308 - val_loss: 0.3832 - val_accuracy: 0.8281\n",
      "Epoch 26/40\n",
      "200/200 [==============================] - 0s 2ms/step - loss: 0.3831 - accuracy: 0.8305 - val_loss: 0.3824 - val_accuracy: 0.8288\n",
      "Epoch 27/40\n",
      "200/200 [==============================] - 0s 2ms/step - loss: 0.3825 - accuracy: 0.8316 - val_loss: 0.3819 - val_accuracy: 0.8281\n",
      "Epoch 28/40\n",
      "200/200 [==============================] - 1s 3ms/step - loss: 0.3821 - accuracy: 0.8309 - val_loss: 0.3812 - val_accuracy: 0.8294\n",
      "Epoch 29/40\n",
      "200/200 [==============================] - 0s 2ms/step - loss: 0.3815 - accuracy: 0.8320 - val_loss: 0.3807 - val_accuracy: 0.8294\n",
      "Epoch 30/40\n",
      "200/200 [==============================] - 0s 2ms/step - loss: 0.3810 - accuracy: 0.8319 - val_loss: 0.3802 - val_accuracy: 0.8300\n",
      "Epoch 31/40\n",
      "200/200 [==============================] - 1s 3ms/step - loss: 0.3805 - accuracy: 0.8322 - val_loss: 0.3796 - val_accuracy: 0.8300\n",
      "Epoch 32/40\n",
      "200/200 [==============================] - 0s 2ms/step - loss: 0.3800 - accuracy: 0.8333 - val_loss: 0.3792 - val_accuracy: 0.8300\n",
      "Epoch 33/40\n",
      "200/200 [==============================] - 0s 2ms/step - loss: 0.3796 - accuracy: 0.8322 - val_loss: 0.3786 - val_accuracy: 0.8300\n",
      "Epoch 34/40\n",
      "200/200 [==============================] - 1s 3ms/step - loss: 0.3791 - accuracy: 0.8336 - val_loss: 0.3780 - val_accuracy: 0.8294\n",
      "Epoch 35/40\n",
      "200/200 [==============================] - 0s 2ms/step - loss: 0.3787 - accuracy: 0.8331 - val_loss: 0.3777 - val_accuracy: 0.8294\n",
      "Epoch 36/40\n",
      "200/200 [==============================] - 0s 2ms/step - loss: 0.3783 - accuracy: 0.8345 - val_loss: 0.3773 - val_accuracy: 0.8288\n",
      "Epoch 37/40\n",
      "200/200 [==============================] - 0s 2ms/step - loss: 0.3779 - accuracy: 0.8345 - val_loss: 0.3766 - val_accuracy: 0.8288\n",
      "Epoch 38/40\n",
      "200/200 [==============================] - 0s 2ms/step - loss: 0.3775 - accuracy: 0.8353 - val_loss: 0.3764 - val_accuracy: 0.8306\n",
      "Epoch 39/40\n",
      "200/200 [==============================] - 0s 2ms/step - loss: 0.3770 - accuracy: 0.8369 - val_loss: 0.3759 - val_accuracy: 0.8313\n",
      "Epoch 40/40\n",
      "200/200 [==============================] - 0s 2ms/step - loss: 0.3766 - accuracy: 0.8383 - val_loss: 0.3755 - val_accuracy: 0.8344\n"
     ]
    }
   ],
   "source": [
    "# We can also plot the graph of loss and accuracy\n",
    "history = model.fit(x_train_scaled, y_train, epochs=40, validation_split=0.2)"
   ]
  },
  {
   "cell_type": "code",
   "execution_count": 46,
   "metadata": {},
   "outputs": [
    {
     "data": {
      "image/png": "[encoded data removed]",
      "text/plain": [
       "<Figure size 640x480 with 1 Axes>"
      ]
     },
     "metadata": {},
     "output_type": "display_data"
    }
   ],
   "source": [
    "# plotting the graph\n",
    "import matplotlib.pyplot as plt\n",
    "plt.plot(history.history[\"loss\"])\n",
    "plt.plot(history.history[\"val_loss\"])\n",
    "plt.legend(['Training Loss', 'Validation Loss'])\n",
    "plt.show()"
   ]
  },
  {
   "cell_type": "code",
   "execution_count": 47,
   "metadata": {},
   "outputs": [
    {
     "data": {
      "image/png": "[encoded data removed]",
      "text/plain": [
       "<Figure size 640x480 with 1 Axes>"
      ]
     },
     "metadata": {},
     "output_type": "display_data"
    }
   ],
   "source": [
    "plt.plot(history.history[\"accuracy\"])\n",
    "plt.plot(history.history[\"val_accuracy\"])\n",
    "plt.legend(['Training accuracy', 'Validation accuracy'])\n",
    "plt.show()"
   ]
  }
 ],
 "metadata": {
  "kernelspec": {
   "display_name": "mytf",
   "language": "python",
   "name": "python3"
  },
  "language_info": {
   "codemirror_mode": {
    "name": "ipython",
    "version": 3
   },
   "file_extension": ".py",
   "mimetype": "text/x-python",
   "name": "python",
   "nbconvert_exporter": "python",
   "pygments_lexer": "ipython3",
   "version": "3.11.10"
  }
 },
 "nbformat": 4,
 "nbformat_minor": 2
}
