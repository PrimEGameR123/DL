{
  "cells": [
    {
      "cell_type": "markdown",
      "metadata": {},
      "source": [
        "# Vanishing Gradient Problem in Deep Networks\n",
        "\n",
        "The **vanishing gradient problem** is a common issue in training deep neural networks, especially in networks with many layers, such as recurrent neural networks (RNNs) and deep feedforward networks. This problem occurs when the gradients of the loss function with respect to the model parameters become very small as they are backpropagated through the network. As a result, weights in earlier layers (closer to the input) receive very small updates, making it difficult for the network to learn and slowing or even stalling the training process.\n",
        "\n",
        "### How It Happens\n",
        "During backpropagation, the gradient is calculated for each layer starting from the output layer and moving backward through the network. The gradient of each layer is affected by the gradients of subsequent layers. When the gradients are multiplied during backpropagation, they may shrink to a very small value, especially if the activation functions or weights tend to have values less than 1. This repeated multiplication of small values leads to an exponentially decreasing gradient, hence \"vanishing.\"\n",
        "\n",
        "## Simple Mathematical Illustration of the Vanishing Gradient Problem\n",
        "\n",
        "Imagine a deep network with gradients at each layer around $ 0.1 $ to $ 0.2 $. During backpropagation, we multiply these gradients as they pass through layers.\n",
        "\n",
        "1. Suppose we have a simple 3-layer network, and the gradients for each layer are:\n",
        "   $$\n",
        "   \\frac{\\partial L}{\\partial z_3} = 0.1, \\quad \\frac{\\partial z_3}{\\partial z_2} = 0.1, \\quad \\frac{\\partial z_2}{\\partial z_1} = 0.2\n",
        "   $$\n",
        "\n",
        "2. The gradient for the first layer is calculated as:\n",
        "   $$\n",
        "   \\frac{\\partial L}{\\partial z_1} = 0.1 \\times 0.1 \\times 0.2 = 0.002\n",
        "   $$\n",
        "\n",
        "3. Now, using this gradient, the weight update rule for a learning rate $ \\eta = 0.1 $ and initial weight $ w_{\\text{old}} = 1 $ is:\n",
        "   $$\n",
        "      w_{\\text{new}} = w_{\\text{old}} - \\eta \\times \\frac{\\partial L}{\\partial w} = 1 - 0.1 \\times 0.002 = 1 - 0.0002 = 0.9998\n",
        "   $$\n",
        "\n",
        "The change in $ w $ is only 0.0002, which is negligible. If such small changes continue, the weights hardly get updated, meaning the network \"learns\" very slowly or almost stops learning in earlier layers. This is the essence of the vanishing gradient problem.<p>\n",
        "\n",
        "In deep networks, outputs from each layer are passed as inputs to the next. If activations are in the “saturated” region of sigmoid or tanh (where the gradient is close to zero), the gradients become very small. As gradients are multiplied during backpropagation, they shrink even more layer by layer, resulting in very tiny gradients for the initial layers."
      ]
    },
    {
      "cell_type": "markdown",
      "metadata": {},
      "source": [
        "## Why Sigmoid and Tanh Are Prone to the Vanishing Gradient Problem\n",
        "\n",
        "### Theoretical Explanation\n",
        "Both **sigmoid** and **tanh** functions compress input values into a narrow range:\n",
        "- **Sigmoid** maps inputs to the range $(0, 1)$. And **$\\nabla$(Sigmoid)** maps into range $(0, 0.25]$.\n",
        "- **Tanh** maps inputs to the range $(-1, 1)$. And **$\\nabla$(Tanh)** maps into range $(0, 1]$.\n",
        "\n",
        "This squashing effect makes the gradients small, especially for inputs far from zero, causing the vanishing gradient problem in deep networks.\n",
        "\n",
        "### Mathematical Explanation\n",
        "\n",
        "1. **Sigmoid Activation Function**\n",
        "   - The sigmoid function is defined as:\n",
        "     $$\n",
        "     \\sigma(x) = \\frac{1}{1 + e^{-x}}\n",
        "     $$\n",
        "   - Its derivative is:\n",
        "     $$\n",
        "     \\sigma'(x) = \\sigma(x) \\cdot (1 - \\sigma(x))\n",
        "     $$\n",
        "   - For large positive or negative $ x $, $ \\sigma(x) $ approaches 1 or 0, making $ \\sigma'(x) \\approx 0 $.\n",
        "\n",
        "   Example: For $ x = 5 $,\n",
        "   $$\n",
        "   \\sigma(5) \\approx 0.99 \\quad \\Rightarrow \\quad \\sigma'(5) = 0.99 \\times (1 - 0.99) = 0.0099\n",
        "   $$\n",
        "\n",
        "   This tiny gradient means very small updates.\n",
        "\n",
        "2. **Tanh Activation Function**\n",
        "   - The tanh function is defined as:\n",
        "     $$\n",
        "     \\tanh(x) = \\frac{e^x - e^{-x}}{e^x + e^{-x}}\n",
        "     $$\n",
        "   - Its derivative is:\n",
        "     $$\n",
        "     \\tanh'(x) = 1 - \\tanh^2(x)\n",
        "     $$\n",
        "   - For large values of $ x $, $ \\tanh(x) $ approaches 1 or -1, and $ \\tanh'(x) \\approx 0 $.\n",
        "\n",
        "   Example: For $ x = 5 $,\n",
        "   $$\n",
        "   \\tanh(5) \\approx 1 \\quad \\Rightarrow \\quad \\tanh'(5) = 1 - 1^2 = 0\n",
        "   $$\n",
        "\n",
        "Gradients near zero prevent effective learning and cause the vanishing gradient problem."
      ]
    },
    {
      "cell_type": "markdown",
      "metadata": {},
      "source": [
        "## Why ReLU and Leaky ReLU Solve the Vanishing Gradient Problem\n",
        "\n",
        "1. **ReLU (Rectified Linear Unit)**\n",
        "   - Defined as:\n",
        "     $$\n",
        "     \\text{ReLU}(x) = \\max(0, x)\n",
        "     $$\n",
        "   - Gradients:\n",
        "     - For $ x > 0 $, $ \\text{ReLU}'(x) = 1 $. <br>\n",
        "     This means that in this range, the gradient does not shrink, which prevents it from vanishing as we backpropagate through layers.\n",
        "\n",
        "     - For $ x \\leq 0 $, $ \\text{ReLU}'(x) = 0 $.<br> meaning that neurons with negative input become \"inactive\" (they output zero and receive no gradient). This feature simplifies computations and allows the model to focus on learning only from neurons with positive activations.\n",
        "\n",
        "   Since ReLU gradients are either 1 (positive inputs) or 0 (negative inputs), gradients don’t diminish in the positive range. This characteristic allows gradients to be maintained across layers, solving much of the vanishing gradient problem. ReLU’s simplicity and efficiency make it widely popular for deep networks, though it can suffer from \"dead neurons\" (neurons that permanently output zero if they always receive negative input).\n",
        "\n",
        "\n",
        "2. **Leaky ReLU**\n",
        "   - Defined as:\n",
        "     $$\n",
        "     \\text{Leaky ReLU}(x) = \\begin{cases} \n",
        "     x & \\text{if } x > 0 \\\\\n",
        "     \\alpha x & \\text{if } x \\leq 0 \n",
        "     \\end{cases}\n",
        "     $$\n",
        "     \n",
        "   - Gradients:\n",
        "     - For $ x > 0 $, $\\text{Leaky ReLU}'(x) = 1$. <br>\n",
        "     Leaky ReLU behaves the same as ReLU.  \n",
        "     \n",
        "   - For $x \\leq 0$, $\\text{Leaky ReLU}'(x) = \\alpha$. <br> where $\\alpha $ is small but non-zero (e.g., 0.01). This non-zero gradient for negative inputs prevents neurons from “dying” because they still have a small gradient even when the input is negative.\n",
        "\n",
        "   Leaky ReLU mitigates the “dead neuron” issue in ReLU by allowing a small gradient even for negative values, which keeps neurons \"alive\" and enables them to recover during training. This small gradient means that even when inputs are negative, the weights in the layer can still receive updates, which helps in more stable training.\n",
        "\n",
        "## How to Detect the Vanishing Gradient Problem in Network Training\n",
        "\n",
        "1. **Gradient Magnitude Analysis**:\n",
        "   - Track the magnitude of gradients for each layer. If gradients in early layers are much smaller than in later layers, the vanishing gradient problem may be present.\n",
        "\n",
        "2. **Training Loss Monitoring**:\n",
        "   - If the training loss plateaus or decreases very slowly, especially in deep networks, it could indicate vanishing gradients.\n",
        "\n",
        "3. **Activation Distribution**:\n",
        "   - Plot histograms of activations per layer. If a large portion of activations are near 0 or saturated near 1 (for sigmoid) or -1 (for tanh), it's likely that gradients are vanishing.\n",
        "\n",
        "4. **Gradient Histograms**:\n",
        "   - Visualize gradient histograms for each layer. If initial layer gradients are centered around zero, it confirms the vanishing gradient problem.\n",
        "\n",
        "Using these techniques can help diagnose and address the vanishing gradient issue in your deep network training."
      ]
    },
    {
      "cell_type": "code",
      "execution_count": 1,
      "metadata": {
        "id": "IFGFeZeCSUIX"
      },
      "outputs": [],
      "source": [
        "import matplotlib.pyplot as plt\n",
        "import numpy as np\n",
        "import pandas as pd\n",
        "import tensorflow as tf\n",
        "import keras\n",
        "from sklearn.datasets import make_moons\n",
        "from sklearn.model_selection import train_test_split\n",
        "from keras.layers import Dense\n",
        "from keras.models import Sequential"
      ]
    },
    {
      "cell_type": "code",
      "execution_count": 2,
      "metadata": {
        "id": "VNiEr_mpSkTO"
      },
      "outputs": [],
      "source": [
        "X,y = make_moons(n_samples=250, noise=0.05, random_state=42)"
      ]
    },
    {
      "cell_type": "code",
      "execution_count": 3,
      "metadata": {
        "colab": {
          "base_uri": "https://localhost:8080/",
          "height": 430
        },
        "id": "UVpq7UCcTTA6",
        "outputId": "1661ba0b-8b06-4cc3-ccaa-41a083ad34e5"
      },
      "outputs": [
        {
          "data": {
            "image/png": "[encoded data removed]",
            "text/plain": [
              "<Figure size 640x480 with 1 Axes>"
            ]
          },
          "metadata": {},
          "output_type": "display_data"
        }
      ],
      "source": [
        "plt.scatter(X[:,0],X[:,1], c=y, s=100)\n",
        "plt.show()"
      ]
    },
    {
      "cell_type": "code",
      "execution_count": 17,
      "metadata": {
        "id": "nihtN5tYWqRR"
      },
      "outputs": [],
      "source": [
        "model = Sequential()\n",
        "\n",
        "model.add(Dense(10,activation='sigmoid',input_dim=2))\n",
        "model.add(Dense(10,activation='sigmoid'))\n",
        "model.add(Dense(10,activation='sigmoid'))\n",
        "model.add(Dense(10,activation='sigmoid'))\n",
        "model.add(Dense(10,activation='sigmoid'))\n",
        "model.add(Dense(10,activation='sigmoid'))\n",
        "model.add(Dense(10,activation='sigmoid'))\n",
        "model.add(Dense(10,activation='sigmoid'))\n",
        "model.add(Dense(10,activation='sigmoid'))\n",
        "model.add(Dense(10,activation='sigmoid'))\n",
        "model.add(Dense(10,activation='sigmoid'))\n",
        "model.add(Dense(1, activation='sigmoid'))"
      ]
    },
    {
      "cell_type": "code",
      "execution_count": 18,
      "metadata": {
        "id": "bzYYyQhhUAbJ"
      },
      "outputs": [],
      "source": [
        "model.compile(loss='binary_crossentropy',optimizer='adam',metrics=['accuracy'])"
      ]
    },
    {
      "cell_type": "code",
      "execution_count": 6,
      "metadata": {
        "colab": {
          "base_uri": "https://localhost:8080/",
          "height": 524
        },
        "id": "lKEfOgQb8qcf",
        "outputId": "5373af7b-3ac7-46d4-d0da-2aa8e7ff7522"
      },
      "outputs": [
        {
          "data": {
            "text/html": [
              "<pre style=\"white-space:pre;overflow-x:auto;line-height:normal;font-family:Menlo,'DejaVu Sans Mono',consolas,'Courier New',monospace\"><span style=\"font-weight: bold\">Model: \"sequential\"</span>\n",
              "</pre>\n"
            ],
            "text/plain": [
              "\u001b[1mModel: \"sequential\"\u001b[0m\n"
            ]
          },
          "metadata": {},
          "output_type": "display_data"
        },
        {
          "data": {
            "text/html": [
              "<pre style=\"white-space:pre;overflow-x:auto;line-height:normal;font-family:Menlo,'DejaVu Sans Mono',consolas,'Courier New',monospace\">┏━━━━━━━━━━━━━━━━━━━━━━━━━━━━━━━━━━━━━━┳━━━━━━━━━━━━━━━━━━━━━━━━━━━━━┳━━━━━━━━━━━━━━━━━┓\n",
              "┃<span style=\"font-weight: bold\"> Layer (type)                         </span>┃<span style=\"font-weight: bold\"> Output Shape                </span>┃<span style=\"font-weight: bold\">         Param # </span>┃\n",
              "┡━━━━━━━━━━━━━━━━━━━━━━━━━━━━━━━━━━━━━━╇━━━━━━━━━━━━━━━━━━━━━━━━━━━━━╇━━━━━━━━━━━━━━━━━┩\n",
              "│ dense (<span style=\"color: #0087ff; text-decoration-color: #0087ff\">Dense</span>)                        │ (<span style=\"color: #00d7ff; text-decoration-color: #00d7ff\">None</span>, <span style=\"color: #00af00; text-decoration-color: #00af00\">10</span>)                  │              <span style=\"color: #00af00; text-decoration-color: #00af00\">30</span> │\n",
              "├──────────────────────────────────────┼─────────────────────────────┼─────────────────┤\n",
              "│ dense_1 (<span style=\"color: #0087ff; text-decoration-color: #0087ff\">Dense</span>)                      │ (<span style=\"color: #00d7ff; text-decoration-color: #00d7ff\">None</span>, <span style=\"color: #00af00; text-decoration-color: #00af00\">10</span>)                  │             <span style=\"color: #00af00; text-decoration-color: #00af00\">110</span> │\n",
              "├──────────────────────────────────────┼─────────────────────────────┼─────────────────┤\n",
              "│ dense_2 (<span style=\"color: #0087ff; text-decoration-color: #0087ff\">Dense</span>)                      │ (<span style=\"color: #00d7ff; text-decoration-color: #00d7ff\">None</span>, <span style=\"color: #00af00; text-decoration-color: #00af00\">10</span>)                  │             <span style=\"color: #00af00; text-decoration-color: #00af00\">110</span> │\n",
              "├──────────────────────────────────────┼─────────────────────────────┼─────────────────┤\n",
              "│ dense_3 (<span style=\"color: #0087ff; text-decoration-color: #0087ff\">Dense</span>)                      │ (<span style=\"color: #00d7ff; text-decoration-color: #00d7ff\">None</span>, <span style=\"color: #00af00; text-decoration-color: #00af00\">10</span>)                  │             <span style=\"color: #00af00; text-decoration-color: #00af00\">110</span> │\n",
              "├──────────────────────────────────────┼─────────────────────────────┼─────────────────┤\n",
              "│ dense_4 (<span style=\"color: #0087ff; text-decoration-color: #0087ff\">Dense</span>)                      │ (<span style=\"color: #00d7ff; text-decoration-color: #00d7ff\">None</span>, <span style=\"color: #00af00; text-decoration-color: #00af00\">10</span>)                  │             <span style=\"color: #00af00; text-decoration-color: #00af00\">110</span> │\n",
              "├──────────────────────────────────────┼─────────────────────────────┼─────────────────┤\n",
              "│ dense_5 (<span style=\"color: #0087ff; text-decoration-color: #0087ff\">Dense</span>)                      │ (<span style=\"color: #00d7ff; text-decoration-color: #00d7ff\">None</span>, <span style=\"color: #00af00; text-decoration-color: #00af00\">10</span>)                  │             <span style=\"color: #00af00; text-decoration-color: #00af00\">110</span> │\n",
              "├──────────────────────────────────────┼─────────────────────────────┼─────────────────┤\n",
              "│ dense_6 (<span style=\"color: #0087ff; text-decoration-color: #0087ff\">Dense</span>)                      │ (<span style=\"color: #00d7ff; text-decoration-color: #00d7ff\">None</span>, <span style=\"color: #00af00; text-decoration-color: #00af00\">10</span>)                  │             <span style=\"color: #00af00; text-decoration-color: #00af00\">110</span> │\n",
              "├──────────────────────────────────────┼─────────────────────────────┼─────────────────┤\n",
              "│ dense_7 (<span style=\"color: #0087ff; text-decoration-color: #0087ff\">Dense</span>)                      │ (<span style=\"color: #00d7ff; text-decoration-color: #00d7ff\">None</span>, <span style=\"color: #00af00; text-decoration-color: #00af00\">10</span>)                  │             <span style=\"color: #00af00; text-decoration-color: #00af00\">110</span> │\n",
              "├──────────────────────────────────────┼─────────────────────────────┼─────────────────┤\n",
              "│ dense_8 (<span style=\"color: #0087ff; text-decoration-color: #0087ff\">Dense</span>)                      │ (<span style=\"color: #00d7ff; text-decoration-color: #00d7ff\">None</span>, <span style=\"color: #00af00; text-decoration-color: #00af00\">10</span>)                  │             <span style=\"color: #00af00; text-decoration-color: #00af00\">110</span> │\n",
              "├──────────────────────────────────────┼─────────────────────────────┼─────────────────┤\n",
              "│ dense_9 (<span style=\"color: #0087ff; text-decoration-color: #0087ff\">Dense</span>)                      │ (<span style=\"color: #00d7ff; text-decoration-color: #00d7ff\">None</span>, <span style=\"color: #00af00; text-decoration-color: #00af00\">10</span>)                  │             <span style=\"color: #00af00; text-decoration-color: #00af00\">110</span> │\n",
              "├──────────────────────────────────────┼─────────────────────────────┼─────────────────┤\n",
              "│ dense_10 (<span style=\"color: #0087ff; text-decoration-color: #0087ff\">Dense</span>)                     │ (<span style=\"color: #00d7ff; text-decoration-color: #00d7ff\">None</span>, <span style=\"color: #00af00; text-decoration-color: #00af00\">10</span>)                  │             <span style=\"color: #00af00; text-decoration-color: #00af00\">110</span> │\n",
              "├──────────────────────────────────────┼─────────────────────────────┼─────────────────┤\n",
              "│ dense_11 (<span style=\"color: #0087ff; text-decoration-color: #0087ff\">Dense</span>)                     │ (<span style=\"color: #00d7ff; text-decoration-color: #00d7ff\">None</span>, <span style=\"color: #00af00; text-decoration-color: #00af00\">1</span>)                   │              <span style=\"color: #00af00; text-decoration-color: #00af00\">11</span> │\n",
              "└──────────────────────────────────────┴─────────────────────────────┴─────────────────┘\n",
              "</pre>\n"
            ],
            "text/plain": [
              "┏━━━━━━━━━━━━━━━━━━━━━━━━━━━━━━━━━━━━━━┳━━━━━━━━━━━━━━━━━━━━━━━━━━━━━┳━━━━━━━━━━━━━━━━━┓\n",
              "┃\u001b[1m \u001b[0m\u001b[1mLayer (type)                        \u001b[0m\u001b[1m \u001b[0m┃\u001b[1m \u001b[0m\u001b[1mOutput Shape               \u001b[0m\u001b[1m \u001b[0m┃\u001b[1m \u001b[0m\u001b[1m        Param #\u001b[0m\u001b[1m \u001b[0m┃\n",
              "┡━━━━━━━━━━━━━━━━━━━━━━━━━━━━━━━━━━━━━━╇━━━━━━━━━━━━━━━━━━━━━━━━━━━━━╇━━━━━━━━━━━━━━━━━┩\n",
              "│ dense (\u001b[38;5;33mDense\u001b[0m)                        │ (\u001b[38;5;45mNone\u001b[0m, \u001b[38;5;34m10\u001b[0m)                  │              \u001b[38;5;34m30\u001b[0m │\n",
              "├──────────────────────────────────────┼─────────────────────────────┼─────────────────┤\n",
              "│ dense_1 (\u001b[38;5;33mDense\u001b[0m)                      │ (\u001b[38;5;45mNone\u001b[0m, \u001b[38;5;34m10\u001b[0m)                  │             \u001b[38;5;34m110\u001b[0m │\n",
              "├──────────────────────────────────────┼─────────────────────────────┼─────────────────┤\n",
              "│ dense_2 (\u001b[38;5;33mDense\u001b[0m)                      │ (\u001b[38;5;45mNone\u001b[0m, \u001b[38;5;34m10\u001b[0m)                  │             \u001b[38;5;34m110\u001b[0m │\n",
              "├──────────────────────────────────────┼─────────────────────────────┼─────────────────┤\n",
              "│ dense_3 (\u001b[38;5;33mDense\u001b[0m)                      │ (\u001b[38;5;45mNone\u001b[0m, \u001b[38;5;34m10\u001b[0m)                  │             \u001b[38;5;34m110\u001b[0m │\n",
              "├──────────────────────────────────────┼─────────────────────────────┼─────────────────┤\n",
              "│ dense_4 (\u001b[38;5;33mDense\u001b[0m)                      │ (\u001b[38;5;45mNone\u001b[0m, \u001b[38;5;34m10\u001b[0m)                  │             \u001b[38;5;34m110\u001b[0m │\n",
              "├──────────────────────────────────────┼─────────────────────────────┼─────────────────┤\n",
              "│ dense_5 (\u001b[38;5;33mDense\u001b[0m)                      │ (\u001b[38;5;45mNone\u001b[0m, \u001b[38;5;34m10\u001b[0m)                  │             \u001b[38;5;34m110\u001b[0m │\n",
              "├──────────────────────────────────────┼─────────────────────────────┼─────────────────┤\n",
              "│ dense_6 (\u001b[38;5;33mDense\u001b[0m)                      │ (\u001b[38;5;45mNone\u001b[0m, \u001b[38;5;34m10\u001b[0m)                  │             \u001b[38;5;34m110\u001b[0m │\n",
              "├──────────────────────────────────────┼─────────────────────────────┼─────────────────┤\n",
              "│ dense_7 (\u001b[38;5;33mDense\u001b[0m)                      │ (\u001b[38;5;45mNone\u001b[0m, \u001b[38;5;34m10\u001b[0m)                  │             \u001b[38;5;34m110\u001b[0m │\n",
              "├──────────────────────────────────────┼─────────────────────────────┼─────────────────┤\n",
              "│ dense_8 (\u001b[38;5;33mDense\u001b[0m)                      │ (\u001b[38;5;45mNone\u001b[0m, \u001b[38;5;34m10\u001b[0m)                  │             \u001b[38;5;34m110\u001b[0m │\n",
              "├──────────────────────────────────────┼─────────────────────────────┼─────────────────┤\n",
              "│ dense_9 (\u001b[38;5;33mDense\u001b[0m)                      │ (\u001b[38;5;45mNone\u001b[0m, \u001b[38;5;34m10\u001b[0m)                  │             \u001b[38;5;34m110\u001b[0m │\n",
              "├──────────────────────────────────────┼─────────────────────────────┼─────────────────┤\n",
              "│ dense_10 (\u001b[38;5;33mDense\u001b[0m)                     │ (\u001b[38;5;45mNone\u001b[0m, \u001b[38;5;34m10\u001b[0m)                  │             \u001b[38;5;34m110\u001b[0m │\n",
              "├──────────────────────────────────────┼─────────────────────────────┼─────────────────┤\n",
              "│ dense_11 (\u001b[38;5;33mDense\u001b[0m)                     │ (\u001b[38;5;45mNone\u001b[0m, \u001b[38;5;34m1\u001b[0m)                   │              \u001b[38;5;34m11\u001b[0m │\n",
              "└──────────────────────────────────────┴─────────────────────────────┴─────────────────┘\n"
            ]
          },
          "metadata": {},
          "output_type": "display_data"
        },
        {
          "data": {
            "text/html": [
              "<pre style=\"white-space:pre;overflow-x:auto;line-height:normal;font-family:Menlo,'DejaVu Sans Mono',consolas,'Courier New',monospace\"><span style=\"font-weight: bold\"> Total params: </span><span style=\"color: #00af00; text-decoration-color: #00af00\">1,141</span> (4.46 KB)\n",
              "</pre>\n"
            ],
            "text/plain": [
              "\u001b[1m Total params: \u001b[0m\u001b[38;5;34m1,141\u001b[0m (4.46 KB)\n"
            ]
          },
          "metadata": {},
          "output_type": "display_data"
        },
        {
          "data": {
            "text/html": [
              "<pre style=\"white-space:pre;overflow-x:auto;line-height:normal;font-family:Menlo,'DejaVu Sans Mono',consolas,'Courier New',monospace\"><span style=\"font-weight: bold\"> Trainable params: </span><span style=\"color: #00af00; text-decoration-color: #00af00\">1,141</span> (4.46 KB)\n",
              "</pre>\n"
            ],
            "text/plain": [
              "\u001b[1m Trainable params: \u001b[0m\u001b[38;5;34m1,141\u001b[0m (4.46 KB)\n"
            ]
          },
          "metadata": {},
          "output_type": "display_data"
        },
        {
          "data": {
            "text/html": [
              "<pre style=\"white-space:pre;overflow-x:auto;line-height:normal;font-family:Menlo,'DejaVu Sans Mono',consolas,'Courier New',monospace\"><span style=\"font-weight: bold\"> Non-trainable params: </span><span style=\"color: #00af00; text-decoration-color: #00af00\">0</span> (0.00 B)\n",
              "</pre>\n"
            ],
            "text/plain": [
              "\u001b[1m Non-trainable params: \u001b[0m\u001b[38;5;34m0\u001b[0m (0.00 B)\n"
            ]
          },
          "metadata": {},
          "output_type": "display_data"
        }
      ],
      "source": [
        "model.summary()"
      ]
    },
    {
      "cell_type": "code",
      "execution_count": 7,
      "metadata": {
        "colab": {
          "base_uri": "https://localhost:8080/"
        },
        "id": "22aPw0va9AYW",
        "outputId": "14c944f6-5f71-4265-e0b0-08e31161a435"
      },
      "outputs": [
        {
          "data": {
            "text/plain": [
              "[array([[-0.24770224, -0.41521472,  0.37626058,  0.40868753, -0.5465692 ,\n",
              "         -0.14111644, -0.55891454, -0.5017235 , -0.4630983 ,  0.00356919],\n",
              "        [ 0.35393256, -0.18465292,  0.5104074 , -0.15644085, -0.17475313,\n",
              "          0.66446203,  0.05155754,  0.10187197,  0.42908353,  0.5314048 ]],\n",
              "       dtype=float32),\n",
              " array([0., 0., 0., 0., 0., 0., 0., 0., 0., 0.], dtype=float32),\n",
              " array([[ 0.20190448,  0.4331379 ,  0.44908231,  0.20136291,  0.41281837,\n",
              "         -0.29513434,  0.07614827, -0.00805879, -0.43057093,  0.20294237],\n",
              "        [-0.0543986 ,  0.228427  , -0.0456388 , -0.5048769 , -0.34730682,\n",
              "          0.29421747, -0.02961338, -0.2348434 , -0.42497134,  0.14247209],\n",
              "        [-0.04461986, -0.20447153,  0.00917596, -0.17145973,  0.02778465,\n",
              "          0.45475316,  0.30060858, -0.28250787,  0.46744823, -0.23061731],\n",
              "        [ 0.452891  , -0.3313172 ,  0.5184736 , -0.08662087, -0.23123175,\n",
              "          0.07221591,  0.42279512, -0.13232118, -0.04370272, -0.06262872],\n",
              "        [ 0.19414324, -0.2194973 ,  0.5299753 ,  0.22923821,  0.04468942,\n",
              "          0.52746093, -0.13175443, -0.05706584, -0.42952335,  0.22393334],\n",
              "        [ 0.09032249, -0.35576928, -0.5313072 ,  0.4177214 ,  0.36160022,\n",
              "         -0.2748198 ,  0.11549658, -0.2141833 ,  0.22227919, -0.00063181],\n",
              "        [-0.39049006,  0.12795448,  0.51038516, -0.27884895, -0.07558167,\n",
              "         -0.4952765 , -0.06610039, -0.21263233, -0.3859737 , -0.06520286],\n",
              "        [-0.5134731 ,  0.11821175,  0.4532175 , -0.40108305, -0.11922342,\n",
              "         -0.3146194 , -0.48160458, -0.23977175, -0.35417283, -0.5210439 ],\n",
              "        [ 0.08384472,  0.09519601,  0.5229497 ,  0.44114536, -0.39702007,\n",
              "          0.07735974, -0.01819104, -0.36907285,  0.28469414,  0.3442341 ],\n",
              "        [ 0.51903355,  0.2198183 , -0.03765655,  0.15230954,  0.47139204,\n",
              "          0.49901593,  0.39631712,  0.4929198 , -0.25921422, -0.27870306]],\n",
              "       dtype=float32),\n",
              " array([0., 0., 0., 0., 0., 0., 0., 0., 0., 0.], dtype=float32),\n",
              " array([[-0.39091003,  0.5460074 ,  0.09794343, -0.25925615, -0.32364324,\n",
              "         -0.47246906,  0.27453423,  0.2201873 , -0.54029477, -0.27448627],\n",
              "        [ 0.5274637 , -0.51040715,  0.1575799 , -0.06858781, -0.03789866,\n",
              "          0.36286408, -0.18484074,  0.5017973 , -0.06784621,  0.02339786],\n",
              "        [-0.02839881, -0.5402005 ,  0.21704435, -0.06040025, -0.38728207,\n",
              "          0.25741947, -0.2872624 ,  0.19004124, -0.23379254,  0.15373594],\n",
              "        [-0.13854352, -0.25571072,  0.4841411 , -0.54563934, -0.50421613,\n",
              "          0.3266636 , -0.3526247 ,  0.05793869, -0.5401498 ,  0.31179112],\n",
              "        [-0.07822007,  0.10416514,  0.5366297 , -0.01803851,  0.50970566,\n",
              "          0.11361444,  0.41134822,  0.1436593 ,  0.07008588, -0.04272491],\n",
              "        [ 0.03286189, -0.4146739 ,  0.4276592 , -0.4864163 , -0.44839376,\n",
              "          0.00859004,  0.4016332 , -0.5072041 , -0.03107661, -0.19092023],\n",
              "        [-0.38674104, -0.1740784 , -0.06672278,  0.3079521 ,  0.5113064 ,\n",
              "          0.1027894 , -0.44953117, -0.13011622,  0.21144754,  0.11562693],\n",
              "        [-0.49810752,  0.52381754, -0.27130413, -0.30340835,  0.25428182,\n",
              "          0.5127641 ,  0.46965182,  0.06166631, -0.5063224 , -0.27001837],\n",
              "        [-0.12515846,  0.44381547, -0.3742732 ,  0.02238059, -0.43475795,\n",
              "          0.07257032,  0.28603816,  0.23211527,  0.42750907, -0.4748468 ],\n",
              "        [ 0.07944185,  0.13402367,  0.2842793 , -0.33274084,  0.0579384 ,\n",
              "         -0.53606963,  0.37731498, -0.08564213, -0.45726493, -0.28462887]],\n",
              "       dtype=float32),\n",
              " array([0., 0., 0., 0., 0., 0., 0., 0., 0., 0.], dtype=float32),\n",
              " array([[ 0.33675784, -0.50125587,  0.31486857,  0.30110556,  0.0643906 ,\n",
              "          0.2741133 , -0.53717244, -0.52457845,  0.00273424, -0.12911499],\n",
              "        [ 0.24987817,  0.3120842 ,  0.27022237, -0.14932245,  0.27073282,\n",
              "          0.0595082 ,  0.30987084,  0.40852088, -0.02328616,  0.12491935],\n",
              "        [ 0.37531555,  0.09440219, -0.40758198,  0.32309294, -0.21414125,\n",
              "          0.28421152, -0.19438171,  0.13827491,  0.29980922,  0.3457445 ],\n",
              "        [-0.17350069, -0.29920214,  0.32741433, -0.5365996 , -0.3735435 ,\n",
              "         -0.30799925, -0.1356923 ,  0.00479686,  0.25412893,  0.24289435],\n",
              "        [-0.02186084, -0.48827314,  0.41959518, -0.4812379 ,  0.31206745,\n",
              "         -0.45217243, -0.52901816,  0.16565382, -0.12276688, -0.36613005],\n",
              "        [-0.08524331,  0.21756554, -0.16106814, -0.01011413, -0.27925128,\n",
              "         -0.18321744,  0.11353844,  0.2734787 , -0.04656065,  0.2954842 ],\n",
              "        [-0.47620714,  0.39365286,  0.22348505,  0.37065828, -0.03302276,\n",
              "         -0.49245426, -0.07531136, -0.31799743,  0.18481553,  0.51392245],\n",
              "        [-0.09605476,  0.46277606,  0.54745555,  0.27487516, -0.3485042 ,\n",
              "          0.32534307, -0.11284435,  0.05443883,  0.5433061 ,  0.47178423],\n",
              "        [-0.36200517,  0.47285497, -0.40060967, -0.04665214,  0.27276713,\n",
              "         -0.29327765,  0.08399057, -0.32619452, -0.3143457 , -0.3673107 ],\n",
              "        [ 0.15641767, -0.5283092 , -0.54663897, -0.310619  , -0.25137743,\n",
              "         -0.13358682,  0.18269104, -0.11551237, -0.01949209,  0.43538398]],\n",
              "       dtype=float32),\n",
              " array([0., 0., 0., 0., 0., 0., 0., 0., 0., 0.], dtype=float32),\n",
              " array([[-0.2735881 ,  0.37956786, -0.30965003, -0.5350051 ,  0.49300134,\n",
              "          0.43204868,  0.28107363, -0.17065585,  0.22291988, -0.2016258 ],\n",
              "        [ 0.05244607,  0.0521214 , -0.18947673,  0.51267815,  0.00734657,\n",
              "         -0.11679527, -0.00413257, -0.42075455,  0.23740709,  0.25677288],\n",
              "        [-0.40898904, -0.40217018, -0.48333588,  0.44203925,  0.2263043 ,\n",
              "          0.14539194, -0.33831656, -0.22983575, -0.3702578 ,  0.3922702 ],\n",
              "        [-0.06908196, -0.09523413,  0.4378296 , -0.535933  , -0.22786611,\n",
              "          0.26420695, -0.31530905,  0.47305357,  0.28713655,  0.50427246],\n",
              "        [-0.1103718 , -0.06667915, -0.28808224, -0.14812955,  0.14671826,\n",
              "          0.07133025,  0.20039529,  0.3266765 ,  0.26550043, -0.17670542],\n",
              "        [ 0.399172  ,  0.04644072,  0.5223272 , -0.43781957, -0.12513077,\n",
              "          0.03355074, -0.4433549 ,  0.36215836,  0.41065824,  0.5079477 ],\n",
              "        [ 0.39301807,  0.15948462, -0.00286871,  0.37604266,  0.28540784,\n",
              "          0.00153255,  0.17060441,  0.5218718 , -0.36908576, -0.06427047],\n",
              "        [-0.3797866 , -0.52529615, -0.52046496, -0.12512764, -0.22354317,\n",
              "          0.12341839,  0.14465463,  0.5102432 , -0.03912264,  0.05251628],\n",
              "        [-0.38427383,  0.49625492,  0.3205564 ,  0.10191643, -0.25240347,\n",
              "         -0.4465769 , -0.4100533 , -0.31989303,  0.3939395 ,  0.18200076],\n",
              "        [-0.21373084, -0.23758155,  0.19294667,  0.28474313, -0.37170053,\n",
              "         -0.05292466, -0.3365775 , -0.06344059,  0.1980182 ,  0.29297954]],\n",
              "       dtype=float32),\n",
              " array([0., 0., 0., 0., 0., 0., 0., 0., 0., 0.], dtype=float32),\n",
              " array([[-0.3235906 ,  0.49510825,  0.30640113,  0.43213665,  0.06653261,\n",
              "          0.2122078 ,  0.08317351, -0.39779747,  0.14599329,  0.4535427 ],\n",
              "        [ 0.20238632,  0.41246635,  0.17350942, -0.41621038,  0.4084745 ,\n",
              "         -0.504315  ,  0.0848155 , -0.3618234 , -0.32739514, -0.06842026],\n",
              "        [ 0.46164203,  0.24181843,  0.17220813,  0.3101092 , -0.05972302,\n",
              "          0.48520076,  0.5254468 ,  0.02153659, -0.48333955,  0.5269574 ],\n",
              "        [-0.37671128, -0.14550656,  0.26952356, -0.4455548 ,  0.15133375,\n",
              "          0.21476662, -0.5055493 ,  0.5029001 , -0.00842315,  0.3384928 ],\n",
              "        [-0.44518965, -0.10478815,  0.08067721,  0.41244906,  0.15390635,\n",
              "          0.4780861 , -0.05698553, -0.34301257, -0.18860635,  0.07031912],\n",
              "        [-0.2322784 ,  0.37762576, -0.37950075,  0.01800448, -0.13767448,\n",
              "          0.24516773,  0.0159691 ,  0.22773385,  0.5221735 ,  0.23105884],\n",
              "        [ 0.16630965, -0.27948543,  0.15328878,  0.3153786 , -0.14297658,\n",
              "         -0.1334992 ,  0.44952422, -0.03536642,  0.14267659,  0.07671988],\n",
              "        [-0.06734279,  0.04594505, -0.39952174,  0.10521138, -0.36474884,\n",
              "          0.17213005, -0.36096272, -0.34036922,  0.09591395,  0.4199499 ],\n",
              "        [ 0.1250267 ,  0.02245682, -0.27086145,  0.46227038, -0.28515357,\n",
              "         -0.3929054 ,  0.30344933,  0.03021634,  0.43530852, -0.01853424],\n",
              "        [ 0.29842603, -0.36080915,  0.36760676, -0.22861725, -0.41022375,\n",
              "         -0.21837476, -0.41041374,  0.11742955, -0.1666075 ,  0.4953395 ]],\n",
              "       dtype=float32),\n",
              " array([0., 0., 0., 0., 0., 0., 0., 0., 0., 0.], dtype=float32),\n",
              " array([[-0.07863688,  0.34887123, -0.35756093, -0.53960264,  0.28493965,\n",
              "         -0.35978195,  0.26891255,  0.3167032 ,  0.27900827, -0.049757  ],\n",
              "        [-0.42295888, -0.23460743,  0.24549955,  0.06275463,  0.2492742 ,\n",
              "         -0.07132715,  0.2859093 ,  0.22300893, -0.5098843 , -0.5467577 ],\n",
              "        [-0.16392145,  0.02978969, -0.34939635, -0.4498579 ,  0.25892538,\n",
              "          0.44425243,  0.5462105 , -0.26196545, -0.08132634,  0.2154721 ],\n",
              "        [ 0.14007127,  0.05804318, -0.06311411,  0.4424882 , -0.50339174,\n",
              "          0.4500829 ,  0.01143146, -0.0680545 ,  0.16624409, -0.08743313],\n",
              "        [ 0.42308134, -0.30723614,  0.3838032 ,  0.39495432, -0.390892  ,\n",
              "          0.18818861, -0.00177675,  0.07028961,  0.4934646 ,  0.02451277],\n",
              "        [-0.43048894,  0.20930392,  0.09764034,  0.01045626,  0.23687768,\n",
              "         -0.21316773,  0.01404881,  0.07687747, -0.12932199,  0.2695399 ],\n",
              "        [-0.30940259,  0.22756654, -0.14548331,  0.24394506, -0.38166118,\n",
              "         -0.4134887 , -0.3701118 ,  0.5281105 , -0.2676529 ,  0.35847545],\n",
              "        [ 0.21744967, -0.04427642,  0.3065725 ,  0.5074507 ,  0.4186055 ,\n",
              "         -0.5202169 ,  0.28281552, -0.18744701,  0.02026153,  0.5149232 ],\n",
              "        [-0.4844678 , -0.08018538, -0.4187472 , -0.16524535,  0.17338967,\n",
              "         -0.2770369 ,  0.47914374, -0.3661815 , -0.52950734,  0.02487689],\n",
              "        [ 0.48912585, -0.05724019, -0.18788722,  0.4246884 , -0.31398448,\n",
              "         -0.14504415, -0.27519158,  0.05103326, -0.23913422,  0.07881999]],\n",
              "       dtype=float32),\n",
              " array([0., 0., 0., 0., 0., 0., 0., 0., 0., 0.], dtype=float32),\n",
              " array([[-0.11466786,  0.43693173,  0.18750083, -0.06155086,  0.45567334,\n",
              "         -0.5373891 ,  0.4868983 ,  0.07327574,  0.16572267,  0.08735996],\n",
              "        [-0.29847932,  0.5428201 , -0.00891256, -0.5017714 , -0.2123073 ,\n",
              "          0.2739057 ,  0.03454137, -0.11971715,  0.12377906, -0.18610302],\n",
              "        [ 0.5456389 , -0.50780547,  0.2137708 ,  0.19630998,  0.47208166,\n",
              "         -0.05340743, -0.5184671 ,  0.18056935,  0.36813128, -0.44997188],\n",
              "        [ 0.31875837, -0.4063871 ,  0.11189485, -0.07725933,  0.02298176,\n",
              "         -0.03945082, -0.17096233,  0.42447424, -0.06318972, -0.10936055],\n",
              "        [-0.08172673,  0.3506304 , -0.3713776 ,  0.5246912 ,  0.3584575 ,\n",
              "          0.18273866, -0.32893735,  0.51217985, -0.24955693,  0.4196819 ],\n",
              "        [-0.17835996,  0.42561466,  0.15747947, -0.42615905,  0.2268064 ,\n",
              "          0.5093243 , -0.24385431, -0.23293525,  0.06265748, -0.40323368],\n",
              "        [ 0.17301518, -0.42364758, -0.25785366, -0.33582348,  0.47836244,\n",
              "         -0.45800155, -0.29536954,  0.33069062,  0.12433875,  0.35930413],\n",
              "        [-0.11048084,  0.14315706, -0.4389344 , -0.1143533 , -0.36882865,\n",
              "          0.39091188, -0.4013787 ,  0.3494721 , -0.0971432 ,  0.18297702],\n",
              "        [ 0.23879224, -0.00811666,  0.4174832 , -0.35627347,  0.30521792,\n",
              "         -0.36949202,  0.22733188, -0.10521558,  0.02799892,  0.44938374],\n",
              "        [-0.04479831, -0.08953831,  0.29088986,  0.16255355,  0.05664182,\n",
              "          0.39458644,  0.51935995,  0.18267065,  0.40265387,  0.54439676]],\n",
              "       dtype=float32),\n",
              " array([0., 0., 0., 0., 0., 0., 0., 0., 0., 0.], dtype=float32),\n",
              " array([[ 0.14758563,  0.3629542 ,  0.43683964, -0.02289391, -0.02199614,\n",
              "          0.20432699,  0.2517056 , -0.38768557, -0.5394364 ,  0.24253798],\n",
              "        [ 0.34932452,  0.2057128 , -0.10281277,  0.51786745, -0.47364396,\n",
              "          0.5269457 ,  0.00908208, -0.19489375,  0.2193582 ,  0.23859227],\n",
              "        [-0.53877854, -0.04785278,  0.0321089 ,  0.08479565,  0.31144637,\n",
              "          0.18632007, -0.20956117,  0.31851625, -0.42927396,  0.12445593],\n",
              "        [ 0.4676392 , -0.53848916, -0.07483014, -0.5156211 ,  0.4142593 ,\n",
              "          0.08859676, -0.20347503,  0.13898867, -0.51179826,  0.12341422],\n",
              "        [-0.2819346 ,  0.4833715 ,  0.40136236,  0.10131323, -0.28322205,\n",
              "          0.01889831,  0.15216297, -0.43910012, -0.139875  ,  0.15068513],\n",
              "        [-0.04189253, -0.0419634 ,  0.5428623 , -0.23350292,  0.04211438,\n",
              "          0.40165472,  0.47653854,  0.49260283, -0.52362794, -0.1269829 ],\n",
              "        [ 0.48988318, -0.40194255, -0.10349092,  0.12131083, -0.5261945 ,\n",
              "         -0.11199436,  0.11978495,  0.16700709,  0.00640047,  0.16625208],\n",
              "        [ 0.477005  ,  0.26863545,  0.45415735,  0.21414924,  0.2723304 ,\n",
              "          0.21436656, -0.03085017,  0.53661895, -0.19173929,  0.36638105],\n",
              "        [ 0.5451212 ,  0.2954445 ,  0.3501672 , -0.50264585, -0.23347536,\n",
              "          0.37491542, -0.5230018 , -0.43127704,  0.30296707, -0.39110708],\n",
              "        [-0.12658775, -0.34811318, -0.03551936, -0.45790702,  0.02034277,\n",
              "         -0.40691036,  0.07401526,  0.03438193, -0.29878896, -0.29868606]],\n",
              "       dtype=float32),\n",
              " array([0., 0., 0., 0., 0., 0., 0., 0., 0., 0.], dtype=float32),\n",
              " array([[-0.37188712, -0.13399217, -0.20080164, -0.28483087, -0.40696532,\n",
              "          0.02054554, -0.1235922 ,  0.5356606 , -0.00273669,  0.06877077],\n",
              "        [ 0.45353615, -0.5464107 , -0.16991869,  0.12235278,  0.5096594 ,\n",
              "          0.54045093, -0.13356188, -0.22411814, -0.32508492,  0.07425308],\n",
              "        [ 0.45525324, -0.4192335 , -0.19085091,  0.0769437 ,  0.19071066,\n",
              "         -0.06867608,  0.24991786,  0.02461374, -0.44098017,  0.35802883],\n",
              "        [ 0.10183835,  0.3903306 ,  0.23340511, -0.28864506, -0.13879648,\n",
              "         -0.5310274 , -0.1584582 ,  0.10967749,  0.24605954,  0.00601512],\n",
              "        [-0.3035302 ,  0.52658796, -0.14406633,  0.5319952 , -0.36950117,\n",
              "         -0.48054183,  0.52847755, -0.425904  , -0.15470082, -0.35569328],\n",
              "        [ 0.02499205,  0.28506672, -0.31973684,  0.5126778 ,  0.05249804,\n",
              "          0.5445576 , -0.29854685,  0.4487952 ,  0.13625944, -0.06065059],\n",
              "        [-0.15130556,  0.01218861, -0.46914887,  0.24534875,  0.23382169,\n",
              "          0.5182854 , -0.09174263, -0.03280598, -0.48949724, -0.43749127],\n",
              "        [ 0.25060254, -0.47864166, -0.23325557, -0.24089924,  0.320077  ,\n",
              "          0.16556454, -0.2479896 ,  0.17480737, -0.19302976,  0.00844693],\n",
              "        [ 0.25462878, -0.22449827,  0.42354733,  0.25422883,  0.29402882,\n",
              "         -0.27460277, -0.39451605, -0.54315174,  0.34461308,  0.35275102],\n",
              "        [ 0.13023776, -0.15794918, -0.416555  , -0.5136085 ,  0.5284846 ,\n",
              "         -0.1465984 ,  0.20925772, -0.05620384,  0.08294982,  0.05685431]],\n",
              "       dtype=float32),\n",
              " array([0., 0., 0., 0., 0., 0., 0., 0., 0., 0.], dtype=float32),\n",
              " array([[-0.21261221,  0.3591835 , -0.37682855,  0.5347066 ,  0.07620263,\n",
              "          0.33257645, -0.1211544 ,  0.18722355,  0.04011744,  0.5225812 ],\n",
              "        [-0.18326783,  0.25859344,  0.08723748, -0.48550767, -0.13433719,\n",
              "          0.5047189 , -0.06985268,  0.08449489,  0.4775108 ,  0.45175207],\n",
              "        [-0.19209567, -0.17720622, -0.03717428, -0.13806859,  0.51464844,\n",
              "          0.48521888,  0.30056936,  0.10670519, -0.24037218, -0.31101912],\n",
              "        [-0.5148415 ,  0.0933255 ,  0.31328022,  0.40264827,  0.3265041 ,\n",
              "         -0.10440999,  0.06172752, -0.5109987 , -0.13243166, -0.00577116],\n",
              "        [ 0.09737235, -0.3955989 , -0.46196842,  0.26046968, -0.3668509 ,\n",
              "          0.504354  ,  0.49193597,  0.3884316 ,  0.4314934 ,  0.21248436],\n",
              "        [ 0.19057691,  0.2724362 ,  0.04345697, -0.5333456 ,  0.18238425,\n",
              "         -0.5067121 ,  0.43692964,  0.2340852 , -0.07981178,  0.18721402],\n",
              "        [-0.15905279, -0.45810044,  0.40559834, -0.13400811, -0.28940314,\n",
              "         -0.3462053 , -0.23133478,  0.17725444, -0.51885235,  0.30219978],\n",
              "        [ 0.10307407, -0.31376457,  0.04305124,  0.4652474 , -0.29705122,\n",
              "          0.11519545,  0.4538535 ,  0.19750291, -0.0398559 ,  0.5129837 ],\n",
              "        [-0.42668936,  0.12479085,  0.21693295, -0.33913454,  0.40657437,\n",
              "          0.45826674, -0.3570438 , -0.0707989 , -0.19920653,  0.48040354],\n",
              "        [-0.09999469,  0.53776276,  0.10990298, -0.19621658,  0.473431  ,\n",
              "          0.32979637, -0.30918407,  0.01530927, -0.3677483 ,  0.2998885 ]],\n",
              "       dtype=float32),\n",
              " array([0., 0., 0., 0., 0., 0., 0., 0., 0., 0.], dtype=float32),\n",
              " array([[ 0.3193956 ],\n",
              "        [ 0.3446011 ],\n",
              "        [-0.10000819],\n",
              "        [ 0.6630556 ],\n",
              "        [ 0.39810115],\n",
              "        [-0.49477732],\n",
              "        [ 0.3201862 ],\n",
              "        [-0.04433686],\n",
              "        [-0.46850103],\n",
              "        [ 0.6281844 ]], dtype=float32),\n",
              " array([0.], dtype=float32)]"
            ]
          },
          "execution_count": 7,
          "metadata": {},
          "output_type": "execute_result"
        }
      ],
      "source": [
        "# All weights and biases\n",
        "model.get_weights()"
      ]
    },
    {
      "cell_type": "code",
      "execution_count": 8,
      "metadata": {
        "colab": {
          "base_uri": "https://localhost:8080/"
        },
        "id": "iSLnE6759NGd",
        "outputId": "940f0437-ed7b-43f7-9823-b11f2b37b157"
      },
      "outputs": [
        {
          "data": {
            "text/plain": [
              "array([[-0.24770224, -0.41521472,  0.37626058,  0.40868753, -0.5465692 ,\n",
              "        -0.14111644, -0.55891454, -0.5017235 , -0.4630983 ,  0.00356919],\n",
              "       [ 0.35393256, -0.18465292,  0.5104074 , -0.15644085, -0.17475313,\n",
              "         0.66446203,  0.05155754,  0.10187197,  0.42908353,  0.5314048 ]],\n",
              "      dtype=float32)"
            ]
          },
          "execution_count": 8,
          "metadata": {},
          "output_type": "execute_result"
        }
      ],
      "source": [
        "# taking out weights and bias of 1st layer only.\n",
        "model.get_weights()[0]"
      ]
    },
    {
      "cell_type": "code",
      "execution_count": 19,
      "metadata": {
        "id": "vYACAt-G9dMi"
      },
      "outputs": [],
      "source": [
        "old_weights = model.get_weights()[0]"
      ]
    },
    {
      "cell_type": "code",
      "execution_count": 20,
      "metadata": {
        "colab": {
          "base_uri": "https://localhost:8080/"
        },
        "id": "ouf7UIKiV7hr",
        "outputId": "7c6a7379-4051-47d4-c5df-1249cee52645"
      },
      "outputs": [
        {
          "name": "stdout",
          "output_type": "stream",
          "text": [
            "\u001b[1m7/7\u001b[0m \u001b[32m━━━━━━━━━━━━━━━━━━━━\u001b[0m\u001b[37m\u001b[0m \u001b[1m4s\u001b[0m 56ms/step - accuracy: 0.5236 - loss: 0.7374 - val_accuracy: 0.4800 - val_loss: 0.7581\n"
          ]
        },
        {
          "data": {
            "text/plain": [
              "<keras.src.callbacks.history.History at 0x7a512ec019f0>"
            ]
          },
          "execution_count": 20,
          "metadata": {},
          "output_type": "execute_result"
        }
      ],
      "source": [
        "model.fit(X, y, epochs = 1, validation_split=0.2)"
      ]
    },
    {
      "cell_type": "code",
      "execution_count": 21,
      "metadata": {
        "id": "oBuAGNGb-yBK"
      },
      "outputs": [],
      "source": [
        "new_weights = model.get_weights()[0]"
      ]
    },
    {
      "cell_type": "code",
      "execution_count": 22,
      "metadata": {
        "colab": {
          "base_uri": "https://localhost:8080/"
        },
        "id": "4K-CRUN8-3Mp",
        "outputId": "2089abe3-0681-48e6-9de6-608e680dd7f3"
      },
      "outputs": [
        {
          "data": {
            "text/plain": [
              "0.0010000000474974513"
            ]
          },
          "execution_count": 22,
          "metadata": {},
          "output_type": "execute_result"
        }
      ],
      "source": [
        "model.optimizer.get_config()[\"learning_rate\"]"
      ]
    },
    {
      "cell_type": "code",
      "execution_count": 29,
      "metadata": {
        "id": "HMu9YSma-3vy"
      },
      "outputs": [],
      "source": [
        "gradient = (old_weights - new_weights)/ 0.001\n",
        "percent_change = np.round(np.abs(100*(old_weights - new_weights)/ old_weights), 3)"
      ]
    },
    {
      "cell_type": "code",
      "execution_count": 27,
      "metadata": {
        "colab": {
          "base_uri": "https://localhost:8080/"
        },
        "id": "FWlr6O-Z-4BB",
        "outputId": "baa5523a-2266-4431-b656-5e4dc0d9177f"
      },
      "outputs": [
        {
          "data": {
            "text/plain": [
              "array([[-0.07708371, -0.05678832,  0.03075599,  0.0628382 ,  0.03789365,\n",
              "         0.04240125,  0.00791997, -0.02920627,  0.01955032, -0.03858656],\n",
              "       [ 0.03585219,  0.02688169, -0.01531839, -0.02980977, -0.01806766,\n",
              "        -0.02010166, -0.00369549,  0.01396239, -0.01102686,  0.01773238]],\n",
              "      dtype=float32)"
            ]
          },
          "execution_count": 27,
          "metadata": {},
          "output_type": "execute_result"
        }
      ],
      "source": [
        "gradient"
      ]
    },
    {
      "cell_type": "code",
      "execution_count": 30,
      "metadata": {
        "colab": {
          "base_uri": "https://localhost:8080/"
        },
        "id": "BqlYiSAw_DQu",
        "outputId": "c7e88f13-a01f-4278-bfd1-62a4d4434879"
      },
      "outputs": [
        {
          "data": {
            "text/plain": [
              "array([[0.059, 0.055, 0.008, 0.062, 0.022, 0.041, 0.007, 0.019, 0.003,\n",
              "        0.045],\n",
              "       [0.008, 0.029, 0.004, 0.062, 0.015, 0.044, 0.001, 0.012, 0.002,\n",
              "        0.004]], dtype=float32)"
            ]
          },
          "execution_count": 30,
          "metadata": {},
          "output_type": "execute_result"
        }
      ],
      "source": [
        "percent_change"
      ]
    },
    {
      "cell_type": "markdown",
      "metadata": {
        "id": "hJX_Hk3JE6Fg"
      },
      "source": [
        "This time running for 30 epochs."
      ]
    },
    {
      "cell_type": "code",
      "execution_count": 70,
      "metadata": {
        "colab": {
          "base_uri": "https://localhost:8080/"
        },
        "id": "dYhgyvjhBE49",
        "outputId": "6b6357cc-1681-4ca3-d226-93519462cc9c"
      },
      "outputs": [
        {
          "name": "stderr",
          "output_type": "stream",
          "text": [
            "/usr/local/lib/python3.10/dist-packages/keras/src/layers/core/dense.py:87: UserWarning: Do not pass an `input_shape`/`input_dim` argument to a layer. When using Sequential models, prefer using an `Input(shape)` object as the first layer in the model instead.\n",
            "  super().__init__(activity_regularizer=activity_regularizer, **kwargs)\n"
          ]
        }
      ],
      "source": [
        "model2 = Sequential()\n",
        "\n",
        "model2.add(Dense(10,activation='sigmoid',input_dim=2))\n",
        "model2.add(Dense(10,activation='sigmoid'))\n",
        "model2.add(Dense(10,activation='sigmoid'))\n",
        "model2.add(Dense(10,activation='sigmoid'))\n",
        "model2.add(Dense(10,activation='sigmoid'))\n",
        "model2.add(Dense(10,activation='sigmoid'))\n",
        "model2.add(Dense(10,activation='sigmoid'))\n",
        "model2.add(Dense(10,activation='sigmoid'))\n",
        "model2.add(Dense(10,activation='sigmoid'))\n",
        "model2.add(Dense(10,activation='sigmoid'))\n",
        "model2.add(Dense(10,activation='sigmoid'))\n",
        "model2.add(Dense(1, activation='sigmoid'))\n",
        "\n",
        "model2.compile(loss='binary_crossentropy',optimizer='adam',metrics=['accuracy'])"
      ]
    },
    {
      "cell_type": "code",
      "execution_count": 71,
      "metadata": {
        "id": "sBtZ7C9aBGK6"
      },
      "outputs": [],
      "source": [
        "old_weights2 = model2.get_weights()[0]"
      ]
    },
    {
      "cell_type": "code",
      "execution_count": 72,
      "metadata": {
        "colab": {
          "base_uri": "https://localhost:8080/"
        },
        "id": "_dNQnLNdBGat",
        "outputId": "fa682096-9c04-4eed-e54b-df3ab0bb83a9"
      },
      "outputs": [
        {
          "data": {
            "text/plain": [
              "array([[-0.14175737, -0.36765522,  0.11710471, -0.62272793, -0.640067  ,\n",
              "        -0.18557847,  0.40955907,  0.34887677,  0.5295709 , -0.5948417 ],\n",
              "       [ 0.45878178,  0.28642374,  0.70466715,  0.3756451 , -0.6152929 ,\n",
              "        -0.4419382 , -0.25475764,  0.01530856, -0.02954441, -0.25714484]],\n",
              "      dtype=float32)"
            ]
          },
          "execution_count": 72,
          "metadata": {},
          "output_type": "execute_result"
        }
      ],
      "source": [
        "old_weights2"
      ]
    },
    {
      "cell_type": "code",
      "execution_count": 74,
      "metadata": {
        "colab": {
          "base_uri": "https://localhost:8080/"
        },
        "id": "xij5C885BGo5",
        "outputId": "f75136b7-4086-4f1d-c90e-24f66ed6cc38"
      },
      "outputs": [
        {
          "name": "stdout",
          "output_type": "stream",
          "text": [
            "Epoch 1/30\n",
            "\u001b[1m7/7\u001b[0m \u001b[32m━━━━━━━━━━━━━━━━━━━━\u001b[0m\u001b[37m\u001b[0m \u001b[1m0s\u001b[0m 26ms/step - accuracy: 0.4501 - loss: 0.6963 - val_accuracy: 0.4800 - val_loss: 0.6941\n",
            "Epoch 2/30\n",
            "\u001b[1m7/7\u001b[0m \u001b[32m━━━━━━━━━━━━━━━━━━━━\u001b[0m\u001b[37m\u001b[0m \u001b[1m0s\u001b[0m 17ms/step - accuracy: 0.5051 - loss: 0.6931 - val_accuracy: 0.4800 - val_loss: 0.6940\n",
            "Epoch 3/30\n",
            "\u001b[1m7/7\u001b[0m \u001b[32m━━━━━━━━━━━━━━━━━━━━\u001b[0m\u001b[37m\u001b[0m \u001b[1m0s\u001b[0m 17ms/step - accuracy: 0.5191 - loss: 0.6927 - val_accuracy: 0.4800 - val_loss: 0.6940\n",
            "Epoch 4/30\n",
            "\u001b[1m7/7\u001b[0m \u001b[32m━━━━━━━━━━━━━━━━━━━━\u001b[0m\u001b[37m\u001b[0m \u001b[1m0s\u001b[0m 16ms/step - accuracy: 0.5123 - loss: 0.6929 - val_accuracy: 0.4800 - val_loss: 0.6940\n",
            "Epoch 5/30\n",
            "\u001b[1m7/7\u001b[0m \u001b[32m━━━━━━━━━━━━━━━━━━━━\u001b[0m\u001b[37m\u001b[0m \u001b[1m0s\u001b[0m 15ms/step - accuracy: 0.4761 - loss: 0.6942 - val_accuracy: 0.4800 - val_loss: 0.6937\n",
            "Epoch 6/30\n",
            "\u001b[1m7/7\u001b[0m \u001b[32m━━━━━━━━━━━━━━━━━━━━\u001b[0m\u001b[37m\u001b[0m \u001b[1m0s\u001b[0m 15ms/step - accuracy: 0.5118 - loss: 0.6929 - val_accuracy: 0.4800 - val_loss: 0.6938\n",
            "Epoch 7/30\n",
            "\u001b[1m7/7\u001b[0m \u001b[32m━━━━━━━━━━━━━━━━━━━━\u001b[0m\u001b[37m\u001b[0m \u001b[1m0s\u001b[0m 12ms/step - accuracy: 0.5148 - loss: 0.6928 - val_accuracy: 0.4800 - val_loss: 0.6936\n",
            "Epoch 8/30\n",
            "\u001b[1m7/7\u001b[0m \u001b[32m━━━━━━━━━━━━━━━━━━━━\u001b[0m\u001b[37m\u001b[0m \u001b[1m0s\u001b[0m 11ms/step - accuracy: 0.4969 - loss: 0.6933 - val_accuracy: 0.4800 - val_loss: 0.6933\n",
            "Epoch 9/30\n",
            "\u001b[1m7/7\u001b[0m \u001b[32m━━━━━━━━━━━━━━━━━━━━\u001b[0m\u001b[37m\u001b[0m \u001b[1m0s\u001b[0m 11ms/step - accuracy: 0.5304 - loss: 0.6930 - val_accuracy: 0.4800 - val_loss: 0.6934\n",
            "Epoch 10/30\n",
            "\u001b[1m7/7\u001b[0m \u001b[32m━━━━━━━━━━━━━━━━━━━━\u001b[0m\u001b[37m\u001b[0m \u001b[1m0s\u001b[0m 11ms/step - accuracy: 0.5031 - loss: 0.6932 - val_accuracy: 0.4800 - val_loss: 0.6933\n",
            "Epoch 11/30\n",
            "\u001b[1m7/7\u001b[0m \u001b[32m━━━━━━━━━━━━━━━━━━━━\u001b[0m\u001b[37m\u001b[0m \u001b[1m0s\u001b[0m 11ms/step - accuracy: 0.4370 - loss: 0.6936 - val_accuracy: 0.5200 - val_loss: 0.6931\n",
            "Epoch 12/30\n",
            "\u001b[1m7/7\u001b[0m \u001b[32m━━━━━━━━━━━━━━━━━━━━\u001b[0m\u001b[37m\u001b[0m \u001b[1m0s\u001b[0m 8ms/step - accuracy: 0.4813 - loss: 0.6932 - val_accuracy: 0.4800 - val_loss: 0.6933\n",
            "Epoch 13/30\n",
            "\u001b[1m7/7\u001b[0m \u001b[32m━━━━━━━━━━━━━━━━━━━━\u001b[0m\u001b[37m\u001b[0m \u001b[1m0s\u001b[0m 9ms/step - accuracy: 0.5404 - loss: 0.6929 - val_accuracy: 0.4800 - val_loss: 0.6936\n",
            "Epoch 14/30\n",
            "\u001b[1m7/7\u001b[0m \u001b[32m━━━━━━━━━━━━━━━━━━━━\u001b[0m\u001b[37m\u001b[0m \u001b[1m0s\u001b[0m 12ms/step - accuracy: 0.4993 - loss: 0.6932 - val_accuracy: 0.4800 - val_loss: 0.6933\n",
            "Epoch 15/30\n",
            "\u001b[1m7/7\u001b[0m \u001b[32m━━━━━━━━━━━━━━━━━━━━\u001b[0m\u001b[37m\u001b[0m \u001b[1m0s\u001b[0m 30ms/step - accuracy: 0.5384 - loss: 0.6929 - val_accuracy: 0.4800 - val_loss: 0.6933\n",
            "Epoch 16/30\n",
            "\u001b[1m7/7\u001b[0m \u001b[32m━━━━━━━━━━━━━━━━━━━━\u001b[0m\u001b[37m\u001b[0m \u001b[1m0s\u001b[0m 18ms/step - accuracy: 0.4914 - loss: 0.6933 - val_accuracy: 0.5200 - val_loss: 0.6931\n",
            "Epoch 17/30\n",
            "\u001b[1m7/7\u001b[0m \u001b[32m━━━━━━━━━━━━━━━━━━━━\u001b[0m\u001b[37m\u001b[0m \u001b[1m0s\u001b[0m 8ms/step - accuracy: 0.4772 - loss: 0.6932 - val_accuracy: 0.5200 - val_loss: 0.6931\n",
            "Epoch 18/30\n",
            "\u001b[1m7/7\u001b[0m \u001b[32m━━━━━━━━━━━━━━━━━━━━\u001b[0m\u001b[37m\u001b[0m \u001b[1m0s\u001b[0m 10ms/step - accuracy: 0.4866 - loss: 0.6932 - val_accuracy: 0.5200 - val_loss: 0.6931\n",
            "Epoch 19/30\n",
            "\u001b[1m7/7\u001b[0m \u001b[32m━━━━━━━━━━━━━━━━━━━━\u001b[0m\u001b[37m\u001b[0m \u001b[1m0s\u001b[0m 9ms/step - accuracy: 0.4599 - loss: 0.6932 - val_accuracy: 0.4800 - val_loss: 0.6932\n",
            "Epoch 20/30\n",
            "\u001b[1m7/7\u001b[0m \u001b[32m━━━━━━━━━━━━━━━━━━━━\u001b[0m\u001b[37m\u001b[0m \u001b[1m0s\u001b[0m 9ms/step - accuracy: 0.5251 - loss: 0.6932 - val_accuracy: 0.4800 - val_loss: 0.6933\n",
            "Epoch 21/30\n",
            "\u001b[1m7/7\u001b[0m \u001b[32m━━━━━━━━━━━━━━━━━━━━\u001b[0m\u001b[37m\u001b[0m \u001b[1m0s\u001b[0m 8ms/step - accuracy: 0.5413 - loss: 0.6929 - val_accuracy: 0.4800 - val_loss: 0.6938\n",
            "Epoch 22/30\n",
            "\u001b[1m7/7\u001b[0m \u001b[32m━━━━━━━━━━━━━━━━━━━━\u001b[0m\u001b[37m\u001b[0m \u001b[1m0s\u001b[0m 9ms/step - accuracy: 0.5126 - loss: 0.6929 - val_accuracy: 0.4800 - val_loss: 0.6939\n",
            "Epoch 23/30\n",
            "\u001b[1m7/7\u001b[0m \u001b[32m━━━━━━━━━━━━━━━━━━━━\u001b[0m\u001b[37m\u001b[0m \u001b[1m0s\u001b[0m 8ms/step - accuracy: 0.5420 - loss: 0.6920 - val_accuracy: 0.4800 - val_loss: 0.6937\n",
            "Epoch 24/30\n",
            "\u001b[1m7/7\u001b[0m \u001b[32m━━━━━━━━━━━━━━━━━━━━\u001b[0m\u001b[37m\u001b[0m \u001b[1m0s\u001b[0m 10ms/step - accuracy: 0.5103 - loss: 0.6930 - val_accuracy: 0.4800 - val_loss: 0.6934\n",
            "Epoch 25/30\n",
            "\u001b[1m7/7\u001b[0m \u001b[32m━━━━━━━━━━━━━━━━━━━━\u001b[0m\u001b[37m\u001b[0m \u001b[1m0s\u001b[0m 9ms/step - accuracy: 0.5005 - loss: 0.6932 - val_accuracy: 0.4800 - val_loss: 0.6932\n",
            "Epoch 26/30\n",
            "\u001b[1m7/7\u001b[0m \u001b[32m━━━━━━━━━━━━━━━━━━━━\u001b[0m\u001b[37m\u001b[0m \u001b[1m0s\u001b[0m 8ms/step - accuracy: 0.4383 - loss: 0.6933 - val_accuracy: 0.5200 - val_loss: 0.6931\n",
            "Epoch 27/30\n",
            "\u001b[1m7/7\u001b[0m \u001b[32m━━━━━━━━━━━━━━━━━━━━\u001b[0m\u001b[37m\u001b[0m \u001b[1m0s\u001b[0m 8ms/step - accuracy: 0.5284 - loss: 0.6931 - val_accuracy: 0.5200 - val_loss: 0.6931\n",
            "Epoch 28/30\n",
            "\u001b[1m7/7\u001b[0m \u001b[32m━━━━━━━━━━━━━━━━━━━━\u001b[0m\u001b[37m\u001b[0m \u001b[1m0s\u001b[0m 14ms/step - accuracy: 0.4774 - loss: 0.6932 - val_accuracy: 0.4800 - val_loss: 0.6933\n",
            "Epoch 29/30\n",
            "\u001b[1m7/7\u001b[0m \u001b[32m━━━━━━━━━━━━━━━━━━━━\u001b[0m\u001b[37m\u001b[0m \u001b[1m0s\u001b[0m 18ms/step - accuracy: 0.5085 - loss: 0.6932 - val_accuracy: 0.4800 - val_loss: 0.6936\n",
            "Epoch 30/30\n",
            "\u001b[1m7/7\u001b[0m \u001b[32m━━━━━━━━━━━━━━━━━━━━\u001b[0m\u001b[37m\u001b[0m \u001b[1m0s\u001b[0m 22ms/step - accuracy: 0.5382 - loss: 0.6925 - val_accuracy: 0.4800 - val_loss: 0.6937\n"
          ]
        }
      ],
      "source": [
        "history2 = model2.fit(X, y, epochs = 30, validation_split=0.2)"
      ]
    },
    {
      "cell_type": "code",
      "execution_count": 75,
      "metadata": {
        "id": "NMvuEHtZBnlD"
      },
      "outputs": [],
      "source": [
        "new_weights2 = model2.get_weights()[0]"
      ]
    },
    {
      "cell_type": "code",
      "execution_count": 76,
      "metadata": {
        "colab": {
          "base_uri": "https://localhost:8080/"
        },
        "id": "kUl4Lg6DC4pU",
        "outputId": "85967652-640f-4aeb-de30-7793f22160ab"
      },
      "outputs": [
        {
          "data": {
            "text/plain": [
              "array([[-0.14175737, -0.36765522,  0.11710471, -0.62272793, -0.640067  ,\n",
              "        -0.18557847,  0.40955907,  0.34887677,  0.5295709 , -0.5948417 ],\n",
              "       [ 0.45878178,  0.28642374,  0.70466715,  0.3756451 , -0.6152929 ,\n",
              "        -0.4419382 , -0.25475764,  0.01530856, -0.02954441, -0.25714484]],\n",
              "      dtype=float32)"
            ]
          },
          "execution_count": 76,
          "metadata": {},
          "output_type": "execute_result"
        }
      ],
      "source": [
        "old_weights2"
      ]
    },
    {
      "cell_type": "code",
      "execution_count": 77,
      "metadata": {
        "colab": {
          "base_uri": "https://localhost:8080/"
        },
        "id": "Z29YtjeGC7nT",
        "outputId": "8f42fd98-dd9b-4f1c-daa4-7420f9eeb31b"
      },
      "outputs": [
        {
          "data": {
            "text/plain": [
              "array([[-0.13496879, -0.36643618,  0.1127137 , -0.62476635, -0.64230573,\n",
              "        -0.19345632,  0.42050293,  0.33696657,  0.51954967, -0.6096045 ],\n",
              "       [ 0.45335713,  0.28550994,  0.7078085 ,  0.37747118, -0.6132827 ,\n",
              "        -0.43589988, -0.2642215 ,  0.02533481, -0.02032239, -0.24350855]],\n",
              "      dtype=float32)"
            ]
          },
          "execution_count": 77,
          "metadata": {},
          "output_type": "execute_result"
        }
      ],
      "source": [
        "new_weights2"
      ]
    },
    {
      "cell_type": "code",
      "execution_count": 98,
      "metadata": {
        "colab": {
          "base_uri": "https://localhost:8080/",
          "height": 472
        },
        "id": "12LCsyrMFSFt",
        "outputId": "5e6ea868-032c-49a9-d8a6-283e11e180f4"
      },
      "outputs": [
        {
          "data": {
            "image/png": "[encoded data removed]",
            "text/plain": [
              "<Figure size 640x480 with 1 Axes>"
            ]
          },
          "metadata": {},
          "output_type": "display_data"
        }
      ],
      "source": [
        "plt.plot(history2.history['loss'])\n",
        "plt.plot(history2.history['val_loss'])\n",
        "plt.title('Model Loss in Deep network with sigmoid')\n",
        "plt.legend(['Train', 'Validation'])\n",
        "plt.ylabel('Loss')\n",
        "plt.xlabel('Epoch')\n",
        "plt.show()"
      ]
    },
    {
      "cell_type": "markdown",
      "metadata": {
        "id": "nzpWqJ7-Ej5g"
      },
      "source": [
        "This is Vanishing Gradient problem, even after 30 epochs, weights are very little changed."
      ]
    },
    {
      "cell_type": "markdown",
      "metadata": {
        "id": "Qp0I2w71HNKl"
      },
      "source": [
        "<h2> Mitigation methods </h2>\n",
        "\n",
        "1. Using shallow networks"
      ]
    },
    {
      "cell_type": "code",
      "execution_count": 65,
      "metadata": {
        "colab": {
          "base_uri": "https://localhost:8080/"
        },
        "id": "tzfO3jquTVyY",
        "outputId": "a710aff0-c4ba-437b-8c56-82ab9843c019"
      },
      "outputs": [
        {
          "name": "stderr",
          "output_type": "stream",
          "text": [
            "/usr/local/lib/python3.10/dist-packages/keras/src/layers/core/dense.py:87: UserWarning: Do not pass an `input_shape`/`input_dim` argument to a layer. When using Sequential models, prefer using an `Input(shape)` object as the first layer in the model instead.\n",
            "  super().__init__(activity_regularizer=activity_regularizer, **kwargs)\n"
          ]
        }
      ],
      "source": [
        "model3 = Sequential()\n",
        "model3.add(Dense(10,activation='sigmoid',input_dim=2))\n",
        "model3.add(Dense(10,activation='sigmoid'))\n",
        "model3.add(Dense(10,activation='sigmoid'))\n",
        "model3.add(Dense(1, activation='sigmoid'))\n",
        "\n",
        "model3.compile(loss='binary_crossentropy',optimizer='adam',metrics=['accuracy'])"
      ]
    },
    {
      "cell_type": "code",
      "execution_count": 66,
      "metadata": {
        "id": "CI5zBIvv3x5e"
      },
      "outputs": [],
      "source": [
        "old_weights3 = model3.get_weights()[0]"
      ]
    },
    {
      "cell_type": "code",
      "execution_count": 67,
      "metadata": {
        "colab": {
          "base_uri": "https://localhost:8080/"
        },
        "id": "_0MskkInUhLT",
        "outputId": "a54c0e51-215f-42fd-a5dd-e5f5d1d00d1a"
      },
      "outputs": [
        {
          "name": "stdout",
          "output_type": "stream",
          "text": [
            "Epoch 1/30\n",
            "\u001b[1m7/7\u001b[0m \u001b[32m━━━━━━━━━━━━━━━━━━━━\u001b[0m\u001b[37m\u001b[0m \u001b[1m2s\u001b[0m 43ms/step - accuracy: 0.4768 - loss: 0.6977 - val_accuracy: 0.4800 - val_loss: 0.6971\n",
            "Epoch 2/30\n",
            "\u001b[1m7/7\u001b[0m \u001b[32m━━━━━━━━━━━━━━━━━━━━\u001b[0m\u001b[37m\u001b[0m \u001b[1m0s\u001b[0m 10ms/step - accuracy: 0.5147 - loss: 0.6948 - val_accuracy: 0.4800 - val_loss: 0.6967\n",
            "Epoch 3/30\n",
            "\u001b[1m7/7\u001b[0m \u001b[32m━━━━━━━━━━━━━━━━━━━━\u001b[0m\u001b[37m\u001b[0m \u001b[1m0s\u001b[0m 8ms/step - accuracy: 0.4608 - loss: 0.6970 - val_accuracy: 0.4800 - val_loss: 0.6960\n",
            "Epoch 4/30\n",
            "\u001b[1m7/7\u001b[0m \u001b[32m━━━━━━━━━━━━━━━━━━━━\u001b[0m\u001b[37m\u001b[0m \u001b[1m0s\u001b[0m 7ms/step - accuracy: 0.4905 - loss: 0.6951 - val_accuracy: 0.4800 - val_loss: 0.6957\n",
            "Epoch 5/30\n",
            "\u001b[1m7/7\u001b[0m \u001b[32m━━━━━━━━━━━━━━━━━━━━\u001b[0m\u001b[37m\u001b[0m \u001b[1m0s\u001b[0m 7ms/step - accuracy: 0.4933 - loss: 0.6948 - val_accuracy: 0.4800 - val_loss: 0.6952\n",
            "Epoch 6/30\n",
            "\u001b[1m7/7\u001b[0m \u001b[32m━━━━━━━━━━━━━━━━━━━━\u001b[0m\u001b[37m\u001b[0m \u001b[1m0s\u001b[0m 7ms/step - accuracy: 0.5201 - loss: 0.6940 - val_accuracy: 0.4800 - val_loss: 0.6950\n",
            "Epoch 7/30\n",
            "\u001b[1m7/7\u001b[0m \u001b[32m━━━━━━━━━━━━━━━━━━━━\u001b[0m\u001b[37m\u001b[0m \u001b[1m0s\u001b[0m 7ms/step - accuracy: 0.5301 - loss: 0.6935 - val_accuracy: 0.4800 - val_loss: 0.6948\n",
            "Epoch 8/30\n",
            "\u001b[1m7/7\u001b[0m \u001b[32m━━━━━━━━━━━━━━━━━━━━\u001b[0m\u001b[37m\u001b[0m \u001b[1m0s\u001b[0m 12ms/step - accuracy: 0.5352 - loss: 0.6930 - val_accuracy: 0.4800 - val_loss: 0.6945\n",
            "Epoch 9/30\n",
            "\u001b[1m7/7\u001b[0m \u001b[32m━━━━━━━━━━━━━━━━━━━━\u001b[0m\u001b[37m\u001b[0m \u001b[1m0s\u001b[0m 10ms/step - accuracy: 0.4981 - loss: 0.6937 - val_accuracy: 0.4800 - val_loss: 0.6940\n",
            "Epoch 10/30\n",
            "\u001b[1m7/7\u001b[0m \u001b[32m━━━━━━━━━━━━━━━━━━━━\u001b[0m\u001b[37m\u001b[0m \u001b[1m0s\u001b[0m 7ms/step - accuracy: 0.4648 - loss: 0.6939 - val_accuracy: 0.4800 - val_loss: 0.6938\n",
            "Epoch 11/30\n",
            "\u001b[1m7/7\u001b[0m \u001b[32m━━━━━━━━━━━━━━━━━━━━\u001b[0m\u001b[37m\u001b[0m \u001b[1m0s\u001b[0m 10ms/step - accuracy: 0.4837 - loss: 0.6935 - val_accuracy: 0.4800 - val_loss: 0.6939\n",
            "Epoch 12/30\n",
            "\u001b[1m7/7\u001b[0m \u001b[32m━━━━━━━━━━━━━━━━━━━━\u001b[0m\u001b[37m\u001b[0m \u001b[1m0s\u001b[0m 10ms/step - accuracy: 0.5007 - loss: 0.6930 - val_accuracy: 0.4800 - val_loss: 0.6942\n",
            "Epoch 13/30\n",
            "\u001b[1m7/7\u001b[0m \u001b[32m━━━━━━━━━━━━━━━━━━━━\u001b[0m\u001b[37m\u001b[0m \u001b[1m0s\u001b[0m 10ms/step - accuracy: 0.5005 - loss: 0.6931 - val_accuracy: 0.4800 - val_loss: 0.6942\n",
            "Epoch 14/30\n",
            "\u001b[1m7/7\u001b[0m \u001b[32m━━━━━━━━━━━━━━━━━━━━\u001b[0m\u001b[37m\u001b[0m \u001b[1m0s\u001b[0m 7ms/step - accuracy: 0.4826 - loss: 0.6941 - val_accuracy: 0.4800 - val_loss: 0.6938\n",
            "Epoch 15/30\n",
            "\u001b[1m7/7\u001b[0m \u001b[32m━━━━━━━━━━━━━━━━━━━━\u001b[0m\u001b[37m\u001b[0m \u001b[1m0s\u001b[0m 11ms/step - accuracy: 0.5157 - loss: 0.6919 - val_accuracy: 0.4800 - val_loss: 0.6939\n",
            "Epoch 16/30\n",
            "\u001b[1m7/7\u001b[0m \u001b[32m━━━━━━━━━━━━━━━━━━━━\u001b[0m\u001b[37m\u001b[0m \u001b[1m0s\u001b[0m 7ms/step - accuracy: 0.4847 - loss: 0.6937 - val_accuracy: 0.4800 - val_loss: 0.6936\n",
            "Epoch 17/30\n",
            "\u001b[1m7/7\u001b[0m \u001b[32m━━━━━━━━━━━━━━━━━━━━\u001b[0m\u001b[37m\u001b[0m \u001b[1m0s\u001b[0m 10ms/step - accuracy: 0.5220 - loss: 0.6910 - val_accuracy: 0.4800 - val_loss: 0.6936\n",
            "Epoch 18/30\n",
            "\u001b[1m7/7\u001b[0m \u001b[32m━━━━━━━━━━━━━━━━━━━━\u001b[0m\u001b[37m\u001b[0m \u001b[1m0s\u001b[0m 13ms/step - accuracy: 0.5340 - loss: 0.6898 - val_accuracy: 0.4800 - val_loss: 0.6936\n",
            "Epoch 19/30\n",
            "\u001b[1m7/7\u001b[0m \u001b[32m━━━━━━━━━━━━━━━━━━━━\u001b[0m\u001b[37m\u001b[0m \u001b[1m0s\u001b[0m 14ms/step - accuracy: 0.5032 - loss: 0.6921 - val_accuracy: 0.4800 - val_loss: 0.6935\n",
            "Epoch 20/30\n",
            "\u001b[1m7/7\u001b[0m \u001b[32m━━━━━━━━━━━━━━━━━━━━\u001b[0m\u001b[37m\u001b[0m \u001b[1m0s\u001b[0m 24ms/step - accuracy: 0.4901 - loss: 0.6930 - val_accuracy: 0.4800 - val_loss: 0.6933\n",
            "Epoch 21/30\n",
            "\u001b[1m7/7\u001b[0m \u001b[32m━━━━━━━━━━━━━━━━━━━━\u001b[0m\u001b[37m\u001b[0m \u001b[1m0s\u001b[0m 33ms/step - accuracy: 0.5522 - loss: 0.6870 - val_accuracy: 0.4800 - val_loss: 0.6931\n",
            "Epoch 22/30\n",
            "\u001b[1m7/7\u001b[0m \u001b[32m━━━━━━━━━━━━━━━━━━━━\u001b[0m\u001b[37m\u001b[0m \u001b[1m0s\u001b[0m 15ms/step - accuracy: 0.4909 - loss: 0.6927 - val_accuracy: 0.4800 - val_loss: 0.6921\n",
            "Epoch 23/30\n",
            "\u001b[1m7/7\u001b[0m \u001b[32m━━━━━━━━━━━━━━━━━━━━\u001b[0m\u001b[37m\u001b[0m \u001b[1m0s\u001b[0m 12ms/step - accuracy: 0.5154 - loss: 0.6898 - val_accuracy: 0.4800 - val_loss: 0.6911\n",
            "Epoch 24/30\n",
            "\u001b[1m7/7\u001b[0m \u001b[32m━━━━━━━━━━━━━━━━━━━━\u001b[0m\u001b[37m\u001b[0m \u001b[1m0s\u001b[0m 14ms/step - accuracy: 0.5124 - loss: 0.6897 - val_accuracy: 0.4800 - val_loss: 0.6903\n",
            "Epoch 25/30\n",
            "\u001b[1m7/7\u001b[0m \u001b[32m━━━━━━━━━━━━━━━━━━━━\u001b[0m\u001b[37m\u001b[0m \u001b[1m0s\u001b[0m 13ms/step - accuracy: 0.5376 - loss: 0.6885 - val_accuracy: 0.4800 - val_loss: 0.6896\n",
            "Epoch 26/30\n",
            "\u001b[1m7/7\u001b[0m \u001b[32m━━━━━━━━━━━━━━━━━━━━\u001b[0m\u001b[37m\u001b[0m \u001b[1m0s\u001b[0m 11ms/step - accuracy: 0.4972 - loss: 0.6901 - val_accuracy: 0.4800 - val_loss: 0.6890\n",
            "Epoch 27/30\n",
            "\u001b[1m7/7\u001b[0m \u001b[32m━━━━━━━━━━━━━━━━━━━━\u001b[0m\u001b[37m\u001b[0m \u001b[1m0s\u001b[0m 11ms/step - accuracy: 0.5137 - loss: 0.6891 - val_accuracy: 0.4800 - val_loss: 0.6888\n",
            "Epoch 28/30\n",
            "\u001b[1m7/7\u001b[0m \u001b[32m━━━━━━━━━━━━━━━━━━━━\u001b[0m\u001b[37m\u001b[0m \u001b[1m0s\u001b[0m 14ms/step - accuracy: 0.5330 - loss: 0.6883 - val_accuracy: 0.4800 - val_loss: 0.6884\n",
            "Epoch 29/30\n",
            "\u001b[1m7/7\u001b[0m \u001b[32m━━━━━━━━━━━━━━━━━━━━\u001b[0m\u001b[37m\u001b[0m \u001b[1m0s\u001b[0m 14ms/step - accuracy: 0.5022 - loss: 0.6887 - val_accuracy: 0.4800 - val_loss: 0.6880\n",
            "Epoch 30/30\n",
            "\u001b[1m7/7\u001b[0m \u001b[32m━━━━━━━━━━━━━━━━━━━━\u001b[0m\u001b[37m\u001b[0m \u001b[1m0s\u001b[0m 19ms/step - accuracy: 0.5098 - loss: 0.6882 - val_accuracy: 0.4800 - val_loss: 0.6876\n"
          ]
        }
      ],
      "source": [
        "history3 = model3.fit(X, y, epochs = 30, validation_split=0.2)"
      ]
    },
    {
      "cell_type": "code",
      "execution_count": 87,
      "metadata": {
        "id": "J6PwGDAvUGGg"
      },
      "outputs": [],
      "source": [
        "new_weights3 = model3.get_weights()[0]"
      ]
    },
    {
      "cell_type": "code",
      "execution_count": 97,
      "metadata": {
        "colab": {
          "base_uri": "https://localhost:8080/",
          "height": 472
        },
        "id": "rQHkRxudJQME",
        "outputId": "04327e0f-fb87-4bfe-fd30-cd5be8310388"
      },
      "outputs": [
        {
          "data": {
            "image/png": "[encoded data removed]",
            "text/plain": [
              "<Figure size 640x480 with 1 Axes>"
            ]
          },
          "metadata": {},
          "output_type": "display_data"
        }
      ],
      "source": [
        "plt.plot(history3.history['loss'])\n",
        "plt.plot(history3.history['val_loss'])\n",
        "plt.title('Model Loss in Shallow network with sigmoid')\n",
        "plt.legend(['Train', 'Validation'])\n",
        "plt.ylabel('Loss')\n",
        "plt.xlabel('Epoch')\n",
        "plt.show()"
      ]
    },
    {
      "cell_type": "markdown",
      "metadata": {
        "id": "uLEDqvybLnuZ"
      },
      "source": [
        "2. Using Different activation functions like ReLU."
      ]
    },
    {
      "cell_type": "code",
      "execution_count": 101,
      "metadata": {
        "colab": {
          "base_uri": "https://localhost:8080/"
        },
        "id": "UVYeyxsJL1Up",
        "outputId": "f386cfbe-ef0c-4928-ab4b-6c742a7474f9"
      },
      "outputs": [
        {
          "name": "stderr",
          "output_type": "stream",
          "text": [
            "/usr/local/lib/python3.10/dist-packages/keras/src/layers/core/dense.py:87: UserWarning: Do not pass an `input_shape`/`input_dim` argument to a layer. When using Sequential models, prefer using an `Input(shape)` object as the first layer in the model instead.\n",
            "  super().__init__(activity_regularizer=activity_regularizer, **kwargs)\n"
          ]
        }
      ],
      "source": [
        "model4 = Sequential()\n",
        "\n",
        "model4.add(Dense(10,activation='relu',input_dim=2))\n",
        "model4.add(Dense(10,activation='relu'))\n",
        "model4.add(Dense(10,activation='relu'))\n",
        "model4.add(Dense(10,activation='relu'))\n",
        "model4.add(Dense(10,activation='relu'))\n",
        "model4.add(Dense(10,activation='relu'))\n",
        "model4.add(Dense(10,activation='relu'))\n",
        "model4.add(Dense(10,activation='relu'))\n",
        "model4.add(Dense(10,activation='relu'))\n",
        "model4.add(Dense(10,activation='relu'))\n",
        "model4.add(Dense(10,activation='relu'))\n",
        "model4.add(Dense(1, activation='sigmoid'))\n",
        "\n",
        "model4.compile(loss='binary_crossentropy',optimizer='adam',metrics=['accuracy'])"
      ]
    },
    {
      "cell_type": "code",
      "execution_count": 102,
      "metadata": {
        "id": "3qMqyau4MxAS"
      },
      "outputs": [],
      "source": [
        "old_weights4 = model4.get_weights()[0]"
      ]
    },
    {
      "cell_type": "code",
      "execution_count": 103,
      "metadata": {
        "colab": {
          "base_uri": "https://localhost:8080/"
        },
        "id": "Dp7Khm3kMKNY",
        "outputId": "72df59b1-4daa-4eab-dae3-7a8e297406cc"
      },
      "outputs": [
        {
          "name": "stdout",
          "output_type": "stream",
          "text": [
            "Epoch 1/30\n",
            "\u001b[1m7/7\u001b[0m \u001b[32m━━━━━━━━━━━━━━━━━━━━\u001b[0m\u001b[37m\u001b[0m \u001b[1m4s\u001b[0m 54ms/step - accuracy: 0.5111 - loss: 0.6927 - val_accuracy: 0.4800 - val_loss: 0.6913\n",
            "Epoch 2/30\n",
            "\u001b[1m7/7\u001b[0m \u001b[32m━━━━━━━━━━━━━━━━━━━━\u001b[0m\u001b[37m\u001b[0m \u001b[1m0s\u001b[0m 8ms/step - accuracy: 0.4978 - loss: 0.6903 - val_accuracy: 0.4800 - val_loss: 0.6882\n",
            "Epoch 3/30\n",
            "\u001b[1m7/7\u001b[0m \u001b[32m━━━━━━━━━━━━━━━━━━━━\u001b[0m\u001b[37m\u001b[0m \u001b[1m0s\u001b[0m 8ms/step - accuracy: 0.5220 - loss: 0.6862 - val_accuracy: 0.4800 - val_loss: 0.6830\n",
            "Epoch 4/30\n",
            "\u001b[1m7/7\u001b[0m \u001b[32m━━━━━━━━━━━━━━━━━━━━\u001b[0m\u001b[37m\u001b[0m \u001b[1m0s\u001b[0m 11ms/step - accuracy: 0.5167 - loss: 0.6801 - val_accuracy: 0.7400 - val_loss: 0.6758\n",
            "Epoch 5/30\n",
            "\u001b[1m7/7\u001b[0m \u001b[32m━━━━━━━━━━━━━━━━━━━━\u001b[0m\u001b[37m\u001b[0m \u001b[1m0s\u001b[0m 11ms/step - accuracy: 0.7329 - loss: 0.6731 - val_accuracy: 0.8000 - val_loss: 0.6651\n",
            "Epoch 6/30\n",
            "\u001b[1m7/7\u001b[0m \u001b[32m━━━━━━━━━━━━━━━━━━━━\u001b[0m\u001b[37m\u001b[0m \u001b[1m0s\u001b[0m 11ms/step - accuracy: 0.8138 - loss: 0.6619 - val_accuracy: 0.8400 - val_loss: 0.6504\n",
            "Epoch 7/30\n",
            "\u001b[1m7/7\u001b[0m \u001b[32m━━━━━━━━━━━━━━━━━━━━\u001b[0m\u001b[37m\u001b[0m \u001b[1m0s\u001b[0m 10ms/step - accuracy: 0.7662 - loss: 0.6451 - val_accuracy: 0.8200 - val_loss: 0.6307\n",
            "Epoch 8/30\n",
            "\u001b[1m7/7\u001b[0m \u001b[32m━━━━━━━━━━━━━━━━━━━━\u001b[0m\u001b[37m\u001b[0m \u001b[1m0s\u001b[0m 11ms/step - accuracy: 0.7899 - loss: 0.6287 - val_accuracy: 0.8600 - val_loss: 0.6039\n",
            "Epoch 9/30\n",
            "\u001b[1m7/7\u001b[0m \u001b[32m━━━━━━━━━━━━━━━━━━━━\u001b[0m\u001b[37m\u001b[0m \u001b[1m0s\u001b[0m 11ms/step - accuracy: 0.8340 - loss: 0.5908 - val_accuracy: 0.8800 - val_loss: 0.5713\n",
            "Epoch 10/30\n",
            "\u001b[1m7/7\u001b[0m \u001b[32m━━━━━━━━━━━━━━━━━━━━\u001b[0m\u001b[37m\u001b[0m \u001b[1m0s\u001b[0m 8ms/step - accuracy: 0.8020 - loss: 0.5757 - val_accuracy: 0.8800 - val_loss: 0.5349\n",
            "Epoch 11/30\n",
            "\u001b[1m7/7\u001b[0m \u001b[32m━━━━━━━━━━━━━━━━━━━━\u001b[0m\u001b[37m\u001b[0m \u001b[1m0s\u001b[0m 8ms/step - accuracy: 0.8354 - loss: 0.5222 - val_accuracy: 0.8600 - val_loss: 0.4973\n",
            "Epoch 12/30\n",
            "\u001b[1m7/7\u001b[0m \u001b[32m━━━━━━━━━━━━━━━━━━━━\u001b[0m\u001b[37m\u001b[0m \u001b[1m0s\u001b[0m 8ms/step - accuracy: 0.8566 - loss: 0.4812 - val_accuracy: 0.8800 - val_loss: 0.4524\n",
            "Epoch 13/30\n",
            "\u001b[1m7/7\u001b[0m \u001b[32m━━━━━━━━━━━━━━━━━━━━\u001b[0m\u001b[37m\u001b[0m \u001b[1m0s\u001b[0m 9ms/step - accuracy: 0.8695 - loss: 0.4479 - val_accuracy: 0.8800 - val_loss: 0.4252\n",
            "Epoch 14/30\n",
            "\u001b[1m7/7\u001b[0m \u001b[32m━━━━━━━━━━━━━━━━━━━━\u001b[0m\u001b[37m\u001b[0m \u001b[1m0s\u001b[0m 9ms/step - accuracy: 0.9140 - loss: 0.4076 - val_accuracy: 0.9200 - val_loss: 0.3844\n",
            "Epoch 15/30\n",
            "\u001b[1m7/7\u001b[0m \u001b[32m━━━━━━━━━━━━━━━━━━━━\u001b[0m\u001b[37m\u001b[0m \u001b[1m0s\u001b[0m 13ms/step - accuracy: 0.8999 - loss: 0.3917 - val_accuracy: 0.9400 - val_loss: 0.3593\n",
            "Epoch 16/30\n",
            "\u001b[1m7/7\u001b[0m \u001b[32m━━━━━━━━━━━━━━━━━━━━\u001b[0m\u001b[37m\u001b[0m \u001b[1m0s\u001b[0m 17ms/step - accuracy: 0.9240 - loss: 0.3442 - val_accuracy: 0.9400 - val_loss: 0.3395\n",
            "Epoch 17/30\n",
            "\u001b[1m7/7\u001b[0m \u001b[32m━━━━━━━━━━━━━━━━━━━━\u001b[0m\u001b[37m\u001b[0m \u001b[1m0s\u001b[0m 17ms/step - accuracy: 0.9049 - loss: 0.3312 - val_accuracy: 0.9600 - val_loss: 0.2965\n",
            "Epoch 18/30\n",
            "\u001b[1m7/7\u001b[0m \u001b[32m━━━━━━━━━━━━━━━━━━━━\u001b[0m\u001b[37m\u001b[0m \u001b[1m0s\u001b[0m 16ms/step - accuracy: 0.9281 - loss: 0.3099 - val_accuracy: 0.9400 - val_loss: 0.2777\n",
            "Epoch 19/30\n",
            "\u001b[1m7/7\u001b[0m \u001b[32m━━━━━━━━━━━━━━━━━━━━\u001b[0m\u001b[37m\u001b[0m \u001b[1m0s\u001b[0m 14ms/step - accuracy: 0.9293 - loss: 0.2747 - val_accuracy: 0.9600 - val_loss: 0.2248\n",
            "Epoch 20/30\n",
            "\u001b[1m7/7\u001b[0m \u001b[32m━━━━━━━━━━━━━━━━━━━━\u001b[0m\u001b[37m\u001b[0m \u001b[1m0s\u001b[0m 15ms/step - accuracy: 0.9469 - loss: 0.2462 - val_accuracy: 0.9800 - val_loss: 0.1804\n",
            "Epoch 21/30\n",
            "\u001b[1m7/7\u001b[0m \u001b[32m━━━━━━━━━━━━━━━━━━━━\u001b[0m\u001b[37m\u001b[0m \u001b[1m0s\u001b[0m 14ms/step - accuracy: 0.9223 - loss: 0.2263 - val_accuracy: 0.9400 - val_loss: 0.2044\n",
            "Epoch 22/30\n",
            "\u001b[1m7/7\u001b[0m \u001b[32m━━━━━━━━━━━━━━━━━━━━\u001b[0m\u001b[37m\u001b[0m \u001b[1m0s\u001b[0m 15ms/step - accuracy: 0.9416 - loss: 0.1841 - val_accuracy: 0.9800 - val_loss: 0.1300\n",
            "Epoch 23/30\n",
            "\u001b[1m7/7\u001b[0m \u001b[32m━━━━━━━━━━━━━━━━━━━━\u001b[0m\u001b[37m\u001b[0m \u001b[1m0s\u001b[0m 16ms/step - accuracy: 0.9466 - loss: 0.1716 - val_accuracy: 0.9600 - val_loss: 0.1411\n",
            "Epoch 24/30\n",
            "\u001b[1m7/7\u001b[0m \u001b[32m━━━━━━━━━━━━━━━━━━━━\u001b[0m\u001b[37m\u001b[0m \u001b[1m0s\u001b[0m 17ms/step - accuracy: 0.9549 - loss: 0.1477 - val_accuracy: 0.9800 - val_loss: 0.1088\n",
            "Epoch 25/30\n",
            "\u001b[1m7/7\u001b[0m \u001b[32m━━━━━━━━━━━━━━━━━━━━\u001b[0m\u001b[37m\u001b[0m \u001b[1m0s\u001b[0m 16ms/step - accuracy: 0.9521 - loss: 0.1637 - val_accuracy: 0.9400 - val_loss: 0.1664\n",
            "Epoch 26/30\n",
            "\u001b[1m7/7\u001b[0m \u001b[32m━━━━━━━━━━━━━━━━━━━━\u001b[0m\u001b[37m\u001b[0m \u001b[1m0s\u001b[0m 17ms/step - accuracy: 0.9418 - loss: 0.1356 - val_accuracy: 0.9600 - val_loss: 0.1288\n",
            "Epoch 27/30\n",
            "\u001b[1m7/7\u001b[0m \u001b[32m━━━━━━━━━━━━━━━━━━━━\u001b[0m\u001b[37m\u001b[0m \u001b[1m0s\u001b[0m 20ms/step - accuracy: 0.9428 - loss: 0.1429 - val_accuracy: 0.9400 - val_loss: 0.1311\n",
            "Epoch 28/30\n",
            "\u001b[1m7/7\u001b[0m \u001b[32m━━━━━━━━━━━━━━━━━━━━\u001b[0m\u001b[37m\u001b[0m \u001b[1m0s\u001b[0m 13ms/step - accuracy: 0.9473 - loss: 0.1298 - val_accuracy: 0.9400 - val_loss: 0.1282\n",
            "Epoch 29/30\n",
            "\u001b[1m7/7\u001b[0m \u001b[32m━━━━━━━━━━━━━━━━━━━━\u001b[0m\u001b[37m\u001b[0m \u001b[1m0s\u001b[0m 19ms/step - accuracy: 0.9567 - loss: 0.1264 - val_accuracy: 0.9800 - val_loss: 0.0903\n",
            "Epoch 30/30\n",
            "\u001b[1m7/7\u001b[0m \u001b[32m━━━━━━━━━━━━━━━━━━━━\u001b[0m\u001b[37m\u001b[0m \u001b[1m0s\u001b[0m 16ms/step - accuracy: 0.9534 - loss: 0.1309 - val_accuracy: 0.9600 - val_loss: 0.1146\n"
          ]
        }
      ],
      "source": [
        "history4 = model4.fit(X, y, epochs = 30, validation_split=0.2)"
      ]
    },
    {
      "cell_type": "code",
      "execution_count": 104,
      "metadata": {
        "colab": {
          "base_uri": "https://localhost:8080/",
          "height": 472
        },
        "id": "mqZQkIHsMUZo",
        "outputId": "b2449d04-7296-4837-f725-52b812f1c780"
      },
      "outputs": [
        {
          "data": {
            "image/png": "[encoded data removed]",
            "text/plain": [
              "<Figure size 640x480 with 1 Axes>"
            ]
          },
          "metadata": {},
          "output_type": "display_data"
        }
      ],
      "source": [
        "plt.plot(history4.history['loss'])\n",
        "plt.plot(history4.history['val_loss'])\n",
        "plt.title('Model Loss with ReLU')\n",
        "plt.legend(['Train', 'Validation'])\n",
        "plt.ylabel('Loss')\n",
        "plt.xlabel('Epoch')\n",
        "plt.show()"
      ]
    },
    {
      "cell_type": "code",
      "execution_count": 105,
      "metadata": {
        "id": "dDm0uqmoMv_y"
      },
      "outputs": [],
      "source": [
        "new_weights4 = model4.get_weights()[0]"
      ]
    },
    {
      "cell_type": "code",
      "execution_count": 106,
      "metadata": {
        "colab": {
          "base_uri": "https://localhost:8080/"
        },
        "id": "ABQH8KJVM01C",
        "outputId": "5bb2e3fb-412e-4432-9a16-58d9d0f95f21"
      },
      "outputs": [
        {
          "data": {
            "text/plain": [
              "array([[ 0.09313273, -0.34676674,  0.3480901 ,  0.14434624,  0.21729434,\n",
              "        -0.4869082 , -0.18136191, -0.37830016, -0.50554067,  0.27260143],\n",
              "       [ 0.39936477, -0.3303888 ,  0.03930157, -0.57433814,  0.22554529,\n",
              "         0.0604701 ,  0.20925403, -0.39978763,  0.11224866,  0.19098711]],\n",
              "      dtype=float32)"
            ]
          },
          "execution_count": 106,
          "metadata": {},
          "output_type": "execute_result"
        }
      ],
      "source": [
        "old_weights4"
      ]
    },
    {
      "cell_type": "code",
      "execution_count": 107,
      "metadata": {
        "colab": {
          "base_uri": "https://localhost:8080/"
        },
        "id": "XIvmFkcuM298",
        "outputId": "d2efc271-b45c-474d-fa2d-c86845d3c0fc"
      },
      "outputs": [
        {
          "data": {
            "text/plain": [
              "array([[ 0.0615401 , -0.39096433,  0.36619243,  0.21088934,  0.24768326,\n",
              "        -0.60518754, -0.3038951 , -0.33834648, -0.64098793,  0.41968668],\n",
              "       [ 0.48043084, -0.28699946,  0.07628641, -0.55546594,  0.14451505,\n",
              "         0.2042543 ,  0.27425638, -0.41722372,  0.16629043,  0.25241712]],\n",
              "      dtype=float32)"
            ]
          },
          "execution_count": 107,
          "metadata": {},
          "output_type": "execute_result"
        }
      ],
      "source": [
        "new_weights4"
      ]
    }
  ],
  "metadata": {
    "accelerator": "TPU",
    "colab": {
      "gpuType": "V28",
      "provenance": []
    },
    "kernelspec": {
      "display_name": "Python 3",
      "name": "python3"
    },
    "language_info": {
      "name": "python"
    }
  },
  "nbformat": 4,
  "nbformat_minor": 0
}
